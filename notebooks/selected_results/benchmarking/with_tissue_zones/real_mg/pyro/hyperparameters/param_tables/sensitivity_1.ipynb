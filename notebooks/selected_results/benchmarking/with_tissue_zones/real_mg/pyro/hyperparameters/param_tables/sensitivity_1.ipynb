{
 "cells": [
  {
   "cell_type": "code",
   "execution_count": 1,
   "id": "mediterranean-wrist",
   "metadata": {},
   "outputs": [],
   "source": [
    "import scipy.sparse\n",
    "import matplotlib\n",
    "from functools import partial\n",
    "from scipy import interpolate\n",
    "from itertools import cycle\n",
    "import pandas as pd\n",
    "import pyro\n",
    "import torch\n",
    "import anndata\n",
    "import scanpy as sc \n",
    "import numpy as np\n",
    "import sys\n",
    "import matplotlib.pyplot as plt \n",
    "\n",
    "sys.path.insert(1, '/nfs/team205/vk7/sanger_projects/BayraktarLab/scvi-tools/')\n",
    "\n",
    "import scvi\n",
    "\n",
    "\n",
    "%config InlineBackend.figure_format='retina'"
   ]
  },
  {
   "cell_type": "code",
   "execution_count": 2,
   "id": "noticed-roulette",
   "metadata": {},
   "outputs": [],
   "source": [
    "NOTEBOOK_NUMBER = 1\n",
    "\n",
    "torch.cuda.set_device(f'cuda:{NOTEBOOK_NUMBER}')\n",
    "\n",
    "table_dir = '/nfs/team205/vk7/sanger_projects/cell2location_paper/notebooks/selected_results/benchmarking/with_tissue_zones/real_mg/pyro/hyperparameters/'\n",
    "\n",
    "sc_data_folder = '/nfs/team205/vk7/sanger_projects/cell2location_paper/notebooks/selected_data/mouse_visium_snrna/'\n",
    "sp_data_folder = '/nfs/team205/vk7/sanger_projects/cell2location_paper/notebooks/selected_results/benchmarking/with_tissue_zones/data/'\n",
    "sc_results_folder = '/nfs/team205/vk7/sanger_projects/cell2location_paper/notebooks/selected_results/benchmarking/with_tissue_zones/real_mg/'\n",
    "results_folder = '/nfs/team205/vk7/sanger_projects/cell2location_paper/notebooks/selected_results/benchmarking/with_tissue_zones/real_mg/pyro/'\n",
    "# results_folder = table_dir\n",
    "\n",
    "scvi_run_name = f'{results_folder}test_regression_normalisation_adam_lr0002_test_data'"
   ]
  },
  {
   "cell_type": "code",
   "execution_count": 3,
   "id": "mediterranean-stone",
   "metadata": {},
   "outputs": [],
   "source": [
    "conditions = pd.read_csv(f'{table_dir}/param_tables/table_{NOTEBOOK_NUMBER}.csv')"
   ]
  },
  {
   "cell_type": "code",
   "execution_count": 4,
   "id": "blind-lottery",
   "metadata": {},
   "outputs": [
    {
     "name": "stderr",
     "output_type": "stream",
     "text": [
      "/nfs/team283/vk7/software/miniconda3farm5/envs/scvi-env2/lib/python3.7/site-packages/pandas/core/arrays/categorical.py:2487: FutureWarning: The `inplace` parameter in pandas.Categorical.remove_unused_categories is deprecated and will be removed in a future version.\n",
      "  res = method(*args, **kwargs)\n",
      "Trying to set attribute `.uns` of view, copying.\n"
     ]
    }
   ],
   "source": [
    "adata = anndata.read(f'{sp_data_folder}synth_adata_real_mg_20210131.h5ad')\n",
    "adata_vis = adata[adata.obs['sample']=='exper0']\n",
    "adata_vis.uns['spatial'] = {'x': 'y'}"
   ]
  },
  {
   "cell_type": "code",
   "execution_count": 5,
   "id": "valued-formula",
   "metadata": {},
   "outputs": [
    {
     "data": {
      "text/html": [
       "<div>\n",
       "<style scoped>\n",
       "    .dataframe tbody tr th:only-of-type {\n",
       "        vertical-align: middle;\n",
       "    }\n",
       "\n",
       "    .dataframe tbody tr th {\n",
       "        vertical-align: top;\n",
       "    }\n",
       "\n",
       "    .dataframe thead th {\n",
       "        text-align: right;\n",
       "    }\n",
       "</style>\n",
       "<table border=\"1\" class=\"dataframe\">\n",
       "  <thead>\n",
       "    <tr style=\"text-align: right;\">\n",
       "      <th></th>\n",
       "      <th>Astro_AMY</th>\n",
       "      <th>Astro_AMY_CTX</th>\n",
       "      <th>Astro_CTX</th>\n",
       "      <th>Astro_HPC</th>\n",
       "      <th>Astro_HYPO</th>\n",
       "    </tr>\n",
       "    <tr>\n",
       "      <th>ENSEMBL</th>\n",
       "      <th></th>\n",
       "      <th></th>\n",
       "      <th></th>\n",
       "      <th></th>\n",
       "      <th></th>\n",
       "    </tr>\n",
       "  </thead>\n",
       "  <tbody>\n",
       "    <tr>\n",
       "      <th>ENSMUSG00000051951</th>\n",
       "      <td>0.050511</td>\n",
       "      <td>0.105329</td>\n",
       "      <td>0.039299</td>\n",
       "      <td>0.176706</td>\n",
       "      <td>0.032688</td>\n",
       "    </tr>\n",
       "    <tr>\n",
       "      <th>ENSMUSG00000089699</th>\n",
       "      <td>0.031588</td>\n",
       "      <td>0.025723</td>\n",
       "      <td>0.008132</td>\n",
       "      <td>0.014632</td>\n",
       "      <td>0.032263</td>\n",
       "    </tr>\n",
       "    <tr>\n",
       "      <th>ENSMUSG00000033845</th>\n",
       "      <td>0.140224</td>\n",
       "      <td>0.064763</td>\n",
       "      <td>0.073241</td>\n",
       "      <td>0.065900</td>\n",
       "      <td>0.087580</td>\n",
       "    </tr>\n",
       "    <tr>\n",
       "      <th>ENSMUSG00000033813</th>\n",
       "      <td>0.085916</td>\n",
       "      <td>0.130148</td>\n",
       "      <td>0.180947</td>\n",
       "      <td>0.105858</td>\n",
       "      <td>0.070225</td>\n",
       "    </tr>\n",
       "    <tr>\n",
       "      <th>ENSMUSG00000002459</th>\n",
       "      <td>2.846514</td>\n",
       "      <td>3.509084</td>\n",
       "      <td>3.756964</td>\n",
       "      <td>4.002057</td>\n",
       "      <td>1.390353</td>\n",
       "    </tr>\n",
       "  </tbody>\n",
       "</table>\n",
       "</div>"
      ],
      "text/plain": [
       "                    Astro_AMY  Astro_AMY_CTX  Astro_CTX  Astro_HPC  Astro_HYPO\n",
       "ENSEMBL                                                                       \n",
       "ENSMUSG00000051951   0.050511       0.105329   0.039299   0.176706    0.032688\n",
       "ENSMUSG00000089699   0.031588       0.025723   0.008132   0.014632    0.032263\n",
       "ENSMUSG00000033845   0.140224       0.064763   0.073241   0.065900    0.087580\n",
       "ENSMUSG00000033813   0.085916       0.130148   0.180947   0.105858    0.070225\n",
       "ENSMUSG00000002459   2.846514       3.509084   3.756964   4.002057    1.390353"
      ]
     },
     "execution_count": 5,
     "metadata": {},
     "output_type": "execute_result"
    }
   ],
   "source": [
    "# Save anndata object with signatures\n",
    "adata_file = f\"{scvi_run_name}_ref/sc.h5ad\"\n",
    "adata_snrna_raw = sc.read_h5ad(adata_file)\n",
    "\n",
    "# export estimated expression in each cluster\n",
    "if 'means_per_cluster_mu_fg' in adata_snrna_raw.varm.keys():\n",
    "    regr_inf_aver = adata_snrna_raw.varm['means_per_cluster_mu_fg'][[f'means_per_cluster_mu_fg_{i}' \n",
    "                                        for i in adata_snrna_raw.uns['mod']['factor_names']]].copy()\n",
    "else:\n",
    "    regr_inf_aver = adata_snrna_raw.var[[f'means_per_cluster_mu_fg_{i}' \n",
    "                                        for i in adata_snrna_raw.uns['mod']['factor_names']]].copy()\n",
    "regr_inf_aver.columns = adata_snrna_raw.uns['mod']['factor_names']\n",
    "regr_inf_aver.iloc[0:5, 0:5]"
   ]
  },
  {
   "cell_type": "code",
   "execution_count": 6,
   "id": "drawn-evaluation",
   "metadata": {},
   "outputs": [
    {
     "name": "stderr",
     "output_type": "stream",
     "text": [
      "/nfs/team283/vk7/software/miniconda3farm5/envs/scvi-env2/lib/python3.7/site-packages/pandas/core/arrays/categorical.py:2487: FutureWarning: The `inplace` parameter in pandas.Categorical.remove_unused_categories is deprecated and will be removed in a future version.\n",
      "  res = method(*args, **kwargs)\n"
     ]
    },
    {
     "name": "stdout",
     "output_type": "stream",
     "text": [
      "\u001b[34mINFO    \u001b[0m Using batches from adata.obs\u001b[1m[\u001b[0m\u001b[32m\"sample\"\u001b[0m\u001b[1m]\u001b[0m                                              \n",
      "\u001b[34mINFO    \u001b[0m No label_key inputted, assuming all cells have same label                           \n",
      "\u001b[34mINFO    \u001b[0m Using data from adata.X                                                             \n",
      "\u001b[34mINFO    \u001b[0m Computing library size prior per batch                                              \n",
      "\u001b[34mINFO    \u001b[0m Successfully registered anndata object containing \u001b[1;34m2500\u001b[0m cells, \u001b[1;34m12080\u001b[0m vars, \u001b[1;34m1\u001b[0m batches,\n",
      "         \u001b[1;34m1\u001b[0m labels, and \u001b[1;34m0\u001b[0m proteins. Also registered \u001b[1;34m0\u001b[0m extra categorical covariates and \u001b[1;34m0\u001b[0m extra\n",
      "         continuous covariates.                                                              \n",
      "\u001b[34mINFO    \u001b[0m Please do not further modify adata until model is trained.                          \n"
     ]
    },
    {
     "name": "stderr",
     "output_type": "stream",
     "text": [
      "/nfs/team283/vk7/software/miniconda3farm5/envs/scvi-env2/lib/python3.7/site-packages/pandas/core/arrays/categorical.py:2487: FutureWarning: The `inplace` parameter in pandas.Categorical.remove_unused_categories is deprecated and will be removed in a future version.\n",
      "  res = method(*args, **kwargs)\n"
     ]
    },
    {
     "data": {
      "text/html": [
       "<pre style=\"white-space:pre;overflow-x:auto;line-height:normal;font-family:Menlo,'DejaVu Sans Mono',consolas,'Courier New',monospace\">Anndata setup with scvi-tools version <span style=\"color: #000080; font-weight: bold\">0.0</span>.<span style=\"color: #000080; font-weight: bold\">0</span>.\n",
       "</pre>\n"
      ],
      "text/plain": [
       "<rich.jupyter.JupyterRenderable at 0x145fdf71fed0>"
      ]
     },
     "metadata": {},
     "output_type": "display_data"
    },
    {
     "data": {
      "text/html": [
       "<pre style=\"white-space:pre;overflow-x:auto;line-height:normal;font-family:Menlo,'DejaVu Sans Mono',consolas,'Courier New',monospace\"><span style=\"font-style: italic\">              Data Summary              </span>\n",
       "┏━━━━━━━━━━━━━━━━━━━━━━━━━━━━━━┳━━━━━━━┓\n",
       "┃<span style=\"font-weight: bold\">             Data             </span>┃<span style=\"font-weight: bold\"> Count </span>┃\n",
       "┡━━━━━━━━━━━━━━━━━━━━━━━━━━━━━━╇━━━━━━━┩\n",
       "│<span style=\"color: #0087ff\">            Cells             </span>│<span style=\"color: #af00d7\"> 2500  </span>│\n",
       "│<span style=\"color: #0087ff\">             Vars             </span>│<span style=\"color: #af00d7\"> 12080 </span>│\n",
       "│<span style=\"color: #0087ff\">            Labels            </span>│<span style=\"color: #af00d7\">   1   </span>│\n",
       "│<span style=\"color: #0087ff\">           Batches            </span>│<span style=\"color: #af00d7\">   1   </span>│\n",
       "│<span style=\"color: #0087ff\">           Proteins           </span>│<span style=\"color: #af00d7\">   0   </span>│\n",
       "│<span style=\"color: #0087ff\"> Extra Categorical Covariates </span>│<span style=\"color: #af00d7\">   0   </span>│\n",
       "│<span style=\"color: #0087ff\"> Extra Continuous Covariates  </span>│<span style=\"color: #af00d7\">   0   </span>│\n",
       "└──────────────────────────────┴───────┘\n",
       "</pre>\n"
      ],
      "text/plain": [
       "<rich.jupyter.JupyterRenderable at 0x145f43a63c90>"
      ]
     },
     "metadata": {},
     "output_type": "display_data"
    },
    {
     "data": {
      "text/html": [
       "<pre style=\"white-space:pre;overflow-x:auto;line-height:normal;font-family:Menlo,'DejaVu Sans Mono',consolas,'Courier New',monospace\"><span style=\"font-style: italic\">                SCVI Data Registry                 </span>\n",
       "┏━━━━━━━━━━━━━━━┳━━━━━━━━━━━━━━━━━━━━━━━━━━━━━━━━━┓\n",
       "┃<span style=\"font-weight: bold\">     Data      </span>┃<span style=\"font-weight: bold\">       scvi-tools Location       </span>┃\n",
       "┡━━━━━━━━━━━━━━━╇━━━━━━━━━━━━━━━━━━━━━━━━━━━━━━━━━┩\n",
       "│<span style=\"color: #0087ff\">       X       </span>│<span style=\"color: #af00d7\">             adata.X             </span>│\n",
       "│<span style=\"color: #0087ff\"> batch_indices </span>│<span style=\"color: #af00d7\">    adata.obs['_scvi_batch']     </span>│\n",
       "│<span style=\"color: #0087ff\"> local_l_mean  </span>│<span style=\"color: #af00d7\"> adata.obs['_scvi_local_l_mean'] </span>│\n",
       "│<span style=\"color: #0087ff\">  local_l_var  </span>│<span style=\"color: #af00d7\"> adata.obs['_scvi_local_l_var']  </span>│\n",
       "│<span style=\"color: #0087ff\">    labels     </span>│<span style=\"color: #af00d7\">    adata.obs['_scvi_labels']    </span>│\n",
       "└───────────────┴─────────────────────────────────┘\n",
       "</pre>\n"
      ],
      "text/plain": [
       "<rich.jupyter.JupyterRenderable at 0x145f43a63c90>"
      ]
     },
     "metadata": {},
     "output_type": "display_data"
    },
    {
     "data": {
      "text/html": [
       "<pre style=\"white-space:pre;overflow-x:auto;line-height:normal;font-family:Menlo,'DejaVu Sans Mono',consolas,'Courier New',monospace\"><span style=\"font-style: italic\">                        Label Categories                        </span>\n",
       "┏━━━━━━━━━━━━━━━━━━━━━━━━━━━┳━━━━━━━━━━━━┳━━━━━━━━━━━━━━━━━━━━━┓\n",
       "┃<span style=\"font-weight: bold\">      Source Location      </span>┃<span style=\"font-weight: bold\"> Categories </span>┃<span style=\"font-weight: bold\"> scvi-tools Encoding </span>┃\n",
       "┡━━━━━━━━━━━━━━━━━━━━━━━━━━━╇━━━━━━━━━━━━╇━━━━━━━━━━━━━━━━━━━━━┩\n",
       "│<span style=\"color: #0087ff\"> adata.obs['_scvi_labels'] </span>│<span style=\"color: #008000\">     0      </span>│<span style=\"color: #af00d7\">          0          </span>│\n",
       "└───────────────────────────┴────────────┴─────────────────────┘\n",
       "</pre>\n"
      ],
      "text/plain": [
       "<rich.jupyter.JupyterRenderable at 0x145fdf71fed0>"
      ]
     },
     "metadata": {},
     "output_type": "display_data"
    },
    {
     "data": {
      "text/html": [
       "<pre style=\"white-space:pre;overflow-x:auto;line-height:normal;font-family:Menlo,'DejaVu Sans Mono',consolas,'Courier New',monospace\"><span style=\"font-style: italic\">                     Batch Categories                     </span>\n",
       "┏━━━━━━━━━━━━━━━━━━━━━┳━━━━━━━━━━━━┳━━━━━━━━━━━━━━━━━━━━━┓\n",
       "┃<span style=\"font-weight: bold\">   Source Location   </span>┃<span style=\"font-weight: bold\"> Categories </span>┃<span style=\"font-weight: bold\"> scvi-tools Encoding </span>┃\n",
       "┡━━━━━━━━━━━━━━━━━━━━━╇━━━━━━━━━━━━╇━━━━━━━━━━━━━━━━━━━━━┩\n",
       "│<span style=\"color: #0087ff\"> adata.obs['sample'] </span>│<span style=\"color: #008000\">   exper0   </span>│<span style=\"color: #af00d7\">          0          </span>│\n",
       "└─────────────────────┴────────────┴─────────────────────┘\n",
       "</pre>\n"
      ],
      "text/plain": [
       "<rich.jupyter.JupyterRenderable at 0x145f43a63c90>"
      ]
     },
     "metadata": {},
     "output_type": "display_data"
    }
   ],
   "source": [
    "# rename genes to ENSEMBL\n",
    "adata_vis.var['SYMBOL'] = adata_vis.var_names\n",
    "\n",
    "# find shared genes and subset both anndata and reference signatures\n",
    "intersect = np.intersect1d(adata_vis.var_names, regr_inf_aver.index)\n",
    "adata_vis = adata_vis[:, intersect].copy()\n",
    "regr_inf_aver = regr_inf_aver.loc[intersect, :].copy()\n",
    "\n",
    "# prepare anndata for scVI model\n",
    "scvi.data.setup_anndata(adata=adata_vis, batch_key=\"sample\")\n",
    "scvi.data.view_anndata_setup(adata_vis)"
   ]
  },
  {
   "cell_type": "code",
   "execution_count": 7,
   "id": "julian-surrey",
   "metadata": {},
   "outputs": [],
   "source": [
    "from scvi.external.cell2location._cell2location_v3_module import LocationModelLinearDependentWMultiExperimentLocationBackgroundNormLevelGeneAlphaPyroModel"
   ]
  },
  {
   "cell_type": "code",
   "execution_count": 8,
   "id": "junior-terminology",
   "metadata": {},
   "outputs": [
    {
     "name": "stdout",
     "output_type": "stream",
     "text": [
      "/nfs/team205/vk7/sanger_projects/cell2location_paper/notebooks/selected_results/benchmarking/with_tissue_zones/real_mg/pyro/hyperparameters/param_tables\r\n"
     ]
    }
   ],
   "source": [
    "!pwd"
   ]
  },
  {
   "cell_type": "code",
   "execution_count": null,
   "id": "ordered-pleasure",
   "metadata": {},
   "outputs": [
    {
     "name": "stderr",
     "output_type": "stream",
     "text": [
      "GPU available: True, used: True\n",
      "TPU available: False, using: 0 TPU cores\n",
      "/nfs/team283/vk7/software/miniconda3farm5/envs/scvi-env2/lib/python3.7/site-packages/pytorch_lightning/utilities/distributed.py:69: UserWarning: you passed in a val_dataloader but have no validation_step. Skipping val loop\n",
      "  warnings.warn(*args, **kwargs)\n",
      "LOCAL_RANK: 0 - CUDA_VISIBLE_DEVICES: [0,1,2,3,4,5]\n"
     ]
    },
    {
     "name": "stdout",
     "output_type": "stream",
     "text": [
      "Epoch 40000/40000: 100%|██████████| 40000/40000 [1:16:22<00:00,  8.73it/s, v_num=1, elbo_train=3.17e+7]\n",
      "Sampling local variables, batch: 100%|██████████| 1/1 [00:22<00:00, 22.43s/it]\n",
      "Sampling global variables, sample: 100%|██████████| 999/999 [00:21<00:00, 46.28it/s]\n"
     ]
    },
    {
     "name": "stderr",
     "output_type": "stream",
     "text": [
      "GPU available: True, used: True\n",
      "TPU available: False, using: 0 TPU cores\n",
      "/nfs/team283/vk7/software/miniconda3farm5/envs/scvi-env2/lib/python3.7/site-packages/pytorch_lightning/utilities/distributed.py:69: UserWarning: you passed in a val_dataloader but have no validation_step. Skipping val loop\n",
      "  warnings.warn(*args, **kwargs)\n",
      "LOCAL_RANK: 0 - CUDA_VISIBLE_DEVICES: [0,1,2,3,4,5]\n"
     ]
    },
    {
     "name": "stdout",
     "output_type": "stream",
     "text": [
      "Epoch 40000/40000: 100%|██████████| 40000/40000 [1:14:29<00:00,  8.95it/s, v_num=1, elbo_train=3.18e+7]\n",
      "Sampling local variables, batch: 100%|██████████| 1/1 [00:41<00:00, 41.16s/it]\n",
      "Sampling global variables, sample: 100%|██████████| 999/999 [00:51<00:00, 19.44it/s]\n"
     ]
    },
    {
     "name": "stderr",
     "output_type": "stream",
     "text": [
      "GPU available: True, used: True\n",
      "TPU available: False, using: 0 TPU cores\n",
      "/nfs/team283/vk7/software/miniconda3farm5/envs/scvi-env2/lib/python3.7/site-packages/pytorch_lightning/utilities/distributed.py:69: UserWarning: you passed in a val_dataloader but have no validation_step. Skipping val loop\n",
      "  warnings.warn(*args, **kwargs)\n",
      "LOCAL_RANK: 0 - CUDA_VISIBLE_DEVICES: [0,1,2,3,4,5]\n"
     ]
    },
    {
     "name": "stdout",
     "output_type": "stream",
     "text": [
      "Epoch 4983/40000:  12%|█▏        | 4982/40000 [14:22<1:39:11,  5.88it/s, v_num=1, elbo_train=3.2e+7] "
     ]
    }
   ],
   "source": [
    "pyro.clear_param_store()\n",
    "\n",
    "history = []\n",
    "\n",
    "for _, con in conditions.iterrows():\n",
    "    \n",
    "    ########### REGRESSION MODEL #############\n",
    "    \n",
    "    ########### CELL2LOCATION MODEL #############\n",
    "    mod = scvi.external.Cell2location(\n",
    "        adata_vis, cell_state_df=regr_inf_aver.astype('float32'), \n",
    "        model_class=LocationModelLinearDependentWMultiExperimentLocationBackgroundNormLevelGeneAlphaPyroModel,\n",
    "        amortised=False, #encoder_mode=\"single-multiple\",\n",
    "       # encoder_kwargs={'dropout_rate': 0.2},\n",
    "        # the expected average cell abundance - user-provided, tissue-dependent hyper-prior:\n",
    "        N_cells_per_location=con[\"N_cells_per_location\"],\n",
    "        A_factors_per_location=con[\"A_factors_per_location\"],\n",
    "        B_groups_per_location=con[\"B_groups_per_location\"],\n",
    "        detection_alpha=con[\"detection_alpha\"],\n",
    "    ) \n",
    "    mod.train(max_epochs=con['max_epochs'], \n",
    "              batch_size=None, \n",
    "              train_size=1,\n",
    "              #plan_kwargs={\n",
    "              #    'optim': pyro.optim.ClippedAdam({\n",
    "              #        'lr': con['lr'], \n",
    "              #        'clip_norm': con['clip_norm']\n",
    "              #    })\n",
    "              #},\n",
    "              plan_kwargs={'optim': pyro.optim.Adam({'lr': con['lr']})},\n",
    "              use_gpu=True\n",
    "    )\n",
    "    #history += list(mod.history['elbo_train'].values[:, 0])\n",
    "\n",
    "    adata_vis_res = mod.export_posterior(\n",
    "        adata_vis, sample_kwargs={'num_samples': 1000, 'batch_size': mod.adata.n_obs, 'use_gpu': True})\n",
    "\n",
    "    scvi_run_name = f'{table_dir}/{con[\"names\"]}'\n",
    "\n",
    "    mod.save(f\"{scvi_run_name}\", overwrite=True)\n",
    "    adata_file = f\"{scvi_run_name}/sp.h5ad\"\n",
    "    adata_vis_res.write(adata_file)\n",
    "\n",
    "    # plot ELBO loss history during training, removing first 100 epochs from the plot\n",
    "    mod.plot_history(5000)\n",
    "    plt.savefig(f\"{scvi_run_name}/training_ELBO_history_minus5k.png\",\n",
    "                bbox_inches='tight')\n",
    "    plt.close()\n",
    "    mod.plot_history(0)\n",
    "    plt.savefig(f\"{scvi_run_name}/training_ELBO_history_all.png\",\n",
    "                bbox_inches='tight')\n",
    "    plt.close()\n",
    "       \n",
    "    # Examine reconstruction accuracy to assess if there are any issues with mapping\n",
    "    # the plot should be roughly diagonal, strong deviations will signal problems\n",
    "    mod.plot_QC()\n",
    "    plt.savefig(f\"{scvi_run_name}/reconstruction_accuracy_histogram.png\",\n",
    "                bbox_inches='tight')\n",
    "    plt.close()"
   ]
  },
  {
   "cell_type": "code",
   "execution_count": null,
   "id": "f26582e5",
   "metadata": {},
   "outputs": [],
   "source": []
  }
 ],
 "metadata": {
  "kernelspec": {
   "display_name": "Python (scvi-env2)",
   "language": "python",
   "name": "scvi-env2"
  },
  "language_info": {
   "codemirror_mode": {
    "name": "ipython",
    "version": 3
   },
   "file_extension": ".py",
   "mimetype": "text/x-python",
   "name": "python",
   "nbconvert_exporter": "python",
   "pygments_lexer": "ipython3",
   "version": "3.7.9"
  }
 },
 "nbformat": 4,
 "nbformat_minor": 5
}
