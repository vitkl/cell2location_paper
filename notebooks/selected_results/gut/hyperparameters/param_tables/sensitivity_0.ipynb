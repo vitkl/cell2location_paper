{
 "cells": [
  {
   "cell_type": "code",
   "execution_count": 1,
   "id": "bd897a8d",
   "metadata": {},
   "outputs": [],
   "source": [
    "import scipy.sparse\n",
    "import matplotlib\n",
    "from functools import partial\n",
    "from scipy import interpolate\n",
    "from itertools import cycle\n",
    "import pandas as pd\n",
    "import pyro\n",
    "import torch\n",
    "import anndata\n",
    "import scanpy as sc \n",
    "import numpy as np\n",
    "import sys\n",
    "import matplotlib.pyplot as plt \n",
    "import matplotlib as mpl\n",
    "\n",
    "sys.path.insert(1, '/nfs/team205/vk7/sanger_projects/BayraktarLab/scvi-tools/')\n",
    "\n",
    "import scvi\n",
    "\n",
    "\n",
    "%config InlineBackend.figure_format='retina'"
   ]
  },
  {
   "cell_type": "code",
   "execution_count": 2,
   "id": "aad058c9",
   "metadata": {},
   "outputs": [],
   "source": [
    "table_dir = '/nfs/team205/vk7/sanger_projects/collaborations/fetal_gut_mapping/results/hyperparameters/'\n",
    "\n",
    "NOTEBOOK_NUMBER = 0\n",
    "\n",
    "torch.cuda.set_device(f'cuda:{NOTEBOOK_NUMBER}')\n",
    "\n",
    "# Set paths to data and results used through the document:\n",
    "sp_data_folder = '/nfs/team205/vk7/sanger_projects/large_data/gut_kj_re/oxford_visium/'\n",
    "sc_data_folder = '/nfs/team205/vk7/sanger_projects/large_data/gut_kj_re/'\n",
    "results_folder = '/nfs/team205/vk7/sanger_projects/collaborations/fetal_gut_mapping/results/'\n",
    "sc_results_folder = '/nfs/team205/vk7/sanger_projects/cell2location_proj/notebooks/results/gut/'\n",
    "annotations_folder = '/nfs/team205/vk7/sanger_projects/collaborations/fetal_gut_mapping/results/tissue_annotation/oxford/'\n",
    "\n",
    "scvi_run_name_global = f'{results_folder}/hyperparameters/c2l_v3_nonamortised_fulldata_epochs20k_lr0002_Adam_oxford_adult_paed_ref_signatures_N25'\n",
    "\n",
    "regression_model_output = 'v1_ye_signatures_lr0002_Adam'\n",
    "reg_path = f'{results_folder}regression_model/{regression_model_output}/'"
   ]
  },
  {
   "cell_type": "code",
   "execution_count": 3,
   "id": "f43c4cfb",
   "metadata": {},
   "outputs": [],
   "source": [
    "conditions = pd.read_csv(f'{table_dir}/param_tables/table_{NOTEBOOK_NUMBER}.csv')"
   ]
  },
  {
   "cell_type": "code",
   "execution_count": 4,
   "id": "6b4de4c0",
   "metadata": {},
   "outputs": [
    {
     "name": "stderr",
     "output_type": "stream",
     "text": [
      "/nfs/team283/vk7/software/miniconda3farm5/envs/scvi-env2/lib/python3.7/site-packages/pandas/core/arrays/categorical.py:2487: FutureWarning: The `inplace` parameter in pandas.Categorical.remove_unused_categories is deprecated and will be removed in a future version.\n",
      "  res = method(*args, **kwargs)\n"
     ]
    }
   ],
   "source": [
    "## snRNAseq reference (raw counts)\n",
    "adata_snrna_raw = sc.read(f'{reg_path}sc.h5ad')\n",
    "\n",
    "adata_snrna_raw2 = anndata.read_h5ad(sc_data_folder + \"FINAL_OBJECT_raw_nosoupx.h5ad\")\n",
    "adata_snrna_raw.obsm = adata_snrna_raw2[adata_snrna_raw.obs_names,:].obsm"
   ]
  },
  {
   "cell_type": "code",
   "execution_count": 5,
   "id": "b76d2590",
   "metadata": {
    "scrolled": false
   },
   "outputs": [
    {
     "data": {
      "text/html": [
       "<div>\n",
       "<style scoped>\n",
       "    .dataframe tbody tr th:only-of-type {\n",
       "        vertical-align: middle;\n",
       "    }\n",
       "\n",
       "    .dataframe tbody tr th {\n",
       "        vertical-align: top;\n",
       "    }\n",
       "\n",
       "    .dataframe thead th {\n",
       "        text-align: right;\n",
       "    }\n",
       "</style>\n",
       "<table border=\"1\" class=\"dataframe\">\n",
       "  <thead>\n",
       "    <tr style=\"text-align: right;\">\n",
       "      <th></th>\n",
       "      <th>Activated CD4 T</th>\n",
       "      <th>Activated CD8 T</th>\n",
       "      <th>Adult Glia</th>\n",
       "      <th>BEST2+ Goblet cell</th>\n",
       "      <th>BEST4+ epithelial</th>\n",
       "    </tr>\n",
       "  </thead>\n",
       "  <tbody>\n",
       "    <tr>\n",
       "      <th>ENSG00000187634</th>\n",
       "      <td>0.000475</td>\n",
       "      <td>0.000341</td>\n",
       "      <td>0.008211</td>\n",
       "      <td>0.001663</td>\n",
       "      <td>0.001148</td>\n",
       "    </tr>\n",
       "    <tr>\n",
       "      <th>ENSG00000188976</th>\n",
       "      <td>0.056281</td>\n",
       "      <td>0.082341</td>\n",
       "      <td>0.061379</td>\n",
       "      <td>0.256258</td>\n",
       "      <td>0.149516</td>\n",
       "    </tr>\n",
       "    <tr>\n",
       "      <th>ENSG00000187583</th>\n",
       "      <td>0.002949</td>\n",
       "      <td>0.016270</td>\n",
       "      <td>0.003423</td>\n",
       "      <td>0.007914</td>\n",
       "      <td>0.001061</td>\n",
       "    </tr>\n",
       "    <tr>\n",
       "      <th>ENSG00000188290</th>\n",
       "      <td>0.041080</td>\n",
       "      <td>0.058555</td>\n",
       "      <td>0.128032</td>\n",
       "      <td>0.130205</td>\n",
       "      <td>1.816961</td>\n",
       "    </tr>\n",
       "    <tr>\n",
       "      <th>ENSG00000187608</th>\n",
       "      <td>0.123889</td>\n",
       "      <td>0.235275</td>\n",
       "      <td>0.197328</td>\n",
       "      <td>0.110768</td>\n",
       "      <td>0.701299</td>\n",
       "    </tr>\n",
       "  </tbody>\n",
       "</table>\n",
       "</div>"
      ],
      "text/plain": [
       "                 Activated CD4 T  Activated CD8 T  Adult Glia  \\\n",
       "ENSG00000187634         0.000475         0.000341    0.008211   \n",
       "ENSG00000188976         0.056281         0.082341    0.061379   \n",
       "ENSG00000187583         0.002949         0.016270    0.003423   \n",
       "ENSG00000188290         0.041080         0.058555    0.128032   \n",
       "ENSG00000187608         0.123889         0.235275    0.197328   \n",
       "\n",
       "                 BEST2+ Goblet cell  BEST4+ epithelial  \n",
       "ENSG00000187634            0.001663           0.001148  \n",
       "ENSG00000188976            0.256258           0.149516  \n",
       "ENSG00000187583            0.007914           0.001061  \n",
       "ENSG00000188290            0.130205           1.816961  \n",
       "ENSG00000187608            0.110768           0.701299  "
      ]
     },
     "execution_count": 5,
     "metadata": {},
     "output_type": "execute_result"
    }
   ],
   "source": [
    "# export estimated expression in each cluster\n",
    "if 'means_per_cluster_mu_fg' in adata_snrna_raw.varm.keys():\n",
    "    inf_aver = adata_snrna_raw.varm['means_per_cluster_mu_fg'][[f'means_per_cluster_mu_fg_{i}' \n",
    "                                    for i in adata_snrna_raw.uns['mod']['factor_names']]].copy()\n",
    "else:\n",
    "    inf_aver = adata_snrna_raw.var[[f'means_per_cluster_mu_fg_{i}' \n",
    "                                    for i in adata_snrna_raw.uns['mod']['factor_names']]].copy()\n",
    "inf_aver.columns = adata_snrna_raw.uns['mod']['factor_names']\n",
    "inf_aver.iloc[0:5, 0:5]"
   ]
  },
  {
   "cell_type": "code",
   "execution_count": 6,
   "id": "07a86acc",
   "metadata": {},
   "outputs": [
    {
     "name": "stderr",
     "output_type": "stream",
     "text": [
      "Variable names are not unique. To make them unique, call `.var_names_make_unique`.\n",
      "Variable names are not unique. To make them unique, call `.var_names_make_unique`.\n",
      "Variable names are not unique. To make them unique, call `.var_names_make_unique`.\n",
      "Variable names are not unique. To make them unique, call `.var_names_make_unique`.\n"
     ]
    }
   ],
   "source": [
    "def read_and_qc(sample_name, path=sp_data_folder):\n",
    "    r\"\"\" This function reads the data for one 10X spatial experiment into the anndata object.\n",
    "    It also calculates QC metrics. Modify this function if required by your workflow.\n",
    "    \n",
    "    :param sample_name: Name of the sample\n",
    "    :param path: path to data\n",
    "    \"\"\"\n",
    "    \n",
    "    adata = sc.read_visium(path + str(sample_name),\n",
    "                           count_file='filtered_feature_bc_matrix.h5', load_images=True)\n",
    "    adata.obs['sample'] = sample_name\n",
    "    adata.var['SYMBOL'] = adata.var_names\n",
    "    adata.var.rename(columns={'gene_ids': 'ENSEMBL'}, inplace=True)\n",
    "    adata.var_names = adata.var['ENSEMBL']\n",
    "    adata.var.drop(columns='ENSEMBL', inplace=True)\n",
    "\n",
    "    # Calculate QC metrics\n",
    "    sc.pp.calculate_qc_metrics(adata, inplace=True)\n",
    "    adata.var['mt'] = [gene.startswith('mt-') for gene in adata.var['SYMBOL']]\n",
    "    adata.obs['mt_frac'] = adata[:, adata.var['mt'].tolist()].X.sum(1).A.squeeze()/adata.obs['total_counts']\n",
    "\n",
    "    # add sample name to obs names\n",
    "    adata.obs[\"sample\"] = [str(i) for i in adata.obs['sample']]\n",
    "    adata.obs_names = adata.obs[\"sample\"] \\\n",
    "                          + '_' + adata.obs_names\n",
    "    adata.obs.index.name = 'spot_id'\n",
    "    \n",
    "    return adata\n",
    "\n",
    "def select_slide(adata, s, s_col='sample'):\n",
    "    r\"\"\" This function selects the data for one slide from the spatial anndata object.\n",
    "    \n",
    "    :param adata: Anndata object with multiple spatial experiments\n",
    "    :param s: name of selected experiment\n",
    "    :param s_col: column in adata.obs listing experiment name for each location\n",
    "    \"\"\"\n",
    "    \n",
    "    slide = adata[adata.obs[s_col].isin([s]), :].copy()\n",
    "    s_keys = list(slide.uns['spatial'].keys())\n",
    "    s_spatial = np.array(s_keys)[[s in k for k in s_keys]][0]\n",
    "\n",
    "    slide.uns['spatial'] = {s_spatial: slide.uns['spatial'][s_spatial]}\n",
    "    \n",
    "    return slide\n",
    "\n",
    "#######################\n",
    "# Read the list of spatial experiments\n",
    "sample_data = pd.DataFrame(['A1', 'A2'], \n",
    "                           columns=['sample_name'])\n",
    "\n",
    "# Read the data into anndata objects\n",
    "slides = []\n",
    "for i in sample_data['sample_name']:\n",
    "    slides.append(read_and_qc(i, path=sp_data_folder))\n",
    "\n",
    "# Combine anndata objects together\n",
    "adata = slides[0].concatenate(\n",
    "    slides[1:],\n",
    "    batch_key=\"sample\",\n",
    "    uns_merge=\"unique\",\n",
    "    batch_categories=sample_data['sample_name'],\n",
    "    index_unique=None\n",
    ")\n",
    "#######################"
   ]
  },
  {
   "cell_type": "code",
   "execution_count": 7,
   "id": "29016548",
   "metadata": {},
   "outputs": [
    {
     "name": "stderr",
     "output_type": "stream",
     "text": [
      "/nfs/team283/vk7/software/miniconda3farm5/envs/scvi-env2/lib/python3.7/site-packages/pandas/core/arrays/categorical.py:2487: FutureWarning: The `inplace` parameter in pandas.Categorical.remove_unused_categories is deprecated and will be removed in a future version.\n",
      "  res = method(*args, **kwargs)\n"
     ]
    }
   ],
   "source": [
    "# mitochondria-encoded (MT) genes should be removed for spatial mapping\n",
    "adata.obsm['mt'] = adata[:, adata.var['mt'].values].X.toarray()\n",
    "adata = adata[:, ~adata.var['mt'].values]"
   ]
  },
  {
   "cell_type": "code",
   "execution_count": 8,
   "id": "28fbb311",
   "metadata": {},
   "outputs": [
    {
     "name": "stderr",
     "output_type": "stream",
     "text": [
      "Trying to set attribute `.obs` of view, copying.\n"
     ]
    },
    {
     "data": {
      "text/plain": [
       "Epithelial            1752\n",
       "Other_tissue          1649\n",
       "NaN                    596\n",
       "LowQ_tissue            527\n",
       "Stem_cell_zone         396\n",
       "Lymphoid_structure      45\n",
       "Name: Annotation, dtype: int64"
      ]
     },
     "execution_count": 8,
     "metadata": {},
     "output_type": "execute_result"
    }
   ],
   "source": [
    "# read histology-based annotations:\n",
    "adata.obs['Annotation'] = ''\n",
    "\n",
    "for s in adata.obs['sample'].unique():\n",
    "    annot_ = pd.read_csv(f'{annotations_folder}{s}_annotation.csv', index_col='Barcode')\n",
    "    annot_.index = [f'{s}_{i}' for i in annot_.index]\n",
    "    \n",
    "    adata.obs.loc[annot_.index, 'Annotation'] = annot_['Annotation']\n",
    "    \n",
    "adata.obs['Annotation'].value_counts(dropna=False)"
   ]
  },
  {
   "cell_type": "code",
   "execution_count": 9,
   "id": "01e8a996",
   "metadata": {},
   "outputs": [
    {
     "name": "stdout",
     "output_type": "stream",
     "text": [
      "3842\n"
     ]
    },
    {
     "data": {
      "text/plain": [
       "Epithelial            1752\n",
       "Other_tissue          1649\n",
       "Stem_cell_zone         396\n",
       "Lymphoid_structure      45\n",
       "Name: Annotation, dtype: int64"
      ]
     },
     "execution_count": 9,
     "metadata": {},
     "output_type": "execute_result"
    }
   ],
   "source": [
    "# select locations from good quality tissue:\n",
    "tissue_ind = adata.obs['Annotation'].isin(['Stem_cell_zone', 'Epithelial',\n",
    "                                           'Other_tissue', 'Lymphoid_structure'])\n",
    "print(sum(tissue_ind))\n",
    "\n",
    "adata = adata[tissue_ind, :]\n",
    "adata.obs['Annotation'].value_counts(dropna=False)"
   ]
  },
  {
   "cell_type": "code",
   "execution_count": 10,
   "id": "da87cdfe",
   "metadata": {},
   "outputs": [],
   "source": [
    "adata_vis = adata.copy()\n",
    "adata_vis.raw = adata_vis"
   ]
  },
  {
   "cell_type": "code",
   "execution_count": 11,
   "id": "6aa75841",
   "metadata": {},
   "outputs": [
    {
     "name": "stdout",
     "output_type": "stream",
     "text": [
      "\u001b[34mINFO    \u001b[0m Using batches from adata.obs\u001b[1m[\u001b[0m\u001b[32m\"sample\"\u001b[0m\u001b[1m]\u001b[0m                                              \n",
      "\u001b[34mINFO    \u001b[0m No label_key inputted, assuming all cells have same label                           \n",
      "\u001b[34mINFO    \u001b[0m Using data from adata.X                                                             \n",
      "\u001b[34mINFO    \u001b[0m Computing library size prior per batch                                              \n",
      "\u001b[34mINFO    \u001b[0m Successfully registered anndata object containing \u001b[1;34m3842\u001b[0m cells, \u001b[1;34m14388\u001b[0m vars, \u001b[1;34m2\u001b[0m batches,\n",
      "         \u001b[1;34m1\u001b[0m labels, and \u001b[1;34m0\u001b[0m proteins. Also registered \u001b[1;34m0\u001b[0m extra categorical covariates and \u001b[1;34m0\u001b[0m extra\n",
      "         continuous covariates.                                                              \n",
      "\u001b[34mINFO    \u001b[0m Please do not further modify adata until model is trained.                          \n"
     ]
    },
    {
     "name": "stderr",
     "output_type": "stream",
     "text": [
      "/nfs/team283/vk7/software/miniconda3farm5/envs/scvi-env2/lib/python3.7/site-packages/pandas/core/arrays/categorical.py:2487: FutureWarning: The `inplace` parameter in pandas.Categorical.remove_unused_categories is deprecated and will be removed in a future version.\n",
      "  res = method(*args, **kwargs)\n",
      "/nfs/team283/vk7/software/miniconda3farm5/envs/scvi-env2/lib/python3.7/site-packages/pandas/core/arrays/categorical.py:2487: FutureWarning: The `inplace` parameter in pandas.Categorical.remove_unused_categories is deprecated and will be removed in a future version.\n",
      "  res = method(*args, **kwargs)\n"
     ]
    },
    {
     "data": {
      "text/html": [
       "<pre style=\"white-space:pre;overflow-x:auto;line-height:normal;font-family:Menlo,'DejaVu Sans Mono',consolas,'Courier New',monospace\">Anndata setup with scvi-tools version <span style=\"color: #000080; font-weight: bold\">0.0</span>.<span style=\"color: #000080; font-weight: bold\">0</span>.\n",
       "</pre>\n"
      ],
      "text/plain": [
       "<rich.jupyter.JupyterRenderable at 0x14ebf5fb9bd0>"
      ]
     },
     "metadata": {},
     "output_type": "display_data"
    },
    {
     "data": {
      "text/html": [
       "<pre style=\"white-space:pre;overflow-x:auto;line-height:normal;font-family:Menlo,'DejaVu Sans Mono',consolas,'Courier New',monospace\"><span style=\"font-style: italic\">              Data Summary              </span>\n",
       "┏━━━━━━━━━━━━━━━━━━━━━━━━━━━━━━┳━━━━━━━┓\n",
       "┃<span style=\"font-weight: bold\">             Data             </span>┃<span style=\"font-weight: bold\"> Count </span>┃\n",
       "┡━━━━━━━━━━━━━━━━━━━━━━━━━━━━━━╇━━━━━━━┩\n",
       "│<span style=\"color: #0087ff\">            Cells             </span>│<span style=\"color: #af00d7\"> 3842  </span>│\n",
       "│<span style=\"color: #0087ff\">             Vars             </span>│<span style=\"color: #af00d7\"> 14388 </span>│\n",
       "│<span style=\"color: #0087ff\">            Labels            </span>│<span style=\"color: #af00d7\">   1   </span>│\n",
       "│<span style=\"color: #0087ff\">           Batches            </span>│<span style=\"color: #af00d7\">   2   </span>│\n",
       "│<span style=\"color: #0087ff\">           Proteins           </span>│<span style=\"color: #af00d7\">   0   </span>│\n",
       "│<span style=\"color: #0087ff\"> Extra Categorical Covariates </span>│<span style=\"color: #af00d7\">   0   </span>│\n",
       "│<span style=\"color: #0087ff\"> Extra Continuous Covariates  </span>│<span style=\"color: #af00d7\">   0   </span>│\n",
       "└──────────────────────────────┴───────┘\n",
       "</pre>\n"
      ],
      "text/plain": [
       "<rich.jupyter.JupyterRenderable at 0x14eed7ced050>"
      ]
     },
     "metadata": {},
     "output_type": "display_data"
    },
    {
     "data": {
      "text/html": [
       "<pre style=\"white-space:pre;overflow-x:auto;line-height:normal;font-family:Menlo,'DejaVu Sans Mono',consolas,'Courier New',monospace\"><span style=\"font-style: italic\">                SCVI Data Registry                 </span>\n",
       "┏━━━━━━━━━━━━━━━┳━━━━━━━━━━━━━━━━━━━━━━━━━━━━━━━━━┓\n",
       "┃<span style=\"font-weight: bold\">     Data      </span>┃<span style=\"font-weight: bold\">       scvi-tools Location       </span>┃\n",
       "┡━━━━━━━━━━━━━━━╇━━━━━━━━━━━━━━━━━━━━━━━━━━━━━━━━━┩\n",
       "│<span style=\"color: #0087ff\">       X       </span>│<span style=\"color: #af00d7\">             adata.X             </span>│\n",
       "│<span style=\"color: #0087ff\"> batch_indices </span>│<span style=\"color: #af00d7\">    adata.obs['_scvi_batch']     </span>│\n",
       "│<span style=\"color: #0087ff\"> local_l_mean  </span>│<span style=\"color: #af00d7\"> adata.obs['_scvi_local_l_mean'] </span>│\n",
       "│<span style=\"color: #0087ff\">  local_l_var  </span>│<span style=\"color: #af00d7\"> adata.obs['_scvi_local_l_var']  </span>│\n",
       "│<span style=\"color: #0087ff\">    labels     </span>│<span style=\"color: #af00d7\">    adata.obs['_scvi_labels']    </span>│\n",
       "└───────────────┴─────────────────────────────────┘\n",
       "</pre>\n"
      ],
      "text/plain": [
       "<rich.jupyter.JupyterRenderable at 0x14ebf5fb9f90>"
      ]
     },
     "metadata": {},
     "output_type": "display_data"
    },
    {
     "data": {
      "text/html": [
       "<pre style=\"white-space:pre;overflow-x:auto;line-height:normal;font-family:Menlo,'DejaVu Sans Mono',consolas,'Courier New',monospace\"><span style=\"font-style: italic\">                        Label Categories                        </span>\n",
       "┏━━━━━━━━━━━━━━━━━━━━━━━━━━━┳━━━━━━━━━━━━┳━━━━━━━━━━━━━━━━━━━━━┓\n",
       "┃<span style=\"font-weight: bold\">      Source Location      </span>┃<span style=\"font-weight: bold\"> Categories </span>┃<span style=\"font-weight: bold\"> scvi-tools Encoding </span>┃\n",
       "┡━━━━━━━━━━━━━━━━━━━━━━━━━━━╇━━━━━━━━━━━━╇━━━━━━━━━━━━━━━━━━━━━┩\n",
       "│<span style=\"color: #0087ff\"> adata.obs['_scvi_labels'] </span>│<span style=\"color: #008000\">     0      </span>│<span style=\"color: #af00d7\">          0          </span>│\n",
       "└───────────────────────────┴────────────┴─────────────────────┘\n",
       "</pre>\n"
      ],
      "text/plain": [
       "<rich.jupyter.JupyterRenderable at 0x14ebf61abd90>"
      ]
     },
     "metadata": {},
     "output_type": "display_data"
    },
    {
     "data": {
      "text/html": [
       "<pre style=\"white-space:pre;overflow-x:auto;line-height:normal;font-family:Menlo,'DejaVu Sans Mono',consolas,'Courier New',monospace\"><span style=\"font-style: italic\">                     Batch Categories                     </span>\n",
       "┏━━━━━━━━━━━━━━━━━━━━━┳━━━━━━━━━━━━┳━━━━━━━━━━━━━━━━━━━━━┓\n",
       "┃<span style=\"font-weight: bold\">   Source Location   </span>┃<span style=\"font-weight: bold\"> Categories </span>┃<span style=\"font-weight: bold\"> scvi-tools Encoding </span>┃\n",
       "┡━━━━━━━━━━━━━━━━━━━━━╇━━━━━━━━━━━━╇━━━━━━━━━━━━━━━━━━━━━┩\n",
       "│<span style=\"color: #0087ff\"> adata.obs['sample'] </span>│<span style=\"color: #008000\">     A1     </span>│<span style=\"color: #af00d7\">          0          </span>│\n",
       "│<span style=\"color: #0087ff\">                     </span>│<span style=\"color: #008000\">     A2     </span>│<span style=\"color: #af00d7\">          1          </span>│\n",
       "└─────────────────────┴────────────┴─────────────────────┘\n",
       "</pre>\n"
      ],
      "text/plain": [
       "<rich.jupyter.JupyterRenderable at 0x14ebf5fdff90>"
      ]
     },
     "metadata": {},
     "output_type": "display_data"
    }
   ],
   "source": [
    "# find shared genes and subset both anndata and reference signatures\n",
    "intersect = np.intersect1d(adata_vis.var_names, inf_aver.index)\n",
    "adata_vis = adata_vis[:, intersect].copy()\n",
    "inf_aver = inf_aver.loc[intersect, :].copy()\n",
    "\n",
    "# prepare anndata for scVI model\n",
    "scvi.data.setup_anndata(adata=adata_vis, batch_key=\"sample\")\n",
    "scvi.data.view_anndata_setup(adata_vis)"
   ]
  },
  {
   "cell_type": "code",
   "execution_count": null,
   "id": "0fff95c1",
   "metadata": {},
   "outputs": [
    {
     "name": "stderr",
     "output_type": "stream",
     "text": [
      "GPU available: True, used: True\n",
      "TPU available: False, using: 0 TPU cores\n",
      "/nfs/team283/vk7/software/miniconda3farm5/envs/scvi-env2/lib/python3.7/site-packages/pytorch_lightning/utilities/distributed.py:69: UserWarning: you passed in a val_dataloader but have no validation_step. Skipping val loop\n",
      "  warnings.warn(*args, **kwargs)\n",
      "LOCAL_RANK: 0 - CUDA_VISIBLE_DEVICES: [0,1,2,3,4,5]\n"
     ]
    },
    {
     "name": "stdout",
     "output_type": "stream",
     "text": [
      "Epoch 7396/20000:  37%|███▋      | 7395/20000 [21:51<35:35,  5.90it/s, v_num=1, elbo_train=2.13e+7]  "
     ]
    }
   ],
   "source": [
    "for _, con in conditions.iterrows():\n",
    "    # create and train the model\n",
    "    scvi_run_name = f'{table_dir}/{con[\"names\"]}'\n",
    "    import pyro\n",
    "    from scvi.external.cell2location._cell2location_v3_module import LocationModelLinearDependentWMultiExperimentLocationBackgroundNormLevelGeneAlphaPyroModel\n",
    "    mod = scvi.external.Cell2location(\n",
    "        adata_vis, cell_state_df=inf_aver, \n",
    "        model_class=LocationModelLinearDependentWMultiExperimentLocationBackgroundNormLevelGeneAlphaPyroModel,\n",
    "        amortised=False,# single_encoder=True,\n",
    "        N_cells_per_location=con[\"N_cells_per_location\"],\n",
    "        A_factors_per_location=con[\"A_factors_per_location\"],\n",
    "        B_groups_per_location=con[\"B_groups_per_location\"],\n",
    "        detection_alpha=con[\"detection_alpha\"],\n",
    "    ) \n",
    "\n",
    "    mod.train(max_epochs=20000, \n",
    "              batch_size=None, \n",
    "              train_size=1,\n",
    "              plan_kwargs={'optim': pyro.optim.Adam({'lr': con['lr']})},\n",
    "              use_gpu=True)\n",
    "\n",
    "    # In this section, we export the estimated cell abundance (summary of the posterior distribution).\n",
    "    adata_vis = mod.export_posterior(\n",
    "        adata_vis, sample_kwargs={'num_samples': 1000, 'batch_size': mod.adata.n_obs, 'use_gpu': False}\n",
    "    )\n",
    "\n",
    "    # Save model\n",
    "    mod.save(f\"{scvi_run_name}\", overwrite=True)\n",
    "    # can be loaded later like this:\n",
    "    # mod = scvi.external.Cell2location.load(f\"{scvi_run_name}\", adata_vis)\n",
    "\n",
    "    # Save anndata object with results\n",
    "    adata_file = f\"{scvi_run_name}/sp.h5ad\"\n",
    "    adata_vis.write(adata_file)\n",
    "\n",
    "    # plot ELBO loss history during training, removing first 100 epochs from the plot\n",
    "    mod.plot_history(5000)\n",
    "    plt.savefig(f\"{scvi_run_name}/training_ELBO_history_minus5k.png\",\n",
    "                bbox_inches='tight')\n",
    "    plt.close()\n",
    "    mod.plot_history(0)\n",
    "    plt.savefig(f\"{scvi_run_name}/training_ELBO_history_all.png\",\n",
    "                bbox_inches='tight')\n",
    "    plt.close()\n",
    "       \n",
    "    # Examine reconstruction accuracy to assess if there are any issues with mapping\n",
    "    # the plot should be roughly diagonal, strong deviations will signal problems\n",
    "    mod.plot_QC()\n",
    "    plt.savefig(f\"{scvi_run_name}/reconstruction_accuracy_histogram.png\",\n",
    "                bbox_inches='tight')\n",
    "    plt.close()\n",
    "\n",
    "    # add 5% quantile, representing confident cell abundance, 'at least this amount is present', \n",
    "    # to adata.obs with nice names for plotting\n",
    "    adata_vis.obs[adata_vis.uns['mod']['factor_names']] = adata_vis.obsm['q05_cell_abundance_w_sf']\n",
    "\n",
    "    def plot_spatial_per_cell_type(adata, \n",
    "                                   cell_type=adata_vis.uns['mod']['factor_names'][0],\n",
    "                                   samples=['A1', 'A2'],\n",
    "                                  ncol=2, prefix=''):\n",
    "        n_samples = len(samples)\n",
    "        nrow = int(np.ceil(n_samples / ncol))\n",
    "        fig, axs = plt.subplots(nrow, ncol, figsize=(24, 8))\n",
    "        if nrow == 1:\n",
    "            axs = axs.reshape((1, ncol))\n",
    "\n",
    "        col_name = f'{prefix}{cell_type}'\n",
    "        vmax = np.quantile(adata_vis.obs[col_name].values, 0.99999)\n",
    "        adata_vis.obs[cell_type] = adata_vis.obs[col_name].copy()\n",
    "\n",
    "        from itertools import chain\n",
    "        ind = list(chain(*[[(i, j) for i in range(nrow)] for j in range(ncol)]))\n",
    "\n",
    "        for i, s in enumerate(samples):\n",
    "            sp_data_s = select_slide(adata, s, s_col='sample')\n",
    "            sc.pl.spatial(sp_data_s, cmap='magma',\n",
    "                          color=cell_type, \n",
    "                          size=1.3, img_key='hires', alpha_img=1,\n",
    "                          vmin=0, vmax=vmax, ax=axs[ind[i][0],ind[i][1]], show=False\n",
    "                                                )\n",
    "            axs[ind[i][0],ind[i][1]].title.set_text(cell_type+'\\n'+s)\n",
    "\n",
    "        fig.tight_layout(pad=0.5)\n",
    "\n",
    "        return fig\n",
    "\n",
    "    fig_dir = f\"{scvi_run_name}/spatial/\"\n",
    "    import os\n",
    "    if not os.path.exists(fig_dir):\n",
    "        os.mkdir(fig_dir)\n",
    "    adata_vis.obs['total_cell_abundance'] = adata_vis.uns['mod']['post_sample_means']['w_sf'].sum(1).flatten()\n",
    "    fig = plot_spatial_per_cell_type(adata_vis, cell_type='total_cell_abundance', prefix='');\n",
    "    fig.savefig(f\"{fig_dir}total_cell_abundance.png\", bbox_inches='tight')\n",
    "    fig.clear()\n",
    "    plt.close(fig)\n",
    "\n",
    "    adata_vis.obs['detection_y_s'] = adata_vis.uns['mod']['post_sample_q05']['detection_y_s']\n",
    "    fig = plot_spatial_per_cell_type(adata_vis, cell_type='detection_y_s', prefix='');\n",
    "    fig.savefig(f\"{fig_dir}detection_y_s.png\", bbox_inches='tight')\n",
    "    fig.clear()\n",
    "    plt.close(fig)\n",
    "\n",
    "    fig = plot_spatial_per_cell_type(adata_vis, cell_type='total_counts', prefix='');\n",
    "    fig.savefig(f\"{fig_dir}total_RNA_counts.png\", bbox_inches='tight')\n",
    "    fig.clear()\n",
    "    plt.close(fig)\n",
    "\n",
    "    with mpl.rc_context({\"axes.facecolor\": \"black\"}):\n",
    "        clust_names = adata_vis.uns['mod']['factor_names']\n",
    "\n",
    "        for s in adata_vis.obs['sample'].unique():\n",
    "\n",
    "            s_ind = adata_vis.obs['sample'] == s\n",
    "            s_keys = list(adata_vis.uns['spatial'].keys())\n",
    "            s_spatial = np.array(s_keys)[[s in i for i in s_keys]][0]\n",
    "\n",
    "            fig = sc.pl.spatial(adata_vis[s_ind, :], cmap='magma',\n",
    "                                color=clust_names, ncols=5, library_id=s_spatial,\n",
    "                                size=1.3, img_key='hires', alpha_img=1,\n",
    "                                vmin=0, vmax='p99.2',\n",
    "                                return_fig=True, show=False)\n",
    "\n",
    "            fig_dir = f\"{scvi_run_name}/spatial/\"\n",
    "            if not os.path.exists(fig_dir):\n",
    "                os.mkdir(fig_dir)\n",
    "            fig_dir = f\"{scvi_run_name}/spatial/per_sample/\"\n",
    "            if not os.path.exists(fig_dir):\n",
    "                os.mkdir(fig_dir)\n",
    "\n",
    "            plt.savefig(f\"{fig_dir}W_cell_abundance_q05_{s}.png\",\n",
    "                        bbox_inches='tight')\n",
    "            plt.close()"
   ]
  }
 ],
 "metadata": {
  "kernelspec": {
   "display_name": "Python (scvi-env2)",
   "language": "python",
   "name": "scvi-env2"
  },
  "language_info": {
   "codemirror_mode": {
    "name": "ipython",
    "version": 3
   },
   "file_extension": ".py",
   "mimetype": "text/x-python",
   "name": "python",
   "nbconvert_exporter": "python",
   "pygments_lexer": "ipython3",
   "version": "3.7.9"
  }
 },
 "nbformat": 4,
 "nbformat_minor": 5
}
