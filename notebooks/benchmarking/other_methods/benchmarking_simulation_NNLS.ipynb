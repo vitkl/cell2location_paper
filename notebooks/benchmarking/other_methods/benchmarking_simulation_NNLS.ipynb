{
 "cells": [
  {
   "cell_type": "markdown",
   "metadata": {},
   "source": [
    "# Benchmarking models at locating spatial expression of cell types with scRNA-seq reference and Visium spatial (mouse brain)"
   ]
  },
  {
   "cell_type": "code",
   "execution_count": 1,
   "metadata": {},
   "outputs": [
    {
     "name": "stderr",
     "output_type": "stream",
     "text": [
      "WARNING (theano.tensor.blas): Using NumPy C-API based implementation for BLAS functions.\n"
     ]
    }
   ],
   "source": [
    "import sys, ast, os\n",
    "import time\n",
    "import pickle\n",
    "import scanpy as sc\n",
    "import anndata\n",
    "import pandas as pd\n",
    "import numpy as np\n",
    "import os\n",
    "from plotnine import *\n",
    "import matplotlib.pyplot as plt \n",
    "import matplotlib\n",
    "data_type = 'float32'\n",
    "sys.path.insert(1, '/nfs/team205/vk7/sanger_projects/cell2location/')\n",
    "sys.path.insert(1, '/nfs/team205/vk7/sanger_projects/BayraktarLab/cell2location/')\n",
    "\n",
    "import cell2location.models as c2l\n",
    "import cell2location.plt as c2lpl\n",
    "import cell2location.cluster_averages \n",
    "\n",
    "from matplotlib import rcParams\n",
    "import seaborn as sns\n",
    "import itertools\n",
    "import scipy\n",
    "\n",
    "# scanpy prints a lot of warnings\n",
    "import warnings\n",
    "warnings.filterwarnings('ignore')"
   ]
  },
  {
   "cell_type": "markdown",
   "metadata": {},
   "source": [
    "### The purpose of the notebook is to benchmark several versions of the model using mouse brain data."
   ]
  },
  {
   "cell_type": "markdown",
   "metadata": {},
   "source": [
    "## Load input data "
   ]
  },
  {
   "cell_type": "markdown",
   "metadata": {},
   "source": [
    "First we load sample annotations."
   ]
  },
  {
   "cell_type": "code",
   "execution_count": 2,
   "metadata": {},
   "outputs": [
    {
     "data": {
      "text/plain": [
       "(                tissue_zone_0  tissue_zone_1  tissue_zone_2  tissue_zone_3  \\\n",
       " Inh_3                0.000000       0.000000       0.934032       0.000000   \n",
       " Ext_Pir              0.000000       0.000000       0.000000       0.000000   \n",
       " Oligo_2              0.000000       0.661809       0.000000       0.000000   \n",
       " Astro_HYPO           0.000000       0.000000       0.000000       0.000000   \n",
       " Ext_L25              0.000000       0.000000       0.000000       0.000000   \n",
       " Astro_THAL_lat       0.000000       0.000000       0.000000       0.000000   \n",
       " Ext_L5_1             0.000000       0.000000       0.000000       0.000000   \n",
       " Ext_L23              0.000000       0.000000       0.000000       0.000000   \n",
       " Micro                0.000000       0.000000       0.000000       0.000000   \n",
       " Ext_Thal_1           0.000000       0.000000       0.000000       0.000000   \n",
       " Ext_Hpc_CA1          0.000000       0.000000       0.000000       0.000000   \n",
       " Inh_Meis2_3          0.000000       0.000000       0.000000       0.000000   \n",
       " Inh_4                0.000000       0.000000       0.000000       0.000000   \n",
       " OPC_1                0.000000       0.000000       0.000000       0.000000   \n",
       " Oligo_1              0.000000       0.000000       0.000000       0.000000   \n",
       " Ext_Hpc_CA3          0.000000       0.000000       0.000000       0.000000   \n",
       " Astro_CTX            0.000000       0.000000       0.000000       0.000000   \n",
       " Astro_THAL_med       0.000000       0.000000       3.582583       0.000000   \n",
       " Inh_Vip              0.000000       0.000000       0.000000       0.000000   \n",
       " Ext_Amy_2            0.000000       0.000000       0.000000       0.000000   \n",
       " Astro_AMY_CTX        0.000000       0.000000       0.000000       0.000000   \n",
       " Unk_1                0.000000       0.000000       0.000000       0.000000   \n",
       " Inh_Sst              0.000000       0.000000       1.032853       0.000000   \n",
       " Inh_Meis2_2          0.000000       0.894072       0.000000       0.000000   \n",
       " Ext_Hpc_DG2          1.258100       0.000000       0.000000       0.000000   \n",
       " Ext_Hpc_DG1          0.000000       0.000000       0.000000       0.938917   \n",
       " Inh_1                0.000000       0.000000       0.000000       0.000000   \n",
       " Inh_Meis2_4          0.000000       0.000000       0.000000       0.000000   \n",
       " Inh_2                0.000000       0.000000       0.537888       0.537888   \n",
       " Nb_1                 0.000000       0.000000       0.000000       0.000000   \n",
       " Ext_Thal_2           2.747651       0.000000       0.000000       0.000000   \n",
       " Ext_Amy_1            0.000000       0.000000       0.000000       0.000000   \n",
       " Ext_L6               1.047006       0.000000       0.000000       0.000000   \n",
       " OPC_2                0.000000       0.000000       0.000000       0.000000   \n",
       " Inh_Meis2_1          0.000000       0.000000       0.000000       0.000000   \n",
       " Ext_L6B              0.000000       0.000000       0.000000       0.000000   \n",
       " LowQ_2               0.000000       0.000000       0.000000       0.000000   \n",
       " Ext_Unk_3            0.000000       0.000000       0.000000       0.000000   \n",
       " Ext_L56              0.000000       0.000000       0.000000       0.000000   \n",
       " Inh_Lamp5            0.000000       0.000000       0.000000       0.000000   \n",
       " Inh_Pvalb            0.000000       0.000000       0.000000       0.000000   \n",
       " Ext_L5_2             0.000000       0.000000       0.000000       0.000000   \n",
       " Inh_6                0.000000       0.000000       0.000000       0.000000   \n",
       " Astro_AMY            0.000000       0.000000       0.000000       0.000000   \n",
       " Ext_ClauPyr          0.000000       0.000000       0.000000       0.000000   \n",
       " Astro_HPC            0.000000       0.000000       0.000000       0.000000   \n",
       " Astro_WM             0.000000       0.000000       0.000000       0.000000   \n",
       " Nb_2                 0.000000       0.000000       0.000000       0.000000   \n",
       " Inh_5                0.000000       0.000000       0.000000       0.000000   \n",
       " \n",
       "                 tissue_zone_4  tissue_zone_5  tissue_zone_6  tissue_zone_7  \\\n",
       " Inh_3                0.000000       0.000000       0.000000       0.000000   \n",
       " Ext_Pir              0.000000       0.000000       3.584911       0.000000   \n",
       " Oligo_2              0.000000       0.000000       0.000000       0.000000   \n",
       " Astro_HYPO           0.000000       0.000000       0.000000       0.000000   \n",
       " Ext_L25              0.000000       0.000000       0.000000       0.000000   \n",
       " Astro_THAL_lat       0.000000       0.000000       0.000000       0.000000   \n",
       " Ext_L5_1             0.000000       0.000000       0.773184       0.000000   \n",
       " Ext_L23              0.000000       0.000000       0.000000       0.000000   \n",
       " Micro                0.000000       0.000000       0.000000       0.000000   \n",
       " Ext_Thal_1           0.000000       0.000000       0.000000       0.000000   \n",
       " Ext_Hpc_CA1          0.000000       0.000000       0.000000       0.000000   \n",
       " Inh_Meis2_3          0.000000       3.356571       0.000000       0.000000   \n",
       " Inh_4                0.000000       0.000000       0.360024       0.000000   \n",
       " OPC_1                0.000000       0.000000       0.000000       0.000000   \n",
       " Oligo_1              0.000000       0.000000       2.259640       0.000000   \n",
       " Ext_Hpc_CA3          0.000000       0.000000       0.000000       0.000000   \n",
       " Astro_CTX            0.000000       0.000000       0.000000       0.000000   \n",
       " Astro_THAL_med       0.000000       0.000000       0.000000       0.000000   \n",
       " Inh_Vip              0.000000       0.000000       2.999433       0.000000   \n",
       " Ext_Amy_2            3.415391       0.000000       0.000000       0.000000   \n",
       " Astro_AMY_CTX        0.000000       0.000000       0.000000       0.000000   \n",
       " Unk_1                0.000000       0.820080       0.000000       0.000000   \n",
       " Inh_Sst              0.000000       0.000000       0.000000       0.000000   \n",
       " Inh_Meis2_2          0.894072       0.000000       0.000000       0.000000   \n",
       " Ext_Hpc_DG2          0.000000       0.000000       0.000000       0.000000   \n",
       " Ext_Hpc_DG1          0.000000       0.000000       0.000000       0.000000   \n",
       " Inh_1                0.000000       0.000000       0.000000       0.000000   \n",
       " Inh_Meis2_4          0.000000       0.000000       0.000000       0.000000   \n",
       " Inh_2                0.000000       0.000000       0.000000       0.000000   \n",
       " Nb_1                 0.000000       0.000000       0.000000       0.643126   \n",
       " Ext_Thal_2           0.000000       0.000000       0.000000       0.000000   \n",
       " Ext_Amy_1            1.194840       0.000000       0.000000       0.000000   \n",
       " Ext_L6               0.000000       0.000000       0.000000       0.000000   \n",
       " OPC_2                1.245179       0.000000       0.000000       0.000000   \n",
       " Inh_Meis2_1          0.000000       0.000000       0.000000       0.000000   \n",
       " Ext_L6B              3.941847       3.941847       0.000000       0.000000   \n",
       " LowQ_2               0.000000       0.000000       0.000000       0.000000   \n",
       " Ext_Unk_3            0.000000       0.000000       1.015747       0.000000   \n",
       " Ext_L56              0.650412       0.000000       0.000000       0.000000   \n",
       " Inh_Lamp5            0.000000       0.000000       0.000000       0.000000   \n",
       " Inh_Pvalb            0.000000       0.000000       0.000000       1.286100   \n",
       " Ext_L5_2             0.000000       0.000000       0.000000       0.000000   \n",
       " Inh_6                0.000000       0.000000       0.000000       0.000000   \n",
       " Astro_AMY            0.000000       0.000000       0.000000       0.000000   \n",
       " Ext_ClauPyr          0.000000       0.000000       0.000000       0.000000   \n",
       " Astro_HPC            0.000000       0.000000       0.000000       0.000000   \n",
       " Astro_WM             0.000000       0.000000       0.000000       0.000000   \n",
       " Nb_2                 0.000000       0.000000       0.000000       0.000000   \n",
       " Inh_5                0.000000       0.000000       0.000000       0.000000   \n",
       " \n",
       "                 tissue_zone_8  tissue_zone_9  ...  uniform_0  uniform_1  \\\n",
       " Inh_3                0.000000       0.000000  ...   0.000000   0.000000   \n",
       " Ext_Pir              3.584911       0.000000  ...   0.000000   0.000000   \n",
       " Oligo_2              0.000000       0.000000  ...   0.000000   0.000000   \n",
       " Astro_HYPO           0.759034       0.000000  ...   0.000000   0.000000   \n",
       " Ext_L25              0.000000       1.363876  ...   0.000000   0.000000   \n",
       " Astro_THAL_lat       4.689548       4.689548  ...   0.000000   0.000000   \n",
       " Ext_L5_1             0.000000       0.000000  ...   0.000000   0.000000   \n",
       " Ext_L23              2.725949       0.000000  ...   0.000000   0.000000   \n",
       " Micro                1.672055       0.000000  ...   0.000000   0.000000   \n",
       " Ext_Thal_1           0.000000       0.000000  ...   0.000000   0.000000   \n",
       " Ext_Hpc_CA1          0.000000       0.000000  ...   0.000000   0.000000   \n",
       " Inh_Meis2_3          0.000000       0.000000  ...   0.000000   0.000000   \n",
       " Inh_4                0.000000       0.000000  ...   0.000000   0.000000   \n",
       " OPC_1                0.000000       0.000000  ...   0.000000   0.000000   \n",
       " Oligo_1              0.000000       0.000000  ...   0.000000   0.000000   \n",
       " Ext_Hpc_CA3          0.000000       0.803014  ...   0.000000   0.000000   \n",
       " Astro_CTX            0.000000       0.000000  ...   0.000000   0.000000   \n",
       " Astro_THAL_med       0.000000       0.000000  ...   0.000000   0.000000   \n",
       " Inh_Vip              0.000000       0.000000  ...   0.000000   0.000000   \n",
       " Ext_Amy_2            0.000000       0.000000  ...   0.000000   0.000000   \n",
       " Astro_AMY_CTX        0.000000       0.000000  ...   0.000000   0.000000   \n",
       " Unk_1                0.000000       0.000000  ...   0.000000   0.000000   \n",
       " Inh_Sst              0.000000       0.000000  ...   0.000000   0.000000   \n",
       " Inh_Meis2_2          0.000000       0.000000  ...   0.000000   0.000000   \n",
       " Ext_Hpc_DG2          1.258100       0.000000  ...   0.000000   0.000000   \n",
       " Ext_Hpc_DG1          0.000000       0.000000  ...   0.000000   0.000000   \n",
       " Inh_1                0.000000       0.000000  ...   0.000000   0.000000   \n",
       " Inh_Meis2_4          0.000000       0.000000  ...   0.000000   0.000000   \n",
       " Inh_2                0.000000       0.000000  ...   0.000000   0.000000   \n",
       " Nb_1                 0.000000       0.000000  ...   0.000000   0.000000   \n",
       " Ext_Thal_2           0.000000       0.000000  ...   0.000000   0.000000   \n",
       " Ext_Amy_1            0.000000       0.000000  ...   0.000000   0.000000   \n",
       " Ext_L6               0.000000       0.000000  ...   0.000000   0.000000   \n",
       " OPC_2                0.000000       0.000000  ...   0.000000   0.000000   \n",
       " Inh_Meis2_1          0.000000       1.592530  ...   0.000000   0.000000   \n",
       " Ext_L6B              3.941847       0.000000  ...   0.000000   0.000000   \n",
       " LowQ_2               1.592736       0.000000  ...   0.000000   0.000000   \n",
       " Ext_Unk_3            0.000000       1.015747  ...   0.000000   0.000000   \n",
       " Ext_L56              0.000000       0.000000  ...   0.000000   0.000000   \n",
       " Inh_Lamp5            0.000000       0.000000  ...   0.000000   0.000000   \n",
       " Inh_Pvalb            0.000000       0.000000  ...   0.000000   0.000000   \n",
       " Ext_L5_2             0.000000       0.000000  ...   1.174083   0.000000   \n",
       " Inh_6                0.000000       0.000000  ...   0.000000   1.136027   \n",
       " Astro_AMY            0.000000       0.000000  ...   0.000000   0.000000   \n",
       " Ext_ClauPyr          0.000000       0.000000  ...   0.000000   0.000000   \n",
       " Astro_HPC            0.000000       0.000000  ...   0.000000   0.000000   \n",
       " Astro_WM             0.000000       0.000000  ...   0.000000   0.000000   \n",
       " Nb_2                 0.000000       0.000000  ...   0.000000   0.000000   \n",
       " Inh_5                0.000000       0.000000  ...   0.000000   0.000000   \n",
       " \n",
       "                 uniform_2  uniform_3  uniform_4  uniform_5  uniform_6  \\\n",
       " Inh_3            0.000000   0.000000   0.000000   0.000000   0.000000   \n",
       " Ext_Pir          0.000000   0.000000   0.000000   0.000000   0.000000   \n",
       " Oligo_2          0.000000   0.000000   0.000000   0.000000   0.000000   \n",
       " Astro_HYPO       0.000000   0.000000   0.000000   0.000000   0.000000   \n",
       " Ext_L25          0.000000   0.000000   0.000000   0.000000   0.000000   \n",
       " Astro_THAL_lat   0.000000   0.000000   0.000000   0.000000   0.000000   \n",
       " Ext_L5_1         0.000000   0.000000   0.000000   0.000000   0.000000   \n",
       " Ext_L23          0.000000   0.000000   0.000000   0.000000   0.000000   \n",
       " Micro            0.000000   0.000000   0.000000   0.000000   0.000000   \n",
       " Ext_Thal_1       0.000000   0.000000   0.000000   0.000000   0.000000   \n",
       " Ext_Hpc_CA1      0.000000   0.000000   0.000000   0.000000   0.000000   \n",
       " Inh_Meis2_3      0.000000   0.000000   0.000000   0.000000   0.000000   \n",
       " Inh_4            0.000000   0.000000   0.000000   0.000000   0.000000   \n",
       " OPC_1            0.000000   0.000000   0.000000   0.000000   0.000000   \n",
       " Oligo_1          0.000000   0.000000   0.000000   0.000000   0.000000   \n",
       " Ext_Hpc_CA3      0.000000   0.000000   0.000000   0.000000   0.000000   \n",
       " Astro_CTX        0.000000   0.000000   0.000000   0.000000   0.000000   \n",
       " Astro_THAL_med   0.000000   0.000000   0.000000   0.000000   0.000000   \n",
       " Inh_Vip          0.000000   0.000000   0.000000   0.000000   0.000000   \n",
       " Ext_Amy_2        0.000000   0.000000   0.000000   0.000000   0.000000   \n",
       " Astro_AMY_CTX    0.000000   0.000000   0.000000   0.000000   0.000000   \n",
       " Unk_1            0.000000   0.000000   0.000000   0.000000   0.000000   \n",
       " Inh_Sst          0.000000   0.000000   0.000000   0.000000   0.000000   \n",
       " Inh_Meis2_2      0.000000   0.000000   0.000000   0.000000   0.000000   \n",
       " Ext_Hpc_DG2      0.000000   0.000000   0.000000   0.000000   0.000000   \n",
       " Ext_Hpc_DG1      0.000000   0.000000   0.000000   0.000000   0.000000   \n",
       " Inh_1            0.000000   0.000000   0.000000   0.000000   0.000000   \n",
       " Inh_Meis2_4      0.000000   0.000000   0.000000   0.000000   0.000000   \n",
       " Inh_2            0.000000   0.000000   0.000000   0.000000   0.000000   \n",
       " Nb_1             0.000000   0.000000   0.000000   0.000000   0.000000   \n",
       " Ext_Thal_2       0.000000   0.000000   0.000000   0.000000   0.000000   \n",
       " Ext_Amy_1        0.000000   0.000000   0.000000   0.000000   0.000000   \n",
       " Ext_L6           0.000000   0.000000   0.000000   0.000000   0.000000   \n",
       " OPC_2            0.000000   0.000000   0.000000   0.000000   0.000000   \n",
       " Inh_Meis2_1      0.000000   0.000000   0.000000   0.000000   0.000000   \n",
       " Ext_L6B          0.000000   0.000000   0.000000   0.000000   0.000000   \n",
       " LowQ_2           0.000000   0.000000   0.000000   0.000000   0.000000   \n",
       " Ext_Unk_3        0.000000   0.000000   0.000000   0.000000   0.000000   \n",
       " Ext_L56          0.000000   0.000000   0.000000   0.000000   0.000000   \n",
       " Inh_Lamp5        0.000000   0.000000   0.000000   0.000000   0.000000   \n",
       " Inh_Pvalb        0.000000   0.000000   0.000000   0.000000   0.000000   \n",
       " Ext_L5_2         0.000000   0.000000   0.000000   0.000000   0.000000   \n",
       " Inh_6            0.000000   0.000000   0.000000   0.000000   0.000000   \n",
       " Astro_AMY        1.194569   0.000000   0.000000   0.000000   0.000000   \n",
       " Ext_ClauPyr      0.000000   1.609595   0.000000   0.000000   0.000000   \n",
       " Astro_HPC        0.000000   0.000000   0.670693   0.000000   0.000000   \n",
       " Astro_WM         0.000000   0.000000   0.000000   0.884061   0.000000   \n",
       " Nb_2             0.000000   0.000000   0.000000   0.000000   2.535952   \n",
       " Inh_5            0.000000   0.000000   0.000000   0.000000   0.000000   \n",
       " \n",
       "                 uniform_7  is_uniform  is_high_density  \n",
       " Inh_3            0.000000           1                0  \n",
       " Ext_Pir          0.000000           0                1  \n",
       " Oligo_2          0.000000           0                0  \n",
       " Astro_HYPO       0.000000           0                0  \n",
       " Ext_L25          0.000000           0                0  \n",
       " Astro_THAL_lat   0.000000           0                1  \n",
       " Ext_L5_1         0.000000           0                0  \n",
       " Ext_L23          0.000000           1                1  \n",
       " Micro            0.000000           0                0  \n",
       " Ext_Thal_1       0.000000           0                0  \n",
       " Ext_Hpc_CA1      0.000000           0                1  \n",
       " Inh_Meis2_3      0.000000           0                1  \n",
       " Inh_4            0.000000           0                0  \n",
       " OPC_1            0.000000           0                0  \n",
       " Oligo_1          0.000000           0                0  \n",
       " Ext_Hpc_CA3      0.000000           1                0  \n",
       " Astro_CTX        0.000000           1                0  \n",
       " Astro_THAL_med   0.000000           0                1  \n",
       " Inh_Vip          0.000000           0                1  \n",
       " Ext_Amy_2        0.000000           0                1  \n",
       " Astro_AMY_CTX    0.000000           0                0  \n",
       " Unk_1            0.000000           0                0  \n",
       " Inh_Sst          0.000000           1                0  \n",
       " Inh_Meis2_2      0.000000           0                0  \n",
       " Ext_Hpc_DG2      0.000000           0                0  \n",
       " Ext_Hpc_DG1      0.000000           0                0  \n",
       " Inh_1            0.000000           0                0  \n",
       " Inh_Meis2_4      0.000000           0                1  \n",
       " Inh_2            0.000000           0                0  \n",
       " Nb_1             0.000000           0                0  \n",
       " Ext_Thal_2       0.000000           0                1  \n",
       " Ext_Amy_1        0.000000           0                0  \n",
       " Ext_L6           0.000000           0                0  \n",
       " OPC_2            0.000000           0                0  \n",
       " Inh_Meis2_1      0.000000           0                0  \n",
       " Ext_L6B          0.000000           1                1  \n",
       " LowQ_2           0.000000           0                0  \n",
       " Ext_Unk_3        0.000000           1                0  \n",
       " Ext_L56          0.000000           0                0  \n",
       " Inh_Lamp5        0.000000           0                0  \n",
       " Inh_Pvalb        0.000000           0                0  \n",
       " Ext_L5_2         0.000000           0                0  \n",
       " Inh_6            0.000000           0                0  \n",
       " Astro_AMY        0.000000           0                0  \n",
       " Ext_ClauPyr      0.000000           0                0  \n",
       " Astro_HPC        0.000000           0                0  \n",
       " Astro_WM         0.000000           0                0  \n",
       " Nb_2             0.000000           1                1  \n",
       " Inh_5            0.358302           0                0  \n",
       " \n",
       " [49 rows x 22 columns],\n",
       " AnnData object with n_obs × n_vars = 8111 × 12422\n",
       "     obs: 'n_genes_by_counts', 'log1p_n_genes_by_counts', 'total_counts', 'log1p_total_counts', 'pct_counts_in_top_50_genes', 'pct_counts_in_top_100_genes', 'pct_counts_in_top_200_genes', 'pct_counts_in_top_500_genes', 'mt_frac', 'sample', 'barcode', 'annotation_1', 'n_genes'\n",
       "     var: 'feature_types', 'genome', 'SYMBOL', 'n_cells_by_counts', 'mean_counts', 'log1p_mean_counts', 'pct_dropout_by_counts', 'total_counts', 'log1p_total_counts', 'mt', 'n_cells', 'nonz_mean'\n",
       "     uns: 'regression_mod',\n",
       " View of AnnData object with n_obs × n_vars = 2500 × 12809\n",
       "     obs: 'cell_count_Inh_3', 'cell_count_Ext_Pir', 'cell_count_Oligo_2', 'cell_count_Astro_HYPO', 'cell_count_Ext_L25', 'cell_count_Astro_THAL_lat', 'cell_count_Ext_L5_1', 'cell_count_Ext_L23', 'cell_count_Micro', 'cell_count_Ext_Thal_1', 'cell_count_Ext_Hpc_CA1', 'cell_count_Inh_Meis2_3', 'cell_count_Inh_4', 'cell_count_OPC_1', 'cell_count_Oligo_1', 'cell_count_Ext_Hpc_CA3', 'cell_count_Astro_CTX', 'cell_count_Astro_THAL_med', 'cell_count_Inh_Vip', 'cell_count_Ext_Amy_2', 'cell_count_Astro_AMY_CTX', 'cell_count_Unk_1', 'cell_count_Inh_Sst', 'cell_count_Inh_Meis2_2', 'cell_count_Ext_Hpc_DG2', 'cell_count_Ext_Hpc_DG1', 'cell_count_Inh_1', 'cell_count_Inh_Meis2_4', 'cell_count_Inh_2', 'cell_count_Nb_1', 'cell_count_Ext_Thal_2', 'cell_count_Ext_Amy_1', 'cell_count_Ext_L6', 'cell_count_OPC_2', 'cell_count_Inh_Meis2_1', 'cell_count_Ext_L6B', 'cell_count_LowQ_2', 'cell_count_Ext_Unk_3', 'cell_count_Ext_L56', 'cell_count_Inh_Lamp5', 'cell_count_Inh_Pvalb', 'cell_count_Ext_L5_2', 'cell_count_Inh_6', 'cell_count_Astro_AMY', 'cell_count_Ext_ClauPyr', 'cell_count_Astro_HPC', 'cell_count_Astro_WM', 'cell_count_Nb_2', 'cell_count_Inh_5', 'cell_abundances_Inh_3', 'cell_abundances_Ext_Pir', 'cell_abundances_Oligo_2', 'cell_abundances_Astro_HYPO', 'cell_abundances_Ext_L25', 'cell_abundances_Astro_THAL_lat', 'cell_abundances_Ext_L5_1', 'cell_abundances_Ext_L23', 'cell_abundances_Micro', 'cell_abundances_Ext_Thal_1', 'cell_abundances_Ext_Hpc_CA1', 'cell_abundances_Inh_Meis2_3', 'cell_abundances_Inh_4', 'cell_abundances_OPC_1', 'cell_abundances_Oligo_1', 'cell_abundances_Ext_Hpc_CA3', 'cell_abundances_Astro_CTX', 'cell_abundances_Astro_THAL_med', 'cell_abundances_Inh_Vip', 'cell_abundances_Ext_Amy_2', 'cell_abundances_Astro_AMY_CTX', 'cell_abundances_Unk_1', 'cell_abundances_Inh_Sst', 'cell_abundances_Inh_Meis2_2', 'cell_abundances_Ext_Hpc_DG2', 'cell_abundances_Ext_Hpc_DG1', 'cell_abundances_Inh_1', 'cell_abundances_Inh_Meis2_4', 'cell_abundances_Inh_2', 'cell_abundances_Nb_1', 'cell_abundances_Ext_Thal_2', 'cell_abundances_Ext_Amy_1', 'cell_abundances_Ext_L6', 'cell_abundances_OPC_2', 'cell_abundances_Inh_Meis2_1', 'cell_abundances_Ext_L6B', 'cell_abundances_LowQ_2', 'cell_abundances_Ext_Unk_3', 'cell_abundances_Ext_L56', 'cell_abundances_Inh_Lamp5', 'cell_abundances_Inh_Pvalb', 'cell_abundances_Ext_L5_2', 'cell_abundances_Inh_6', 'cell_abundances_Astro_AMY', 'cell_abundances_Ext_ClauPyr', 'cell_abundances_Astro_HPC', 'cell_abundances_Astro_WM', 'cell_abundances_Nb_2', 'cell_abundances_Inh_5', 'cell_capture_eff_Inh_3', 'cell_capture_eff_Ext_Pir', 'cell_capture_eff_Oligo_2', 'cell_capture_eff_Astro_HYPO', 'cell_capture_eff_Ext_L25', 'cell_capture_eff_Astro_THAL_lat', 'cell_capture_eff_Ext_L5_1', 'cell_capture_eff_Ext_L23', 'cell_capture_eff_Micro', 'cell_capture_eff_Ext_Thal_1', 'cell_capture_eff_Ext_Hpc_CA1', 'cell_capture_eff_Inh_Meis2_3', 'cell_capture_eff_Inh_4', 'cell_capture_eff_OPC_1', 'cell_capture_eff_Oligo_1', 'cell_capture_eff_Ext_Hpc_CA3', 'cell_capture_eff_Astro_CTX', 'cell_capture_eff_Astro_THAL_med', 'cell_capture_eff_Inh_Vip', 'cell_capture_eff_Ext_Amy_2', 'cell_capture_eff_Astro_AMY_CTX', 'cell_capture_eff_Unk_1', 'cell_capture_eff_Inh_Sst', 'cell_capture_eff_Inh_Meis2_2', 'cell_capture_eff_Ext_Hpc_DG2', 'cell_capture_eff_Ext_Hpc_DG1', 'cell_capture_eff_Inh_1', 'cell_capture_eff_Inh_Meis2_4', 'cell_capture_eff_Inh_2', 'cell_capture_eff_Nb_1', 'cell_capture_eff_Ext_Thal_2', 'cell_capture_eff_Ext_Amy_1', 'cell_capture_eff_Ext_L6', 'cell_capture_eff_OPC_2', 'cell_capture_eff_Inh_Meis2_1', 'cell_capture_eff_Ext_L6B', 'cell_capture_eff_LowQ_2', 'cell_capture_eff_Ext_Unk_3', 'cell_capture_eff_Ext_L56', 'cell_capture_eff_Inh_Lamp5', 'cell_capture_eff_Inh_Pvalb', 'cell_capture_eff_Ext_L5_2', 'cell_capture_eff_Inh_6', 'cell_capture_eff_Astro_AMY', 'cell_capture_eff_Ext_ClauPyr', 'cell_capture_eff_Astro_HPC', 'cell_capture_eff_Astro_WM', 'cell_capture_eff_Nb_2', 'cell_capture_eff_Inh_5', 'sample', 'UMI_count_Inh_3', 'UMI_count_Ext_Pir', 'UMI_count_Oligo_2', 'UMI_count_Astro_HYPO', 'UMI_count_Ext_L25', 'UMI_count_Astro_THAL_lat', 'UMI_count_Ext_L5_1', 'UMI_count_Ext_L23', 'UMI_count_Micro', 'UMI_count_Ext_Thal_1', 'UMI_count_Ext_Hpc_CA1', 'UMI_count_Inh_Meis2_3', 'UMI_count_Inh_4', 'UMI_count_OPC_1', 'UMI_count_Oligo_1', 'UMI_count_Ext_Hpc_CA3', 'UMI_count_Astro_CTX', 'UMI_count_Astro_THAL_med', 'UMI_count_Inh_Vip', 'UMI_count_Ext_Amy_2', 'UMI_count_Astro_AMY_CTX', 'UMI_count_Unk_1', 'UMI_count_Inh_Sst', 'UMI_count_Inh_Meis2_2', 'UMI_count_Ext_Hpc_DG2', 'UMI_count_Ext_Hpc_DG1', 'UMI_count_Inh_1', 'UMI_count_Inh_Meis2_4', 'UMI_count_Inh_2', 'UMI_count_Nb_1', 'UMI_count_Ext_Thal_2', 'UMI_count_Ext_Amy_1', 'UMI_count_Ext_L6', 'UMI_count_OPC_2', 'UMI_count_Inh_Meis2_1', 'UMI_count_Ext_L6B', 'UMI_count_LowQ_2', 'UMI_count_Ext_Unk_3', 'UMI_count_Ext_L56', 'UMI_count_Inh_Lamp5', 'UMI_count_Inh_Pvalb', 'UMI_count_Ext_L5_2', 'UMI_count_Inh_6', 'UMI_count_Astro_AMY', 'UMI_count_Ext_ClauPyr', 'UMI_count_Astro_HPC', 'UMI_count_Astro_WM', 'UMI_count_Nb_2', 'UMI_count_Inh_5'\n",
       "     var: 'gene_level'\n",
       "     uns: 'design'\n",
       "     obsm: 'X_spatial'\n",
       "     layers: 'expression_levels')"
      ]
     },
     "execution_count": 2,
     "metadata": {},
     "output_type": "execute_result"
    }
   ],
   "source": [
    "sc_data_folder = '/nfs/team205/vk7/sanger_projects/cell2location_paper/notebooks/selected_data/mouse_visium_snrna/'\n",
    "sp_data_folder = '/nfs/team205/vk7/sanger_projects/cell2location_paper/notebooks/selected_results/benchmarking/with_tissue_zones/data/'\n",
    "results_folder = '/nfs/team205/vk7/sanger_projects/cell2location_paper/notebooks/selected_results/benchmarking/with_tissue_zones/real_mg/'\n",
    "\n",
    "adata = anndata.read(f'{sp_data_folder}synth_adata_real_mg_20210131.h5ad')\n",
    "adata = adata[adata.obs['sample'] == 'exper0',:]\n",
    "\n",
    "reg_mod_name = 'RegressionGeneBackgroundCoverageTorch_51covariates_8111cells_12422geneswith_tissue_zones'\n",
    "reg_path = f'{results_folder}regression_model/{reg_mod_name}/'\n",
    "adata_snrna_raw = sc.read(f'{reg_path}sc.h5ad')\n",
    "design = adata.uns['design']['cell_types2zones']\n",
    "design, adata_snrna_raw, adata"
   ]
  },
  {
   "cell_type": "markdown",
   "metadata": {},
   "source": [
    "Add counts matrix as `adata.raw` "
   ]
  },
  {
   "cell_type": "code",
   "execution_count": 3,
   "metadata": {},
   "outputs": [],
   "source": [
    "# Select genes expressed by at least 2% of cells in each cluster.\n",
    "adata_snrna_raw_bin = adata_snrna_raw.copy()\n",
    "adata_snrna_raw_bin.X = adata_snrna_raw_bin.X > 0\n",
    "adata_snrna_raw_bin.raw = adata_snrna_raw_bin\n",
    "prop_expressed = cell2location.cluster_averages.cluster_averages.get_cluster_averages(adata_snrna_raw_bin, 'annotation_1')\n",
    "prop_expressed = prop_expressed.loc[adata_snrna_raw.var_names,:]\n",
    "adata_snrna_raw = adata_snrna_raw[:, prop_expressed.max(1) > 0.02]"
   ]
  },
  {
   "cell_type": "code",
   "execution_count": 4,
   "metadata": {},
   "outputs": [],
   "source": [
    "adata_vis = adata.copy()\n",
    "adata_snrna_raw.raw = adata_snrna_raw\n",
    "adata_vis.raw = adata_vis\n",
    "\n",
    "from re import sub\n",
    "adata_snrna_raw.obs['sample'] = [sub('_.+$','', i) for i in adata_snrna_raw.obs.index]"
   ]
  },
  {
   "cell_type": "markdown",
   "metadata": {},
   "source": [
    "#### Plot numbers of cells per spot"
   ]
  },
  {
   "cell_type": "code",
   "execution_count": 5,
   "metadata": {},
   "outputs": [
    {
     "data": {
      "image/png": "[encoded data removed]",
      "text/plain": [
       "<Figure size 360x360 with 1 Axes>"
      ]
     },
     "metadata": {
      "needs_background": "light"
     },
     "output_type": "display_data"
    }
   ],
   "source": [
    "from re import sub\n",
    "cell_count = adata_vis.obs.loc[:, ['cell_abundances_' in i for i in adata_vis.obs.columns]]\n",
    "cell_count.columns =  [sub('cell_abundances_', '', i) for i in cell_count.columns]\n",
    "cell_count_columns = cell_count.columns\n",
    "umi_count = adata_vis.obs.loc[:, ['UMI_count_' in i for i in adata_vis.obs.columns]]\n",
    "umi_count.columns =  [sub('UMI_count_', '', i) for i in umi_count.columns]\n",
    "\n",
    "rcParams['figure.figsize'] = 5, 5\n",
    "plt.hist(cell_count.sum(1), bins=20);"
   ]
  },
  {
   "cell_type": "code",
   "execution_count": 6,
   "metadata": {},
   "outputs": [
    {
     "data": {
      "image/png": "[encoded data removed]",
      "text/plain": [
       "<Figure size 360x360 with 1 Axes>"
      ]
     },
     "metadata": {
      "needs_background": "light"
     },
     "output_type": "display_data"
    }
   ],
   "source": [
    "plt.hist(umi_count.sum(1), bins=20);"
   ]
  },
  {
   "cell_type": "markdown",
   "metadata": {},
   "source": [
    "## Perform nnls"
   ]
  },
  {
   "cell_type": "code",
   "execution_count": 8,
   "metadata": {},
   "outputs": [
    {
     "name": "stdout",
     "output_type": "stream",
     "text": [
      "gen\tnevals\tpareto\tcorrelation      \tdistance             \n",
      "0  \t100   \t1     \t1116.33 - 1116.33\t486447.79 - 486447.79\n",
      "1  \t100   \t1     \t1116.33 - 1116.33\t486447.79 - 486447.79\n"
     ]
    },
    {
     "data": {
      "image/png": "[encoded data removed]",
      "text/plain": [
       "<Figure size 720x360 with 1 Axes>"
      ]
     },
     "metadata": {
      "needs_background": "light"
     },
     "output_type": "display_data"
    },
    {
     "name": "stdout",
     "output_type": "stream",
     "text": [
      "0.470563006401062 min\n",
      "0.01922560135523478 min\n"
     ]
    }
   ],
   "source": [
    "import autogenes as ag\n",
    "\n",
    "# Select all genes - just use the regression models\n",
    "adata_snrna_raw.var['selected'] = True\n",
    "\n",
    "# Initialise autogenes object\n",
    "#ag.init(adata_snrna_raw, genes_key='selected', celltype_key='annotation_1')\n",
    "averages = cell2location.cluster_averages.get_cluster_averages(adata_snrna_raw, 'annotation_1')\n",
    "intersect = np.intersect1d(adata_snrna_raw.var_names, adata_vis.var_names)\n",
    "averages = averages.loc[intersect,:]\n",
    "ag.init(averages.T)\n",
    "# do not run the gene selection\n",
    "ag.optimize(ngen=1,nfeatures=averages.shape[0],seed=0,mode='fixed')\n",
    "ag.plot(weights=(-1,0))\n",
    "\n",
    "# Deconvolve spatial data into single cell averages\n",
    "start = time.time()\n",
    "coef_nnls = ag.deconvolve(adata_vis.raw[:, averages.index].X.toarray(), #key='selected',\n",
    "                          model='nnls')\n",
    "print(str((time.time() - start) / 60) + ' min')\n",
    "\n",
    "start = time.time()\n",
    "coef_linear = ag.deconvolve(adata_vis.raw[:, averages.index].X.toarray(), #key='selected',\n",
    "                            model='linear')\n",
    "print(str((time.time() - start) / 60) + ' min')\n",
    "\n",
    "#start = time.time()\n",
    "#coef_nusvr = ag.deconvolve(adata_vis.raw[:, averages.index].X.toarray(), #key='selected',\n",
    "#                           model='nusvr')\n",
    "#str((time.time() - start) / 60) + ' min'\n",
    "\n",
    "# save results to DF\n",
    "coef_nnls_df = pd.DataFrame(coef_nnls.T, columns=adata_vis.obs_names, index=averages.columns)\n",
    "#coef_nusvr_df = pd.DataFrame(coef_nusvr, columns=adata_vis.obs_names, index=averages.columns)\n",
    "coef_linear_df = pd.DataFrame(coef_linear.T, columns=adata_vis.obs_names, index=averages.columns)\n",
    "\n",
    "# write to disc\n",
    "coef_nnls_df.to_csv(results_folder + f'autogenes_models/coef_nnls_seed.csv')\n",
    "#coef_nusvr_df.to_csv(results_folder + 'autogenes_models/coef_nusvr_seed.csv')\n",
    "coef_linear_df.to_csv(results_folder + f'autogenes_models/coef_linear_seed.csv')"
   ]
  },
  {
   "cell_type": "code",
   "execution_count": null,
   "metadata": {},
   "outputs": [],
   "source": []
  }
 ],
 "metadata": {
  "kernelspec": {
   "display_name": "Python (cellpymcr3)",
   "language": "python",
   "name": "cellpymcr3"
  }
 },
 "nbformat": 4,
 "nbformat_minor": 4
}
