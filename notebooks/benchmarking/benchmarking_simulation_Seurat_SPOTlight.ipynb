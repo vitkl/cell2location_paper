{
 "cells": [
  {
   "cell_type": "markdown",
   "metadata": {},
   "source": [
    "# Benchmarking models at locating spatial expression of cell types with scRNA-seq reference and Visium spatial (mouse brain)"
   ]
  },
  {
   "cell_type": "code",
   "execution_count": 1,
   "metadata": {},
   "outputs": [
    {
     "name": "stderr",
     "output_type": "stream",
     "text": [
      "/nfs/users/nfs_v/vk7/.local/lib/python3.7/site-packages/theano/gpuarray/dnn.py:184: UserWarning: Your cuDNN version is more recent than Theano. If you encounter problems, try updating Theano or downgrading cuDNN to a version >= v5 and <= v7.\n",
      "Using cuDNN version 7605 on context None\n",
      "Mapped name None to device cuda0: Tesla V100-SXM2-32GB (0000:62:00.0)\n"
     ]
    }
   ],
   "source": [
    "import sys, ast, os\n",
    "import time\n",
    "import pickle\n",
    "import scanpy as sc\n",
    "import anndata\n",
    "import pandas as pd\n",
    "import numpy as np\n",
    "import os\n",
    "from plotnine import *\n",
    "import matplotlib.pyplot as plt \n",
    "import matplotlib\n",
    "data_type = 'float32'\n",
    "sys.path.insert(1, '/nfs/team205/vk7/sanger_projects/cell2location/')\n",
    "sys.path.insert(1, '/nfs/team205/vk7/sanger_projects/BayraktarLab/cell2location/')\n",
    "\n",
    "import cell2location.models as c2l\n",
    "import cell2location.plt as c2lpl\n",
    "import cell2location.cluster_averages \n",
    "import pycell2location\n",
    "\n",
    "from matplotlib import rcParams\n",
    "import seaborn as sns\n",
    "import itertools\n",
    "import scipy\n",
    "\n",
    "# scanpy prints a lot of warnings\n",
    "import warnings\n",
    "warnings.filterwarnings('ignore')"
   ]
  },
  {
   "cell_type": "code",
   "execution_count": 2,
   "metadata": {},
   "outputs": [
    {
     "data": {
      "text/html": [
       "\n",
       "        <span>ListVector with 14 elements.</span>\n",
       "        <table>\n",
       "        <tbody>\n",
       "        \n",
       "          <tr>\n",
       "            <th>\n",
       "            platform\n",
       "            </th>\n",
       "            <td>\n",
       "            \n",
       "        <span>StrVector with 1 elements.</span>\n",
       "        <table>\n",
       "        <tbody>\n",
       "          <tr>\n",
       "          \n",
       "            <td>\n",
       "            'x86_64-conda_cos6-linux-gnu'\n",
       "            </td>\n",
       "          \n",
       "          </tr>\n",
       "        </tbody>\n",
       "        </table>\n",
       "        \n",
       "            </td>\n",
       "          </tr>\n",
       "        \n",
       "          <tr>\n",
       "            <th>\n",
       "            arch\n",
       "            </th>\n",
       "            <td>\n",
       "            \n",
       "        <span>StrVector with 1 elements.</span>\n",
       "        <table>\n",
       "        <tbody>\n",
       "          <tr>\n",
       "          \n",
       "            <td>\n",
       "            'x86_64'\n",
       "            </td>\n",
       "          \n",
       "          </tr>\n",
       "        </tbody>\n",
       "        </table>\n",
       "        \n",
       "            </td>\n",
       "          </tr>\n",
       "        \n",
       "          <tr>\n",
       "            <th>\n",
       "            os\n",
       "            </th>\n",
       "            <td>\n",
       "            \n",
       "        <span>StrVector with 1 elements.</span>\n",
       "        <table>\n",
       "        <tbody>\n",
       "          <tr>\n",
       "          \n",
       "            <td>\n",
       "            'linux-gnu'\n",
       "            </td>\n",
       "          \n",
       "          </tr>\n",
       "        </tbody>\n",
       "        </table>\n",
       "        \n",
       "            </td>\n",
       "          </tr>\n",
       "        \n",
       "          <tr>\n",
       "            <th>\n",
       "            ...\n",
       "            </th>\n",
       "            <td>\n",
       "            ...\n",
       "            </td>\n",
       "          </tr>\n",
       "        \n",
       "          <tr>\n",
       "            <th>\n",
       "            language\n",
       "            </th>\n",
       "            <td>\n",
       "            \n",
       "        <span>StrVector with 1 elements.</span>\n",
       "        <table>\n",
       "        <tbody>\n",
       "          <tr>\n",
       "          \n",
       "            <td>\n",
       "            'R'\n",
       "            </td>\n",
       "          \n",
       "          </tr>\n",
       "        </tbody>\n",
       "        </table>\n",
       "        \n",
       "            </td>\n",
       "          </tr>\n",
       "        \n",
       "          <tr>\n",
       "            <th>\n",
       "            version.string\n",
       "            </th>\n",
       "            <td>\n",
       "            \n",
       "        <span>StrVector with 1 elements.</span>\n",
       "        <table>\n",
       "        <tbody>\n",
       "          <tr>\n",
       "          \n",
       "            <td>\n",
       "            'R version 3.6.3 (2020-02-29)'\n",
       "            </td>\n",
       "          \n",
       "          </tr>\n",
       "        </tbody>\n",
       "        </table>\n",
       "        \n",
       "            </td>\n",
       "          </tr>\n",
       "        \n",
       "          <tr>\n",
       "            <th>\n",
       "            nickname\n",
       "            </th>\n",
       "            <td>\n",
       "            \n",
       "        <span>StrVector with 1 elements.</span>\n",
       "        <table>\n",
       "        <tbody>\n",
       "          <tr>\n",
       "          \n",
       "            <td>\n",
       "            'Holding the Windsock'\n",
       "            </td>\n",
       "          \n",
       "          </tr>\n",
       "        </tbody>\n",
       "        </table>\n",
       "        \n",
       "            </td>\n",
       "          </tr>\n",
       "        \n",
       "        </tbody>\n",
       "        </table>\n",
       "        "
      ],
      "text/plain": [
       "R object with classes: ('simple.list',) mapped to:\n",
       "[StrSexpVe..., StrSexpVe..., StrSexpVe..., StrSexpVe..., ..., StrSexpVe..., StrSexpVe..., StrSexpVe..., StrSexpVe...]\n",
       "  platform: <class 'rpy2.robjects.vectors.StrVector'>\n",
       "  R object with classes: ('character',) mapped to:\n",
       "['x86_64-conda_cos6-linux-gnu']\n",
       "  arch: <class 'rpy2.robjects.vectors.StrVector'>\n",
       "  R object with classes: ('character',) mapped to:\n",
       "['x86_64']\n",
       "  os: <class 'rpy2.robjects.vectors.StrVector'>\n",
       "  R object with classes: ('character',) mapped to:\n",
       "['linux-gnu']\n",
       "  system: <class 'rpy2.robjects.vectors.StrVector'>\n",
       "  R object with classes: ('character',) mapped to:\n",
       "['x86_64, linux-gnu']\n",
       "...\n",
       "  major: <class 'rpy2.robjects.vectors.StrVector'>\n",
       "  R object with classes: ('character',) mapped to:\n",
       "['77875']\n",
       "  minor: <class 'rpy2.robjects.vectors.StrVector'>\n",
       "  R object with classes: ('character',) mapped to:\n",
       "['R']\n",
       "  year: <class 'rpy2.robjects.vectors.StrVector'>\n",
       "  R object with classes: ('character',) mapped to:\n",
       "['R version 3.6.3 (2020-02-29)']\n",
       "  month: <class 'rpy2.robjects.vectors.StrVector'>\n",
       "  R object with classes: ('character',) mapped to:\n",
       "['Holding the Windsock']"
      ]
     },
     "execution_count": 2,
     "metadata": {},
     "output_type": "execute_result"
    }
   ],
   "source": [
    "import rpy2;\n",
    "from rpy2 import robjects; robjects.r(\"version\")"
   ]
  },
  {
   "cell_type": "code",
   "execution_count": 3,
   "metadata": {},
   "outputs": [
    {
     "name": "stderr",
     "output_type": "stream",
     "text": [
      "R[write to console]: No non-system installation of Python could be found.\n",
      "Would you like to download and install Miniconda?\n",
      "Miniconda is an open source environment management system for Python.\n",
      "See https://docs.conda.io/en/latest/miniconda.html for more details.\n",
      "\n",
      "\n"
     ]
    },
    {
     "name": "stdout",
     "output_type": "stream",
     "text": [
      "Would you like to install Miniconda? [Y/n]: n\n",
      "rpy2.robjects.packages.Package as a <module 'Seurat'>\n"
     ]
    }
   ],
   "source": [
    "from rpy2.robjects.packages import importr\n",
    "#reticulate = importr('reticulate')\n",
    "#reticulate.use_condaenv(condaenv = 'cellpymcr', conda = \"auto\", required = False)\n",
    "seurat = importr('Seurat')\n",
    "print(seurat)"
   ]
  },
  {
   "cell_type": "code",
   "execution_count": 4,
   "metadata": {},
   "outputs": [],
   "source": [
    "%load_ext rpy2.ipython"
   ]
  },
  {
   "cell_type": "code",
   "execution_count": 5,
   "metadata": {},
   "outputs": [],
   "source": [
    "%%R\n",
    "library(Seurat)"
   ]
  },
  {
   "cell_type": "markdown",
   "metadata": {},
   "source": [
    "### The purpose of the notebook is to benchmark several versions of the model using mouse brain data."
   ]
  },
  {
   "cell_type": "markdown",
   "metadata": {},
   "source": [
    "## Load input data "
   ]
  },
  {
   "cell_type": "markdown",
   "metadata": {},
   "source": [
    "First we load sample annotations."
   ]
  },
  {
   "cell_type": "code",
   "execution_count": 6,
   "metadata": {},
   "outputs": [
    {
     "data": {
      "text/plain": [
       "(                 uniform  density  nspots  mean_ncells\n",
       " ref_Astro_3            0      1.0   160.0     1.047457\n",
       " ref_Ext_L25            0      1.0   179.0     2.132758\n",
       " ref_Ext_L6             0      1.0   197.0     1.123235\n",
       " ref_Oligo_2            0      1.0   180.0     0.059803\n",
       " ref_Ext_Hpc_1          0      1.0   145.0     1.165331\n",
       " ref_Inh_Meis2_4        0      1.0   224.0     0.899732\n",
       " ref_Nb_2               0      0.0   182.0     1.725271\n",
       " ref_Ext_L23            0      0.0   184.0     2.634801\n",
       " ref_Inh_Pvalb          1      1.0  1729.0     1.344651\n",
       " ref_Inh_Vip            0      1.0   218.0     0.243348\n",
       " ref_Ext_L5_1           0      0.0   237.0     3.911688\n",
       " ref_Inh_4              0      1.0   239.0     0.770593\n",
       " ref_Ext_Thal_1         0      1.0   243.0     0.328724\n",
       " ref_Inh_Meis2_3        1      0.0  1480.0     3.129082\n",
       " ref_Ext_Hpc_2          0      1.0   170.0     1.953083\n",
       " ref_Inh_6              0      1.0   226.0     1.563946\n",
       " ref_Inh_3              0      0.0   226.0     2.709425\n",
       " ref_OPC_1              0      0.0   240.0     2.497415\n",
       " ref_Micro              0      0.0   261.0     2.442353\n",
       " ref_Ext_Pir            0      1.0   210.0     1.131038\n",
       " ref_Astro_0            1      1.0  1646.0     0.364592\n",
       " ref_Unk_1              0      0.0   238.0     3.746138\n",
       " ref_Ext_Hpc_3          0      1.0   168.0     0.043921\n",
       " ref_Ext_Amy_2          0      1.0   186.0     0.411793\n",
       " ref_Inh_Lamp5          0      1.0   182.0     0.146687\n",
       " ref_Inh_2              0      1.0   203.0     0.733023\n",
       " ref_Ext_Unk_3          1      0.0  1619.0     3.218297\n",
       " ref_Ext_Hpc_4          0      1.0   198.0     0.906760\n",
       " ref_Ext_L6B            0      0.0   228.0     3.727209\n",
       " ref_Astro_2            1      1.0  1712.0     1.117752\n",
       " ref_LowQ_2             0      1.0   207.0     2.327580\n",
       " ref_Ext_Thal_2         0      1.0   195.0     0.453479\n",
       " ref_Inh_Sst            0      1.0   235.0     0.167302\n",
       " ref_Ext_Amy_1          0      1.0   243.0     0.723024\n",
       " ref_Inh_1              1      1.0  1622.0     0.297884\n",
       " ref_Ext_L5_2           0      1.0   158.0     0.800948\n",
       " ref_Ext_L56            0      1.0   151.0     0.615454\n",
       " ref_Inh_5              0      1.0   204.0     1.493669\n",
       " ref_Ext_ClauPyr        0      1.0   259.0     0.445280\n",
       " ref_Oligo_1            0      1.0   163.0     0.141298\n",
       " ref_Astro_4            1      1.0  1497.0     0.905510\n",
       " ref_Astro_1            0      0.0   195.0     3.967768\n",
       " ref_Inh_Meis2_2        0      1.0   146.0     0.132664\n",
       " ref_Nb_1               0      1.0   220.0     0.086038\n",
       " ref_Inh_Meis2_1        1      1.0  1531.0     0.763334\n",
       " ref_OPC_2              0      1.0   170.0     1.412438,\n",
       " AnnData object with n_obs × n_vars = 8137 × 31053\n",
       "     obs: 'annotation_1')"
      ]
     },
     "execution_count": 6,
     "metadata": {},
     "output_type": "execute_result"
    }
   ],
   "source": [
    "sp_data_folder = '/nfs/team205/vk7/sanger_projects/cell2location_paper/notebooks/selected_results/lowdens_synthetic_ST_fewcells/samples_2_v2/'\n",
    "results_folder = '/nfs/team205/vk7/sanger_projects/cell2location_paper/notebooks/selected_results/lowdens_synthetic_ST_fewcells/samples_2/'\n",
    "\n",
    "seed_numbers = ['335', '604', '10']\n",
    "seed_numbers = seed_numbers[2]\n",
    "\n",
    "# load simulated spatial data desing\n",
    "design = pd.read_csv(sp_data_folder + 'synthetic_ST_seed'+seed_numbers+'_design.csv',\n",
    "                    index_col=0)\n",
    "design.index = ['ref_' + i for i in design.index]\n",
    "\n",
    "# read anndata with sampled gene_levels\n",
    "downsampled_suff = '8'\n",
    "adata = anndata.read(f'{sp_data_folder}synthetic_ST_seed{seed_numbers}_counts_downsampled{downsampled_suff}.h5ad')\n",
    "adata.obs.columns = ['ref_' + i for i in adata.obs.columns]\n",
    "adata.X = scipy.sparse.csr_matrix(adata.X)\n",
    "sc.pp.calculate_qc_metrics(adata, inplace=True) \n",
    "slides = {'seed'+seed_numbers: adata}\n",
    "adata_0 = adata.copy()\n",
    "\n",
    "# load single cell reference used for simulation (validation set)\n",
    "counts_validation = pickle.load(open(sp_data_folder + 'counts_validation_'+seed_numbers+'.p', 'rb'))\n",
    "labels_validation = pickle.load(open(sp_data_folder + 'labels_validation_'+seed_numbers+'.p', 'rb'))\n",
    "adata_snrna_raw = anndata.AnnData(counts_validation, obs=labels_validation)\n",
    "adata_snrna_raw.X = scipy.sparse.csr_matrix(adata_snrna_raw.X)\n",
    "\n",
    "design, adata_snrna_raw"
   ]
  },
  {
   "cell_type": "code",
   "execution_count": 7,
   "metadata": {},
   "outputs": [
    {
     "data": {
      "image/png": "[encoded data removed]",
      "text/plain": [
       "<Figure size 1080x216 with 4 Axes>"
      ]
     },
     "metadata": {
      "needs_background": "light"
     },
     "output_type": "display_data"
    }
   ],
   "source": [
    "# PLOT QC FOR EACH SAMPLE \n",
    "if len(slides) > 2:\n",
    "    figsize = 4*len(slides)-4\n",
    "else:\n",
    "    figsize = 4*len(slides)-1\n",
    "    \n",
    "fig, axs = plt.subplots(len(slides), 4, figsize=(15, figsize))\n",
    "axs = axs.reshape((len(slides), 4))\n",
    "for i in range(len(slides)):\n",
    "    #fig.suptitle('Covariates for filtering')\n",
    "    \n",
    "    sns.distplot(list(slides.values())[i].obs['total_counts'], \n",
    "                 kde=False, ax = axs[i, 0])\n",
    "    axs[i, 0].set_xlim(0, adata.obs['total_counts'].max())\n",
    "    axs[i, 0].set_xlabel('total_counts | ' + list(slides.keys())[i])\n",
    "    \n",
    "    sns.distplot(list(slides.values())[i].obs['total_counts']\\\n",
    "                 [list(slides.values())[i].obs['total_counts']<20000],\n",
    "                 kde=False, bins=40, ax = axs[i, 1])\n",
    "    axs[i, 1].set_xlim(0, 20000)\n",
    "    axs[i, 1].set_xlabel('total_counts | ' + list(slides.keys())[i])\n",
    "    \n",
    "    sns.distplot(list(slides.values())[i].obs['n_genes_by_counts'],\n",
    "                 kde=False, bins=60, ax = axs[i, 2])\n",
    "    axs[i, 2].set_xlim(0, adata.obs['n_genes_by_counts'].max())\n",
    "    axs[i, 2].set_xlabel('n_genes_by_counts | ' + list(slides.keys())[i])\n",
    "    \n",
    "    sns.distplot(list(slides.values())[i].obs['n_genes_by_counts']\\\n",
    "                 [list(slides.values())[i].obs['n_genes_by_counts']<6000],\n",
    "                 kde=False, bins=60, ax = axs[i, 3])\n",
    "    axs[i, 3].set_xlim(0, 6000)\n",
    "    axs[i, 3].set_xlabel('n_genes_by_counts | ' + list(slides.keys())[i])\n",
    "    \n",
    "plt.tight_layout()"
   ]
  },
  {
   "cell_type": "markdown",
   "metadata": {},
   "source": [
    "Add counts matrix as `adata.raw` "
   ]
  },
  {
   "cell_type": "code",
   "execution_count": 8,
   "metadata": {},
   "outputs": [],
   "source": [
    "# Select genes expressed by at least 2% of cells in each cluster.\n",
    "adata_snrna_raw_bin = adata_snrna_raw.copy()\n",
    "adata_snrna_raw_bin.X = adata_snrna_raw_bin.X > 0\n",
    "adata_snrna_raw_bin.raw = adata_snrna_raw_bin\n",
    "prop_expressed = cell2location.cluster_averages.cluster_averages.get_cluster_averages(adata_snrna_raw_bin, 'annotation_1')\n",
    "prop_expressed = prop_expressed.loc[adata_snrna_raw.var_names,:]\n",
    "adata_snrna_raw = adata_snrna_raw[:, prop_expressed.max(1) > 0.02]"
   ]
  },
  {
   "cell_type": "code",
   "execution_count": 9,
   "metadata": {},
   "outputs": [],
   "source": [
    "adata_vis = adata.copy()\n",
    "adata_snrna_raw.raw = adata_snrna_raw\n",
    "adata_vis.raw = adata_vis\n",
    "\n",
    "adata_vis.var['ENSEMBL'] = adata_vis.var_names\n",
    "adata_vis.obs['sample'] = seed_numbers\n",
    "\n",
    "from re import sub\n",
    "adata_snrna_raw.obs['sample'] = [sub('_.+$','', i) for i in adata_snrna_raw.obs.index]"
   ]
  },
  {
   "cell_type": "markdown",
   "metadata": {},
   "source": [
    "#### Plot numbers of cells per spot"
   ]
  },
  {
   "cell_type": "code",
   "execution_count": 10,
   "metadata": {},
   "outputs": [
    {
     "data": {
      "image/png": "[encoded data removed]",
      "text/plain": [
       "<Figure size 360x360 with 1 Axes>"
      ]
     },
     "metadata": {
      "needs_background": "light"
     },
     "output_type": "display_data"
    }
   ],
   "source": [
    "rcParams['figure.figsize'] = 5, 5\n",
    "cell_count = adata.obs.loc[:, [('ref_' in i) & ('nUMI' not in i)\n",
    "                               for i in adata.obs.columns]]\n",
    "plt.hist(cell_count.sum(1), bins=20);"
   ]
  },
  {
   "cell_type": "code",
   "execution_count": 11,
   "metadata": {},
   "outputs": [
    {
     "data": {
      "image/png": "[encoded data removed]",
      "text/plain": [
       "<Figure size 360x360 with 1 Axes>"
      ]
     },
     "metadata": {
      "needs_background": "light"
     },
     "output_type": "display_data"
    }
   ],
   "source": [
    "umi_count = adata.obs.loc[:, [('ref_' in i) & ('nUMI' in i)\n",
    "                               for i in adata.obs.columns]]\n",
    "plt.hist(umi_count.sum(1), bins=20);"
   ]
  },
  {
   "cell_type": "code",
   "execution_count": 12,
   "metadata": {},
   "outputs": [
    {
     "data": {
      "image/png": "[encoded data removed]",
      "text/plain": [
       "<Figure size 360x1440 with 46 Axes>"
      ]
     },
     "metadata": {
      "needs_background": "light"
     },
     "output_type": "display_data"
    }
   ],
   "source": [
    "rcParams['figure.figsize'] = 5, 20\n",
    "for i, c in enumerate(cell_count.columns):\n",
    "    plt.subplot(cell_count.shape[1], 1, i+1)\n",
    "    plt.hist(cell_count[c], bins = 35);\n",
    "    plt.xlabel('Cell count');\n",
    "    plt.xlim(0, 35);\n",
    "    plt.title(str(c));\n",
    "plt.tight_layout()"
   ]
  },
  {
   "cell_type": "markdown",
   "metadata": {},
   "source": [
    "## Perform nnls"
   ]
  },
  {
   "cell_type": "code",
   "execution_count": 13,
   "metadata": {},
   "outputs": [
    {
     "name": "stdout",
     "output_type": "stream",
     "text": [
      "gen\tnevals\tpareto\tcorrelation    \tdistance           \n",
      "0  \t100   \t1     \t983.49 - 983.49\t441797.5 - 441797.5\n",
      "1  \t100   \t1     \t983.49 - 983.49\t441797.5 - 441797.5\n"
     ]
    },
    {
     "data": {
      "image/png": "[encoded data removed]",
      "text/plain": [
       "<Figure size 720x360 with 1 Axes>"
      ]
     },
     "metadata": {
      "needs_background": "light"
     },
     "output_type": "display_data"
    },
    {
     "name": "stdout",
     "output_type": "stream",
     "text": [
      "0.367708428700765 min\n",
      "0.021549677848815917 min\n"
     ]
    }
   ],
   "source": [
    "import autogenes as ag\n",
    "\n",
    "# Select all genes - just use the regression models\n",
    "adata_snrna_raw.var['selected'] = True\n",
    "\n",
    "# Initialise autogenes object\n",
    "#ag.init(adata_snrna_raw, genes_key='selected', celltype_key='annotation_1')\n",
    "averages = cell2location.cluster_averages.get_cluster_averages(adata_snrna_raw, 'annotation_1')\n",
    "ag.init(averages.T)\n",
    "# do not run the gene selection\n",
    "ag.optimize(ngen=1,nfeatures=averages.shape[0],seed=0,mode='fixed')\n",
    "ag.plot(weights=(-1,0))\n",
    "\n",
    "# Deconvolve spatial data into single cell averages\n",
    "start = time.time()\n",
    "coef_nnls = ag.deconvolve(adata_vis.raw[:, averages.index].X.toarray(), #key='selected',\n",
    "                          model='nnls')\n",
    "print(str((time.time() - start) / 60) + ' min')\n",
    "\n",
    "start = time.time()\n",
    "coef_linear = ag.deconvolve(adata_vis.raw[:, averages.index].X.toarray(), #key='selected',\n",
    "                            model='linear')\n",
    "print(str((time.time() - start) / 60) + ' min')\n",
    "\n",
    "#start = time.time()\n",
    "#coef_nusvr = ag.deconvolve(adata_vis.raw.X.toarray(), #key='selected',\n",
    "#                           model='nusvr')\n",
    "#str((time.time() - start) / 60) + ' min'\n",
    "\n",
    "# save results to DF\n",
    "coef_nnls_df = pd.DataFrame(coef_nnls.T, columns=adata_vis.obs_names, index=averages.columns)\n",
    "#coef_nusvr_df = pd.DataFrame(coef_nusvr, columns=adata_vis.obs_names, index=averages.columns)\n",
    "coef_linear_df = pd.DataFrame(coef_linear.T, columns=adata_vis.obs_names, index=averages.columns)\n",
    "\n",
    "# write to disc\n",
    "coef_nnls_df.to_csv(results_folder + f'autogenes_models/downsampled{downsampled_suff}_coef_nnls_seed' + seed_numbers + '.csv')\n",
    "#coef_nusvr_df.to_csv(results_folder + 'autogenes_models/coef_nusvr_seed' + seed_numbers + '.csv')\n",
    "coef_linear_df.to_csv(results_folder + f'autogenes_models/downsampled{downsampled_suff}_coef_linear_seed' + seed_numbers + '.csv')"
   ]
  },
  {
   "cell_type": "markdown",
   "metadata": {},
   "source": [
    "### Move single cell and spatial data to R"
   ]
  },
  {
   "cell_type": "code",
   "execution_count": 14,
   "metadata": {},
   "outputs": [],
   "source": [
    "adata_snrna_raw_X = adata_snrna_raw.raw.X.toarray()\n",
    "adata_snrna_raw_obs = adata_snrna_raw.obs\n",
    "adata_snrna_raw_var_names = adata_snrna_raw.raw.var_names\n",
    "\n",
    "adata_vis_X = adata_vis.raw.X.toarray()\n",
    "adata_vis_obs = adata_vis.obs\n",
    "adata_vis_var_names = adata_vis.raw.var_names"
   ]
  },
  {
   "cell_type": "code",
   "execution_count": 15,
   "metadata": {},
   "outputs": [],
   "source": [
    "%R -i adata_snrna_raw_X\n",
    "%R -i adata_snrna_raw_obs\n",
    "%R -i adata_snrna_raw_var_names\n",
    "\n",
    "%R -i adata_vis_X\n",
    "%R -i adata_vis_obs\n",
    "%R -i adata_vis_var_names"
   ]
  },
  {
   "cell_type": "code",
   "execution_count": 16,
   "metadata": {},
   "outputs": [
    {
     "name": "stdout",
     "output_type": "stream",
     "text": [
      "An object of class Seurat \n",
      "19605 features across 8137 samples within 1 assay \n",
      "Active assay: RNA (19605 features, 0 variable features)\n"
     ]
    }
   ],
   "source": [
    "%%R\n",
    "# Initialize the Seurat object with the raw (non-normalized data).\n",
    "colnames(adata_snrna_raw_X) = adata_snrna_raw_var_names\n",
    "rownames(adata_snrna_raw_X) = rownames(adata_snrna_raw_obs)\n",
    "\n",
    "seu_snrna_raw_X <- CreateSeuratObject(counts = t(adata_snrna_raw_X), \n",
    "                                      project = \"snRNA-seq\",\n",
    "                                      meta.data = adata_snrna_raw_obs)\n",
    "\n",
    "Seurat::Idents(object = seu_snrna_raw_X) <- seu_snrna_raw_X@meta.data$annotation_1\n",
    "seu_snrna_raw_X[[\"RNA\"]]@meta.features <- data.frame(row.names = rownames(seu_snrna_raw_X[[\"RNA\"]]), \n",
    "                                                     ENSEMBL = rownames(seu_snrna_raw_X[[\"RNA\"]]))\n",
    "\n",
    "seu_snrna_raw_X"
   ]
  },
  {
   "cell_type": "code",
   "execution_count": 17,
   "metadata": {},
   "outputs": [
    {
     "name": "stdout",
     "output_type": "stream",
     "text": [
      "An object of class Seurat \n",
      "31053 features across 2000 samples within 1 assay \n",
      "Active assay: RNA (31053 features, 0 variable features)\n"
     ]
    }
   ],
   "source": [
    "%%R\n",
    "# Initialize the Seurat object with the raw (non-normalized data).\n",
    "colnames(adata_vis_X) = adata_vis_var_names\n",
    "rownames(adata_vis_X) = rownames(adata_vis_obs)\n",
    "\n",
    "seu_vis_X <- CreateSeuratObject(counts = t(adata_vis_X), \n",
    "                                project = \"snRNA-seq\",\n",
    "                                meta.data = adata_vis_obs)\n",
    "\n",
    "Seurat::Idents(object = seu_vis_X) <- seu_vis_X@meta.data$orig.ident\n",
    "seu_vis_X[[\"RNA\"]]@meta.features <- data.frame(row.names = rownames(seu_vis_X[[\"RNA\"]]), \n",
    "                                               ENSEMBL = rownames(seu_vis_X[[\"RNA\"]]))\n",
    "\n",
    "seu_vis_X"
   ]
  },
  {
   "cell_type": "markdown",
   "metadata": {},
   "source": [
    "### Pre-process single cell and spatial data with Seurat and do label transfer"
   ]
  },
  {
   "cell_type": "markdown",
   "metadata": {},
   "source": [
    "Using the PCA approach"
   ]
  },
  {
   "cell_type": "code",
   "execution_count": 18,
   "metadata": {},
   "outputs": [],
   "source": [
    "seu_file = results_folder + f'seurat/dowsampled{downsampled_suff}_seurat_pca_seed' + seed_numbers + '.csv'"
   ]
  },
  {
   "cell_type": "code",
   "execution_count": 19,
   "metadata": {},
   "outputs": [
    {
     "name": "stderr",
     "output_type": "stream",
     "text": [
      "R[write to console]: \n",
      "Attaching package: ‘dplyr’\n",
      "\n",
      "\n",
      "R[write to console]: The following objects are masked from ‘package:stats’:\n",
      "\n",
      "    filter, lag\n",
      "\n",
      "\n",
      "R[write to console]: The following objects are masked from ‘package:base’:\n",
      "\n",
      "    intersect, setdiff, setequal, union\n",
      "\n",
      "\n",
      "R[write to console]: Performing PCA on the provided reference using 1975 features as input.\n",
      "\n",
      "R[write to console]: Projecting PCA\n",
      "\n",
      "R[write to console]: Finding neighborhoods\n",
      "\n",
      "R[write to console]: Finding anchors\n",
      "\n",
      "R[write to console]: \tFound 2148 anchors\n",
      "\n",
      "R[write to console]: Filtering anchors\n",
      "\n",
      "R[write to console]: \tRetained 1983 anchors\n",
      "\n",
      "R[write to console]: Extracting within-dataset neighbors\n",
      "\n",
      "R[write to console]: Finding integration vectors\n",
      "\n",
      "R[write to console]: Finding integration vector weights\n",
      "\n",
      "R[write to console]: 0%   10   20   30   40   50   60   70   80   90   100%\n",
      "\n",
      "R[write to console]: [----|----|----|----|----|----|----|----|----|----|\n",
      "\n",
      "R[write to console]: *\n",
      "R[write to console]: *\n",
      "R[write to console]: *\n",
      "R[write to console]: *\n",
      "R[write to console]: *\n",
      "R[write to console]: *\n",
      "R[write to console]: *\n",
      "R[write to console]: *\n",
      "R[write to console]: *\n",
      "R[write to console]: *\n",
      "R[write to console]: *\n",
      "R[write to console]: *\n",
      "R[write to console]: *\n",
      "R[write to console]: *\n",
      "R[write to console]: *\n",
      "R[write to console]: *\n",
      "R[write to console]: *\n",
      "R[write to console]: *\n",
      "R[write to console]: *\n",
      "R[write to console]: *\n",
      "R[write to console]: *\n",
      "R[write to console]: *\n",
      "R[write to console]: *\n",
      "R[write to console]: *\n",
      "R[write to console]: *\n",
      "R[write to console]: *\n",
      "R[write to console]: *\n",
      "R[write to console]: *\n",
      "R[write to console]: *\n",
      "R[write to console]: *\n",
      "R[write to console]: *\n",
      "R[write to console]: *\n",
      "R[write to console]: *\n",
      "R[write to console]: *\n",
      "R[write to console]: *\n",
      "R[write to console]: *\n",
      "R[write to console]: *\n",
      "R[write to console]: *\n",
      "R[write to console]: *\n",
      "R[write to console]: *\n",
      "R[write to console]: *\n",
      "R[write to console]: *\n",
      "R[write to console]: *\n",
      "R[write to console]: *\n",
      "R[write to console]: *\n",
      "R[write to console]: *\n",
      "R[write to console]: *\n",
      "R[write to console]: *\n",
      "R[write to console]: *\n",
      "R[write to console]: *\n",
      "R[write to console]: |\n",
      "\n",
      "R[write to console]: Predicting cell labels\n",
      "\n"
     ]
    },
    {
     "name": "stdout",
     "output_type": "stream",
     "text": [
      "Time difference of 25.14326 secs\n"
     ]
    }
   ],
   "source": [
    "%%R -i seu_file\n",
    "library(dplyr)\n",
    "\n",
    "seu_snrna_raw_X <- SCTransform(seu_snrna_raw_X, verbose = FALSE) %>% RunPCA(verbose = FALSE)\n",
    "seu_vis_X <- SCTransform(seu_vis_X, verbose = FALSE) %>% RunPCA(verbose = FALSE)\n",
    "\n",
    "start_time <- Sys.time()\n",
    "\n",
    "anchors <- FindTransferAnchors(reference = seu_snrna_raw_X, query = seu_vis_X, normalization.method = \"SCT\")\n",
    "\n",
    "predictions.assay <- TransferData(anchorset = anchors, refdata = seu_snrna_raw_X$annotation_1,\n",
    "                                  weight.reduction = seu_vis_X[[\"pca\"]])\n",
    "\n",
    "#seu_vis_X[[\"predictions\"]] <- predictions.assay\n",
    "\n",
    "saveRDS(object = predictions.assay,\n",
    "        file = \"./seurat_on_simulated_downsampled.RDS\")\n",
    "\n",
    "predictions.assay$spot = rownames(predictions.assay)\n",
    "write.csv(predictions.assay, seu_file)\n",
    "predictions.assay[1:5, 1:5]\n",
    "\n",
    "end_time <- Sys.time()\n",
    "end_time - start_time"
   ]
  },
  {
   "cell_type": "markdown",
   "metadata": {},
   "source": [
    "Using the CCA approach"
   ]
  },
  {
   "cell_type": "code",
   "execution_count": 20,
   "metadata": {},
   "outputs": [],
   "source": [
    "seu_file = results_folder + f'seurat/dowsampled{downsampled_suff}_seurat_cca_seed' + seed_numbers + '.csv'"
   ]
  },
  {
   "cell_type": "code",
   "execution_count": 21,
   "metadata": {},
   "outputs": [
    {
     "name": "stderr",
     "output_type": "stream",
     "text": [
      "R[write to console]: Running CCA\n",
      "\n",
      "R[write to console]: Merging objects\n",
      "\n",
      "R[write to console]: Finding neighborhoods\n",
      "\n",
      "R[write to console]: Finding anchors\n",
      "\n",
      "R[write to console]: \tFound 5066 anchors\n",
      "\n",
      "R[write to console]: Filtering anchors\n",
      "\n",
      "R[write to console]: \tRetained 4240 anchors\n",
      "\n",
      "R[write to console]: Extracting within-dataset neighbors\n",
      "\n",
      "R[write to console]: Finding integration vectors\n",
      "\n",
      "R[write to console]: Finding integration vector weights\n",
      "\n",
      "R[write to console]: 0%   10   20   30   40   50   60   70   80   90   100%\n",
      "\n",
      "R[write to console]: [----|----|----|----|----|----|----|----|----|----|\n",
      "\n",
      "R[write to console]: *\n",
      "R[write to console]: *\n",
      "R[write to console]: *\n",
      "R[write to console]: *\n",
      "R[write to console]: *\n",
      "R[write to console]: *\n",
      "R[write to console]: *\n",
      "R[write to console]: *\n",
      "R[write to console]: *\n",
      "R[write to console]: *\n",
      "R[write to console]: *\n",
      "R[write to console]: *\n",
      "R[write to console]: *\n",
      "R[write to console]: *\n",
      "R[write to console]: *\n",
      "R[write to console]: *\n",
      "R[write to console]: *\n",
      "R[write to console]: *\n",
      "R[write to console]: *\n",
      "R[write to console]: *\n",
      "R[write to console]: *\n",
      "R[write to console]: *\n",
      "R[write to console]: *\n",
      "R[write to console]: *\n",
      "R[write to console]: *\n",
      "R[write to console]: *\n",
      "R[write to console]: *\n",
      "R[write to console]: *\n",
      "R[write to console]: *\n",
      "R[write to console]: *\n",
      "R[write to console]: *\n",
      "R[write to console]: *\n",
      "R[write to console]: *\n",
      "R[write to console]: *\n",
      "R[write to console]: *\n",
      "R[write to console]: *\n",
      "R[write to console]: *\n",
      "R[write to console]: *\n",
      "R[write to console]: *\n",
      "R[write to console]: *\n",
      "R[write to console]: *\n",
      "R[write to console]: *\n",
      "R[write to console]: *\n",
      "R[write to console]: *\n",
      "R[write to console]: *\n",
      "R[write to console]: *\n",
      "R[write to console]: *\n",
      "R[write to console]: *\n",
      "R[write to console]: *\n",
      "R[write to console]: *\n",
      "R[write to console]: |\n",
      "\n",
      "R[write to console]: Predicting cell labels\n",
      "\n"
     ]
    },
    {
     "name": "stdout",
     "output_type": "stream",
     "text": [
      "Time difference of 31.45708 secs\n"
     ]
    }
   ],
   "source": [
    "%%R -i seu_file\n",
    "library(dplyr)\n",
    "start_time <- Sys.time()\n",
    "anchors <- FindTransferAnchors(reference = seu_snrna_raw_X, query = seu_vis_X, \n",
    "                               normalization.method = \"SCT\", reduction='cca')\n",
    "\n",
    "predictions.assay <- TransferData(anchorset = anchors, refdata = seu_snrna_raw_X$annotation_1,\n",
    "                                  weight.reduction = 'cca')\n",
    "\n",
    "#seu_vis_X[[\"predictions\"]] <- predictions.assay\n",
    "\n",
    "saveRDS(object = predictions.assay,\n",
    "        file = \"./seurat_cca_on_simulated.RDS\")\n",
    "\n",
    "predictions.assay$spot = rownames(predictions.assay)\n",
    "write.csv(predictions.assay, seu_file)\n",
    "predictions.assay[1:5, 1:5]\n",
    "\n",
    "end_time <- Sys.time()\n",
    "end_time - start_time"
   ]
  },
  {
   "cell_type": "code",
   "execution_count": null,
   "metadata": {},
   "outputs": [],
   "source": [
    "%%R\n",
    "?FindTransferAnchors"
   ]
  },
  {
   "cell_type": "markdown",
   "metadata": {},
   "source": [
    "### Run SPOTlight"
   ]
  },
  {
   "cell_type": "code",
   "execution_count": 27,
   "metadata": {
    "scrolled": true
   },
   "outputs": [
    {
     "name": "stderr",
     "output_type": "stream",
     "text": [
      "R[write to console]: Calculating cluster Inh_4\n",
      "\n"
     ]
    },
    {
     "name": "stdout",
     "output_type": "stream",
     "text": [
      "  |                                                  | 0 % ~calculating   |+++++                                             | 9 % ~00s           |++++++++++                                        | 18% ~00s           |++++++++++++++                                    | 27% ~00s           |+++++++++++++++++++                               | 36% ~00s           |+++++++++++++++++++++++                           | 45% ~00s           |++++++++++++++++++++++++++++                      | 55% ~00s           |++++++++++++++++++++++++++++++++                  | 64% ~00s           |+++++++++++++++++++++++++++++++++++++             | 73% ~00s           |+++++++++++++++++++++++++++++++++++++++++         | 82% ~00s           |++++++++++++++++++++++++++++++++++++++++++++++    | 91% ~00s           |++++++++++++++++++++++++++++++++++++++++++++++++++| 100% elapsed=00s  \n"
     ]
    },
    {
     "name": "stderr",
     "output_type": "stream",
     "text": [
      "R[write to console]: Calculating cluster Oligo_2\n",
      "\n"
     ]
    },
    {
     "name": "stdout",
     "output_type": "stream",
     "text": [
      "  |                                                  | 0 % ~calculating   |++++++++                                          | 14% ~00s           |+++++++++++++++                                   | 29% ~00s           |++++++++++++++++++++++                            | 43% ~00s           |+++++++++++++++++++++++++++++                     | 57% ~00s           |++++++++++++++++++++++++++++++++++++              | 71% ~00s           |+++++++++++++++++++++++++++++++++++++++++++       | 86% ~00s           |++++++++++++++++++++++++++++++++++++++++++++++++++| 100% elapsed=00s  \n"
     ]
    },
    {
     "name": "stderr",
     "output_type": "stream",
     "text": [
      "R[write to console]: Calculating cluster Ext_Hpc_4\n",
      "\n"
     ]
    },
    {
     "name": "stdout",
     "output_type": "stream",
     "text": [
      "  |                                                  | 0 % ~calculating   |+++++                                             | 9 % ~00s           |++++++++++                                        | 18% ~00s           |++++++++++++++                                    | 27% ~00s           |+++++++++++++++++++                               | 36% ~00s           |+++++++++++++++++++++++                           | 45% ~00s           |++++++++++++++++++++++++++++                      | 55% ~00s           |++++++++++++++++++++++++++++++++                  | 64% ~00s           |+++++++++++++++++++++++++++++++++++++             | 73% ~00s           |+++++++++++++++++++++++++++++++++++++++++         | 82% ~00s           |++++++++++++++++++++++++++++++++++++++++++++++    | 91% ~00s           |++++++++++++++++++++++++++++++++++++++++++++++++++| 100% elapsed=00s  \n"
     ]
    },
    {
     "name": "stderr",
     "output_type": "stream",
     "text": [
      "R[write to console]: Calculating cluster Ext_Unk_3\n",
      "\n"
     ]
    },
    {
     "name": "stdout",
     "output_type": "stream",
     "text": [
      "  |                                                  | 0 % ~calculating   |++                                                | 2 % ~01s           |+++                                               | 4 % ~01s           |++++                                              | 7 % ~01s           |+++++                                             | 9 % ~01s           |++++++                                            | 11% ~01s           |+++++++                                           | 13% ~01s           |++++++++                                          | 15% ~01s           |+++++++++                                         | 17% ~01s           |++++++++++                                        | 20% ~01s           |+++++++++++                                       | 22% ~01s           |++++++++++++                                      | 24% ~01s           |++++++++++++++                                    | 26% ~01s           |+++++++++++++++                                   | 28% ~01s           |++++++++++++++++                                  | 30% ~01s           |+++++++++++++++++                                 | 33% ~00s           |++++++++++++++++++                                | 35% ~00s           |+++++++++++++++++++                               | 37% ~00s           |++++++++++++++++++++                              | 39% ~00s           |+++++++++++++++++++++                             | 41% ~00s           |++++++++++++++++++++++                            | 43% ~00s           |+++++++++++++++++++++++                           | 46% ~00s           |++++++++++++++++++++++++                          | 48% ~00s           |+++++++++++++++++++++++++                         | 50% ~00s           |+++++++++++++++++++++++++++                       | 52% ~00s           |++++++++++++++++++++++++++++                      | 54% ~00s           |+++++++++++++++++++++++++++++                     | 57% ~00s           |++++++++++++++++++++++++++++++                    | 59% ~00s           |+++++++++++++++++++++++++++++++                   | 61% ~00s           |++++++++++++++++++++++++++++++++                  | 63% ~00s           |+++++++++++++++++++++++++++++++++                 | 65% ~00s           |++++++++++++++++++++++++++++++++++                | 67% ~00s           |+++++++++++++++++++++++++++++++++++               | 70% ~00s           |++++++++++++++++++++++++++++++++++++              | 72% ~00s           |+++++++++++++++++++++++++++++++++++++             | 74% ~00s           |+++++++++++++++++++++++++++++++++++++++           | 76% ~00s           |++++++++++++++++++++++++++++++++++++++++          | 78% ~00s           |+++++++++++++++++++++++++++++++++++++++++         | 80% ~00s           |++++++++++++++++++++++++++++++++++++++++++        | 83% ~00s           |+++++++++++++++++++++++++++++++++++++++++++       | 85% ~00s           |++++++++++++++++++++++++++++++++++++++++++++      | 87% ~00s           |+++++++++++++++++++++++++++++++++++++++++++++     | 89% ~00s           |++++++++++++++++++++++++++++++++++++++++++++++    | 91% ~00s           |+++++++++++++++++++++++++++++++++++++++++++++++   | 93% ~00s           |++++++++++++++++++++++++++++++++++++++++++++++++  | 96% ~00s           |+++++++++++++++++++++++++++++++++++++++++++++++++ | 98% ~00s           |++++++++++++++++++++++++++++++++++++++++++++++++++| 100% elapsed=01s  \n"
     ]
    },
    {
     "name": "stderr",
     "output_type": "stream",
     "text": [
      "R[write to console]: Calculating cluster OPC_1\n",
      "\n"
     ]
    },
    {
     "name": "stdout",
     "output_type": "stream",
     "text": [
      "  |                                                  | 0 % ~calculating   |+++++++++++++                                     | 25% ~00s           |+++++++++++++++++++++++++                         | 50% ~00s           |++++++++++++++++++++++++++++++++++++++            | 75% ~00s           |++++++++++++++++++++++++++++++++++++++++++++++++++| 100% elapsed=00s  \n"
     ]
    },
    {
     "name": "stderr",
     "output_type": "stream",
     "text": [
      "R[write to console]: Calculating cluster Inh_1\n",
      "\n"
     ]
    },
    {
     "name": "stdout",
     "output_type": "stream",
     "text": [
      "  |                                                  | 0 % ~calculating   |+++++++++++++++++                                 | 33% ~00s           |++++++++++++++++++++++++++++++++++                | 67% ~00s           |++++++++++++++++++++++++++++++++++++++++++++++++++| 100% elapsed=00s  \n"
     ]
    },
    {
     "name": "stderr",
     "output_type": "stream",
     "text": [
      "R[write to console]: Calculating cluster Ext_Pir\n",
      "\n"
     ]
    },
    {
     "name": "stdout",
     "output_type": "stream",
     "text": [
      "  |                                                  | 0 % ~calculating   |+                                                 | 2 % ~01s           |++                                                | 3 % ~01s           |+++                                               | 5 % ~01s           |++++                                              | 7 % ~01s           |+++++                                             | 8 % ~01s           |+++++                                             | 10% ~01s           |++++++                                            | 11% ~01s           |+++++++                                           | 13% ~01s           |++++++++                                          | 15% ~01s           |+++++++++                                         | 16% ~01s           |++++++++++                                        | 18% ~01s           |++++++++++                                        | 20% ~01s           |+++++++++++                                       | 21% ~01s           |++++++++++++                                      | 23% ~01s           |+++++++++++++                                     | 25% ~01s           |++++++++++++++                                    | 26% ~01s           |++++++++++++++                                    | 28% ~01s           |+++++++++++++++                                   | 30% ~01s           |++++++++++++++++                                  | 31% ~01s           |+++++++++++++++++                                 | 33% ~01s           |++++++++++++++++++                                | 34% ~01s           |+++++++++++++++++++                               | 36% ~01s           |+++++++++++++++++++                               | 38% ~01s           |++++++++++++++++++++                              | 39% ~01s           |+++++++++++++++++++++                             | 41% ~01s           |++++++++++++++++++++++                            | 43% ~01s           |+++++++++++++++++++++++                           | 44% ~01s           |+++++++++++++++++++++++                           | 46% ~01s           |++++++++++++++++++++++++                          | 48% ~01s           |+++++++++++++++++++++++++                         | 49% ~01s           |++++++++++++++++++++++++++                        | 51% ~01s           |+++++++++++++++++++++++++++                       | 52% ~00s           |++++++++++++++++++++++++++++                      | 54% ~00s           |++++++++++++++++++++++++++++                      | 56% ~00s           |+++++++++++++++++++++++++++++                     | 57% ~00s           |++++++++++++++++++++++++++++++                    | 59% ~00s           |+++++++++++++++++++++++++++++++                   | 61% ~00s           |++++++++++++++++++++++++++++++++                  | 62% ~00s           |++++++++++++++++++++++++++++++++                  | 64% ~00s           |+++++++++++++++++++++++++++++++++                 | 66% ~00s           |++++++++++++++++++++++++++++++++++                | 67% ~00s           |+++++++++++++++++++++++++++++++++++               | 69% ~00s           |++++++++++++++++++++++++++++++++++++              | 70% ~00s           |+++++++++++++++++++++++++++++++++++++             | 72% ~00s           |+++++++++++++++++++++++++++++++++++++             | 74% ~00s           |++++++++++++++++++++++++++++++++++++++            | 75% ~00s           |+++++++++++++++++++++++++++++++++++++++           | 77% ~00s           |++++++++++++++++++++++++++++++++++++++++          | 79% ~00s           |+++++++++++++++++++++++++++++++++++++++++         | 80% ~00s           |+++++++++++++++++++++++++++++++++++++++++         | 82% ~00s           |++++++++++++++++++++++++++++++++++++++++++        | 84% ~00s           |+++++++++++++++++++++++++++++++++++++++++++       | 85% ~00s           |++++++++++++++++++++++++++++++++++++++++++++      | 87% ~00s           |+++++++++++++++++++++++++++++++++++++++++++++     | 89% ~00s           |++++++++++++++++++++++++++++++++++++++++++++++    | 90% ~00s           |++++++++++++++++++++++++++++++++++++++++++++++    | 92% ~00s           |+++++++++++++++++++++++++++++++++++++++++++++++   | 93% ~00s           |++++++++++++++++++++++++++++++++++++++++++++++++  | 95% ~00s           |+++++++++++++++++++++++++++++++++++++++++++++++++ | 97% ~00s           |++++++++++++++++++++++++++++++++++++++++++++++++++| 98% ~00s           |++++++++++++++++++++++++++++++++++++++++++++++++++| 100% elapsed=01s  \n"
     ]
    },
    {
     "name": "stderr",
     "output_type": "stream",
     "text": [
      "R[write to console]: Calculating cluster Ext_ClauPyr\n",
      "\n"
     ]
    },
    {
     "name": "stdout",
     "output_type": "stream",
     "text": [
      "  |                                                  | 0 % ~calculating   |+                                                 | 2 % ~01s           |++                                                | 4 % ~01s           |+++                                               | 6 % ~01s           |++++                                              | 8 % ~01s           |+++++                                             | 10% ~01s           |++++++                                            | 12% ~01s           |+++++++                                           | 14% ~01s           |++++++++                                          | 16% ~01s           |+++++++++                                         | 18% ~01s           |++++++++++                                        | 20% ~01s           |+++++++++++                                       | 22% ~01s           |++++++++++++                                      | 24% ~01s           |+++++++++++++                                     | 25% ~01s           |++++++++++++++                                    | 27% ~01s           |+++++++++++++++                                   | 29% ~01s           |++++++++++++++++                                  | 31% ~01s           |+++++++++++++++++                                 | 33% ~01s           |++++++++++++++++++                                | 35% ~01s           |+++++++++++++++++++                               | 37% ~01s           |++++++++++++++++++++                              | 39% ~01s           |+++++++++++++++++++++                             | 41% ~01s           |++++++++++++++++++++++                            | 43% ~00s           |+++++++++++++++++++++++                           | 45% ~00s           |++++++++++++++++++++++++                          | 47% ~00s           |+++++++++++++++++++++++++                         | 49% ~00s           |++++++++++++++++++++++++++                        | 51% ~00s           |+++++++++++++++++++++++++++                       | 53% ~00s           |++++++++++++++++++++++++++++                      | 55% ~00s           |+++++++++++++++++++++++++++++                     | 57% ~00s           |++++++++++++++++++++++++++++++                    | 59% ~00s           |+++++++++++++++++++++++++++++++                   | 61% ~00s           |++++++++++++++++++++++++++++++++                  | 63% ~00s           |+++++++++++++++++++++++++++++++++                 | 65% ~00s           |++++++++++++++++++++++++++++++++++                | 67% ~00s           |+++++++++++++++++++++++++++++++++++               | 69% ~00s           |++++++++++++++++++++++++++++++++++++              | 71% ~00s           |+++++++++++++++++++++++++++++++++++++             | 73% ~00s           |++++++++++++++++++++++++++++++++++++++            | 75% ~00s           |+++++++++++++++++++++++++++++++++++++++           | 76% ~00s           |++++++++++++++++++++++++++++++++++++++++          | 78% ~00s           |+++++++++++++++++++++++++++++++++++++++++         | 80% ~00s           |++++++++++++++++++++++++++++++++++++++++++        | 82% ~00s           |+++++++++++++++++++++++++++++++++++++++++++       | 84% ~00s           |++++++++++++++++++++++++++++++++++++++++++++      | 86% ~00s           |+++++++++++++++++++++++++++++++++++++++++++++     | 88% ~00s           |++++++++++++++++++++++++++++++++++++++++++++++    | 90% ~00s           |+++++++++++++++++++++++++++++++++++++++++++++++   | 92% ~00s           |++++++++++++++++++++++++++++++++++++++++++++++++  | 94% ~00s           |+++++++++++++++++++++++++++++++++++++++++++++++++ | 96% ~00s           |++++++++++++++++++++++++++++++++++++++++++++++++++| 98% ~00s           |++++++++++++++++++++++++++++++++++++++++++++++++++| 100% elapsed=01s  \n"
     ]
    },
    {
     "name": "stderr",
     "output_type": "stream",
     "text": [
      "R[write to console]: Calculating cluster LowQ_2\n",
      "\n"
     ]
    },
    {
     "name": "stdout",
     "output_type": "stream",
     "text": [
      "  |                                                  | 0 % ~calculating   |++++++                                            | 11% ~00s           |++++++++++++                                      | 22% ~00s           |+++++++++++++++++                                 | 33% ~00s           |+++++++++++++++++++++++                           | 44% ~00s           |++++++++++++++++++++++++++++                      | 56% ~00s           |++++++++++++++++++++++++++++++++++                | 67% ~00s           |+++++++++++++++++++++++++++++++++++++++           | 78% ~00s           |+++++++++++++++++++++++++++++++++++++++++++++     | 89% ~00s           |++++++++++++++++++++++++++++++++++++++++++++++++++| 100% elapsed=00s  \n"
     ]
    },
    {
     "name": "stderr",
     "output_type": "stream",
     "text": [
      "R[write to console]: Calculating cluster Ext_Amy_2\n",
      "\n"
     ]
    },
    {
     "name": "stdout",
     "output_type": "stream",
     "text": [
      "  |                                                  | 0 % ~calculating   |++                                                | 2 % ~01s           |+++                                               | 4 % ~01s           |++++                                              | 6 % ~01s           |+++++                                             | 8 % ~01s           |++++++                                            | 10% ~01s           |+++++++                                           | 12% ~01s           |++++++++                                          | 15% ~01s           |+++++++++                                         | 17% ~01s           |++++++++++                                        | 19% ~01s           |+++++++++++                                       | 21% ~01s           |++++++++++++                                      | 23% ~01s           |+++++++++++++                                     | 25% ~01s           |++++++++++++++                                    | 27% ~01s           |+++++++++++++++                                   | 29% ~01s           |++++++++++++++++                                  | 31% ~01s           |+++++++++++++++++                                 | 33% ~01s           |++++++++++++++++++                                | 35% ~01s           |+++++++++++++++++++                               | 38% ~01s           |++++++++++++++++++++                              | 40% ~01s           |+++++++++++++++++++++                             | 42% ~01s           |++++++++++++++++++++++                            | 44% ~00s           |+++++++++++++++++++++++                           | 46% ~00s           |++++++++++++++++++++++++                          | 48% ~00s           |+++++++++++++++++++++++++                         | 50% ~00s           |+++++++++++++++++++++++++++                       | 52% ~00s           |++++++++++++++++++++++++++++                      | 54% ~00s           |+++++++++++++++++++++++++++++                     | 56% ~00s           |++++++++++++++++++++++++++++++                    | 58% ~00s           |+++++++++++++++++++++++++++++++                   | 60% ~00s           |++++++++++++++++++++++++++++++++                  | 62% ~00s           |+++++++++++++++++++++++++++++++++                 | 65% ~00s           |++++++++++++++++++++++++++++++++++                | 67% ~00s           |+++++++++++++++++++++++++++++++++++               | 69% ~00s           |++++++++++++++++++++++++++++++++++++              | 71% ~00s           |+++++++++++++++++++++++++++++++++++++             | 73% ~00s           |++++++++++++++++++++++++++++++++++++++            | 75% ~00s           |+++++++++++++++++++++++++++++++++++++++           | 77% ~00s           |++++++++++++++++++++++++++++++++++++++++          | 79% ~00s           |+++++++++++++++++++++++++++++++++++++++++         | 81% ~00s           |++++++++++++++++++++++++++++++++++++++++++        | 83% ~00s           |+++++++++++++++++++++++++++++++++++++++++++       | 85% ~00s           |++++++++++++++++++++++++++++++++++++++++++++      | 88% ~00s           |+++++++++++++++++++++++++++++++++++++++++++++     | 90% ~00s           |++++++++++++++++++++++++++++++++++++++++++++++    | 92% ~00s           |+++++++++++++++++++++++++++++++++++++++++++++++   | 94% ~00s           |++++++++++++++++++++++++++++++++++++++++++++++++  | 96% ~00s           |+++++++++++++++++++++++++++++++++++++++++++++++++ | 98% ~00s           |++++++++++++++++++++++++++++++++++++++++++++++++++| 100% elapsed=01s  \n"
     ]
    },
    {
     "name": "stderr",
     "output_type": "stream",
     "text": [
      "R[write to console]: Calculating cluster Micro\n",
      "\n"
     ]
    },
    {
     "name": "stdout",
     "output_type": "stream",
     "text": [
      "  |                                                  | 0 % ~calculating   |+++++++++++++++++++++++++                         | 50% ~00s           |++++++++++++++++++++++++++++++++++++++++++++++++++| 100% elapsed=00s  \n"
     ]
    },
    {
     "name": "stderr",
     "output_type": "stream",
     "text": [
      "R[write to console]: Calculating cluster Ext_L23\n",
      "\n"
     ]
    },
    {
     "name": "stdout",
     "output_type": "stream",
     "text": [
      "  |                                                  | 0 % ~calculating   |+                                                 | 2 % ~01s           |++                                                | 3 % ~01s           |+++                                               | 5 % ~01s           |++++                                              | 7 % ~01s           |+++++                                             | 8 % ~01s           |++++++                                            | 10% ~01s           |++++++                                            | 12% ~01s           |+++++++                                           | 14% ~01s           |++++++++                                          | 15% ~01s           |+++++++++                                         | 17% ~01s           |++++++++++                                        | 19% ~01s           |+++++++++++                                       | 20% ~01s           |++++++++++++                                      | 22% ~01s           |++++++++++++                                      | 24% ~01s           |+++++++++++++                                     | 25% ~01s           |++++++++++++++                                    | 27% ~01s           |+++++++++++++++                                   | 29% ~01s           |++++++++++++++++                                  | 31% ~01s           |+++++++++++++++++                                 | 32% ~01s           |+++++++++++++++++                                 | 34% ~01s           |++++++++++++++++++                                | 36% ~01s           |+++++++++++++++++++                               | 37% ~01s           |++++++++++++++++++++                              | 39% ~01s           |+++++++++++++++++++++                             | 41% ~01s           |++++++++++++++++++++++                            | 42% ~01s           |+++++++++++++++++++++++                           | 44% ~01s           |+++++++++++++++++++++++                           | 46% ~01s           |++++++++++++++++++++++++                          | 47% ~01s           |+++++++++++++++++++++++++                         | 49% ~01s           |++++++++++++++++++++++++++                        | 51% ~00s           |+++++++++++++++++++++++++++                       | 53% ~00s           |++++++++++++++++++++++++++++                      | 54% ~00s           |++++++++++++++++++++++++++++                      | 56% ~00s           |+++++++++++++++++++++++++++++                     | 58% ~00s           |++++++++++++++++++++++++++++++                    | 59% ~00s           |+++++++++++++++++++++++++++++++                   | 61% ~00s           |++++++++++++++++++++++++++++++++                  | 63% ~00s           |+++++++++++++++++++++++++++++++++                 | 64% ~00s           |++++++++++++++++++++++++++++++++++                | 66% ~00s           |++++++++++++++++++++++++++++++++++                | 68% ~00s           |+++++++++++++++++++++++++++++++++++               | 69% ~00s           |++++++++++++++++++++++++++++++++++++              | 71% ~00s           |+++++++++++++++++++++++++++++++++++++             | 73% ~00s           |++++++++++++++++++++++++++++++++++++++            | 75% ~00s           |+++++++++++++++++++++++++++++++++++++++           | 76% ~00s           |+++++++++++++++++++++++++++++++++++++++           | 78% ~00s           |++++++++++++++++++++++++++++++++++++++++          | 80% ~00s           |+++++++++++++++++++++++++++++++++++++++++         | 81% ~00s           |++++++++++++++++++++++++++++++++++++++++++        | 83% ~00s           |+++++++++++++++++++++++++++++++++++++++++++       | 85% ~00s           |++++++++++++++++++++++++++++++++++++++++++++      | 86% ~00s           |+++++++++++++++++++++++++++++++++++++++++++++     | 88% ~00s           |+++++++++++++++++++++++++++++++++++++++++++++     | 90% ~00s           |++++++++++++++++++++++++++++++++++++++++++++++    | 92% ~00s           |+++++++++++++++++++++++++++++++++++++++++++++++   | 93% ~00s           |++++++++++++++++++++++++++++++++++++++++++++++++  | 95% ~00s           |+++++++++++++++++++++++++++++++++++++++++++++++++ | 97% ~00s           |++++++++++++++++++++++++++++++++++++++++++++++++++| 98% ~00s           |++++++++++++++++++++++++++++++++++++++++++++++++++| 100% elapsed=01s  \n"
     ]
    },
    {
     "name": "stderr",
     "output_type": "stream",
     "text": [
      "R[write to console]: Calculating cluster Inh_Pvalb\n",
      "\n"
     ]
    },
    {
     "name": "stdout",
     "output_type": "stream",
     "text": [
      "  |                                                  | 0 % ~calculating   |++                                                | 3 % ~00s           |++++                                              | 7 % ~00s           |+++++                                             | 10% ~00s           |+++++++                                           | 13% ~00s           |+++++++++                                         | 17% ~00s           |++++++++++                                        | 20% ~00s           |++++++++++++                                      | 23% ~00s           |++++++++++++++                                    | 27% ~00s           |+++++++++++++++                                   | 30% ~00s           |+++++++++++++++++                                 | 33% ~00s           |+++++++++++++++++++                               | 37% ~00s           |++++++++++++++++++++                              | 40% ~00s           |++++++++++++++++++++++                            | 43% ~00s           |++++++++++++++++++++++++                          | 47% ~00s           |+++++++++++++++++++++++++                         | 50% ~00s           |+++++++++++++++++++++++++++                       | 53% ~00s           |+++++++++++++++++++++++++++++                     | 57% ~00s           |++++++++++++++++++++++++++++++                    | 60% ~00s           |++++++++++++++++++++++++++++++++                  | 63% ~00s           |++++++++++++++++++++++++++++++++++                | 67% ~00s           |+++++++++++++++++++++++++++++++++++               | 70% ~00s           |+++++++++++++++++++++++++++++++++++++             | 73% ~00s           |+++++++++++++++++++++++++++++++++++++++           | 77% ~00s           |++++++++++++++++++++++++++++++++++++++++          | 80% ~00s           |++++++++++++++++++++++++++++++++++++++++++        | 83% ~00s           |++++++++++++++++++++++++++++++++++++++++++++      | 87% ~00s           |+++++++++++++++++++++++++++++++++++++++++++++     | 90% ~00s           |+++++++++++++++++++++++++++++++++++++++++++++++   | 93% ~00s           |+++++++++++++++++++++++++++++++++++++++++++++++++ | 97% ~00s           |++++++++++++++++++++++++++++++++++++++++++++++++++| 100% elapsed=00s  \n"
     ]
    },
    {
     "name": "stderr",
     "output_type": "stream",
     "text": [
      "R[write to console]: Calculating cluster Inh_5\n",
      "\n"
     ]
    },
    {
     "name": "stdout",
     "output_type": "stream",
     "text": [
      "  |                                                  | 0 % ~calculating   |+++                                               | 6 % ~00s           |++++++                                            | 11% ~00s           |+++++++++                                         | 17% ~00s           |++++++++++++                                      | 22% ~00s           |++++++++++++++                                    | 28% ~00s           |+++++++++++++++++                                 | 33% ~00s           |++++++++++++++++++++                              | 39% ~00s           |+++++++++++++++++++++++                           | 44% ~00s           |+++++++++++++++++++++++++                         | 50% ~00s           |++++++++++++++++++++++++++++                      | 56% ~00s           |+++++++++++++++++++++++++++++++                   | 61% ~00s           |++++++++++++++++++++++++++++++++++                | 67% ~00s           |+++++++++++++++++++++++++++++++++++++             | 72% ~00s           |+++++++++++++++++++++++++++++++++++++++           | 78% ~00s           |++++++++++++++++++++++++++++++++++++++++++        | 83% ~00s           |+++++++++++++++++++++++++++++++++++++++++++++     | 89% ~00s           |++++++++++++++++++++++++++++++++++++++++++++++++  | 94% ~00s           |++++++++++++++++++++++++++++++++++++++++++++++++++| 100% elapsed=00s  \n"
     ]
    },
    {
     "name": "stderr",
     "output_type": "stream",
     "text": [
      "R[write to console]: Calculating cluster Inh_Sst\n",
      "\n"
     ]
    },
    {
     "name": "stdout",
     "output_type": "stream",
     "text": [
      "  |                                                  | 0 % ~calculating   |++++++++                                          | 14% ~00s           |+++++++++++++++                                   | 29% ~00s           |++++++++++++++++++++++                            | 43% ~00s           |+++++++++++++++++++++++++++++                     | 57% ~00s           |++++++++++++++++++++++++++++++++++++              | 71% ~00s           |+++++++++++++++++++++++++++++++++++++++++++       | 86% ~00s           |++++++++++++++++++++++++++++++++++++++++++++++++++| 100% elapsed=00s  \n"
     ]
    },
    {
     "name": "stderr",
     "output_type": "stream",
     "text": [
      "R[write to console]: Calculating cluster Ext_Thal_1\n",
      "\n"
     ]
    },
    {
     "name": "stdout",
     "output_type": "stream",
     "text": [
      "  |                                                  | 0 % ~calculating   |+                                                 | 1 % ~03s           |++                                                | 2 % ~03s           |++                                                | 3 % ~03s           |+++                                               | 5 % ~03s           |+++                                               | 6 % ~03s           |++++                                              | 7 % ~03s           |+++++                                             | 8 % ~03s           |+++++                                             | 9 % ~03s           |++++++                                            | 10% ~02s           |++++++                                            | 11% ~02s           |+++++++                                           | 13% ~02s           |+++++++                                           | 14% ~02s           |++++++++                                          | 15% ~02s           |+++++++++                                         | 16% ~02s           |+++++++++                                         | 17% ~02s           |++++++++++                                        | 18% ~02s           |++++++++++                                        | 20% ~02s           |+++++++++++                                       | 21% ~02s           |+++++++++++                                       | 22% ~02s           |++++++++++++                                      | 23% ~02s           |+++++++++++++                                     | 24% ~02s           |+++++++++++++                                     | 25% ~02s           |++++++++++++++                                    | 26% ~02s           |++++++++++++++                                    | 28% ~02s           |+++++++++++++++                                   | 29% ~02s           |+++++++++++++++                                   | 30% ~02s           |++++++++++++++++                                  | 31% ~02s           |+++++++++++++++++                                 | 32% ~02s           |+++++++++++++++++                                 | 33% ~02s           |++++++++++++++++++                                | 34% ~02s           |++++++++++++++++++                                | 36% ~02s           |+++++++++++++++++++                               | 37% ~02s           |+++++++++++++++++++                               | 38% ~02s           |++++++++++++++++++++                              | 39% ~02s           |+++++++++++++++++++++                             | 40% ~02s           |+++++++++++++++++++++                             | 41% ~02s           |++++++++++++++++++++++                            | 43% ~02s           |++++++++++++++++++++++                            | 44% ~02s           |+++++++++++++++++++++++                           | 45% ~02s           |+++++++++++++++++++++++                           | 46% ~02s           |++++++++++++++++++++++++                          | 47% ~02s           |+++++++++++++++++++++++++                         | 48% ~02s           |+++++++++++++++++++++++++                         | 49% ~01s           |++++++++++++++++++++++++++                        | 51% ~01s           |++++++++++++++++++++++++++                        | 52% ~01s           |+++++++++++++++++++++++++++                       | 53% ~01s           |++++++++++++++++++++++++++++                      | 54% ~01s           |++++++++++++++++++++++++++++                      | 55% ~01s           |+++++++++++++++++++++++++++++                     | 56% ~01s           |+++++++++++++++++++++++++++++                     | 57% ~01s           |++++++++++++++++++++++++++++++                    | 59% ~01s           |++++++++++++++++++++++++++++++                    | 60% ~01s           |+++++++++++++++++++++++++++++++                   | 61% ~01s           |++++++++++++++++++++++++++++++++                  | 62% ~01s           |++++++++++++++++++++++++++++++++                  | 63% ~01s           |+++++++++++++++++++++++++++++++++                 | 64% ~01s           |+++++++++++++++++++++++++++++++++                 | 66% ~01s           |++++++++++++++++++++++++++++++++++                | 67% ~01s           |++++++++++++++++++++++++++++++++++                | 68% ~01s           |+++++++++++++++++++++++++++++++++++               | 69% ~01s           |++++++++++++++++++++++++++++++++++++              | 70% ~01s           |++++++++++++++++++++++++++++++++++++              | 71% ~01s           |+++++++++++++++++++++++++++++++++++++             | 72% ~01s           |+++++++++++++++++++++++++++++++++++++             | 74% ~01s           |++++++++++++++++++++++++++++++++++++++            | 75% ~01s           |++++++++++++++++++++++++++++++++++++++            | 76% ~01s           |+++++++++++++++++++++++++++++++++++++++           | 77% ~01s           |++++++++++++++++++++++++++++++++++++++++          | 78% ~01s           |++++++++++++++++++++++++++++++++++++++++          | 79% ~01s           |+++++++++++++++++++++++++++++++++++++++++         | 80% ~01s           |+++++++++++++++++++++++++++++++++++++++++         | 82% ~01s           |++++++++++++++++++++++++++++++++++++++++++        | 83% ~01s           |++++++++++++++++++++++++++++++++++++++++++        | 84% ~01s           |+++++++++++++++++++++++++++++++++++++++++++       | 85% ~00s           |++++++++++++++++++++++++++++++++++++++++++++      | 86% ~00s           |++++++++++++++++++++++++++++++++++++++++++++      | 87% ~00s           |+++++++++++++++++++++++++++++++++++++++++++++     | 89% ~00s           |+++++++++++++++++++++++++++++++++++++++++++++     | 90% ~00s           |++++++++++++++++++++++++++++++++++++++++++++++    | 91% ~00s           |++++++++++++++++++++++++++++++++++++++++++++++    | 92% ~00s           |+++++++++++++++++++++++++++++++++++++++++++++++   | 93% ~00s           |++++++++++++++++++++++++++++++++++++++++++++++++  | 94% ~00s           |++++++++++++++++++++++++++++++++++++++++++++++++  | 95% ~00s           |+++++++++++++++++++++++++++++++++++++++++++++++++ | 97% ~00s           |+++++++++++++++++++++++++++++++++++++++++++++++++ | 98% ~00s           |++++++++++++++++++++++++++++++++++++++++++++++++++| 99% ~00s           |++++++++++++++++++++++++++++++++++++++++++++++++++| 100% elapsed=03s  \n"
     ]
    },
    {
     "name": "stderr",
     "output_type": "stream",
     "text": [
      "R[write to console]: Calculating cluster Ext_L25\n",
      "\n"
     ]
    },
    {
     "name": "stdout",
     "output_type": "stream",
     "text": [
      "  |                                                  | 0 % ~calculating   |++++++++++++++++++++++++++++++++++++++++++++++++++| 100% elapsed=00s  \n"
     ]
    },
    {
     "name": "stderr",
     "output_type": "stream",
     "text": [
      "R[write to console]: Calculating cluster OPC_2\n",
      "\n"
     ]
    },
    {
     "name": "stdout",
     "output_type": "stream",
     "text": [
      "  |                                                  | 0 % ~calculating   |+++++                                             | 8 % ~00s           |+++++++++                                         | 17% ~00s           |+++++++++++++                                     | 25% ~00s           |+++++++++++++++++                                 | 33% ~00s           |+++++++++++++++++++++                             | 42% ~00s           |+++++++++++++++++++++++++                         | 50% ~00s           |++++++++++++++++++++++++++++++                    | 58% ~00s           |++++++++++++++++++++++++++++++++++                | 67% ~00s           |++++++++++++++++++++++++++++++++++++++            | 75% ~00s           |++++++++++++++++++++++++++++++++++++++++++        | 83% ~00s           |++++++++++++++++++++++++++++++++++++++++++++++    | 92% ~00s           |++++++++++++++++++++++++++++++++++++++++++++++++++| 100% elapsed=00s  \n"
     ]
    },
    {
     "name": "stderr",
     "output_type": "stream",
     "text": [
      "R[write to console]: Calculating cluster Ext_Hpc_1\n",
      "\n"
     ]
    },
    {
     "name": "stdout",
     "output_type": "stream",
     "text": [
      "  |                                                  | 0 % ~calculating   |++                                                | 2 % ~01s           |+++                                               | 5 % ~01s           |++++                                              | 8 % ~01s           |+++++                                             | 10% ~01s           |+++++++                                           | 12% ~01s           |++++++++                                          | 15% ~01s           |+++++++++                                         | 18% ~01s           |++++++++++                                        | 20% ~01s           |++++++++++++                                      | 22% ~01s           |+++++++++++++                                     | 25% ~00s           |++++++++++++++                                    | 28% ~00s           |+++++++++++++++                                   | 30% ~00s           |+++++++++++++++++                                 | 32% ~00s           |++++++++++++++++++                                | 35% ~00s           |+++++++++++++++++++                               | 38% ~00s           |++++++++++++++++++++                              | 40% ~00s           |++++++++++++++++++++++                            | 42% ~00s           |+++++++++++++++++++++++                           | 45% ~00s           |++++++++++++++++++++++++                          | 48% ~00s           |+++++++++++++++++++++++++                         | 50% ~00s           |+++++++++++++++++++++++++++                       | 52% ~00s           |++++++++++++++++++++++++++++                      | 55% ~00s           |+++++++++++++++++++++++++++++                     | 58% ~00s           |++++++++++++++++++++++++++++++                    | 60% ~00s           |++++++++++++++++++++++++++++++++                  | 62% ~00s           |+++++++++++++++++++++++++++++++++                 | 65% ~00s           |++++++++++++++++++++++++++++++++++                | 68% ~00s           |+++++++++++++++++++++++++++++++++++               | 70% ~00s           |+++++++++++++++++++++++++++++++++++++             | 72% ~00s           |++++++++++++++++++++++++++++++++++++++            | 75% ~00s           |+++++++++++++++++++++++++++++++++++++++           | 78% ~00s           |++++++++++++++++++++++++++++++++++++++++          | 80% ~00s           |++++++++++++++++++++++++++++++++++++++++++        | 82% ~00s           |+++++++++++++++++++++++++++++++++++++++++++       | 85% ~00s           |++++++++++++++++++++++++++++++++++++++++++++      | 88% ~00s           |+++++++++++++++++++++++++++++++++++++++++++++     | 90% ~00s           |+++++++++++++++++++++++++++++++++++++++++++++++   | 92% ~00s           |++++++++++++++++++++++++++++++++++++++++++++++++  | 95% ~00s           |+++++++++++++++++++++++++++++++++++++++++++++++++ | 98% ~00s           |++++++++++++++++++++++++++++++++++++++++++++++++++| 100% elapsed=01s  \n"
     ]
    },
    {
     "name": "stderr",
     "output_type": "stream",
     "text": [
      "R[write to console]: Calculating cluster Inh_Meis2_2\n",
      "\n"
     ]
    },
    {
     "name": "stdout",
     "output_type": "stream",
     "text": [
      "  |                                                  | 0 % ~calculating   |+++                                               | 6 % ~00s           |++++++                                            | 11% ~00s           |+++++++++                                         | 17% ~00s           |++++++++++++                                      | 22% ~00s           |++++++++++++++                                    | 28% ~00s           |+++++++++++++++++                                 | 33% ~00s           |++++++++++++++++++++                              | 39% ~00s           |+++++++++++++++++++++++                           | 44% ~00s           |+++++++++++++++++++++++++                         | 50% ~00s           |++++++++++++++++++++++++++++                      | 56% ~00s           |+++++++++++++++++++++++++++++++                   | 61% ~00s           |++++++++++++++++++++++++++++++++++                | 67% ~00s           |+++++++++++++++++++++++++++++++++++++             | 72% ~00s           |+++++++++++++++++++++++++++++++++++++++           | 78% ~00s           |++++++++++++++++++++++++++++++++++++++++++        | 83% ~00s           |+++++++++++++++++++++++++++++++++++++++++++++     | 89% ~00s           |++++++++++++++++++++++++++++++++++++++++++++++++  | 94% ~00s           |++++++++++++++++++++++++++++++++++++++++++++++++++| 100% elapsed=00s  \n"
     ]
    },
    {
     "name": "stderr",
     "output_type": "stream",
     "text": [
      "R[write to console]: Calculating cluster Astro_0\n",
      "\n"
     ]
    },
    {
     "name": "stdout",
     "output_type": "stream",
     "text": [
      "  |                                                  | 0 % ~calculating   |++++++++++                                        | 20% ~00s           |++++++++++++++++++++                              | 40% ~00s           |++++++++++++++++++++++++++++++                    | 60% ~00s           |++++++++++++++++++++++++++++++++++++++++          | 80% ~00s           |++++++++++++++++++++++++++++++++++++++++++++++++++| 100% elapsed=00s  \n"
     ]
    },
    {
     "name": "stderr",
     "output_type": "stream",
     "text": [
      "R[write to console]: Calculating cluster Inh_6\n",
      "\n"
     ]
    },
    {
     "name": "stdout",
     "output_type": "stream",
     "text": [
      "  |                                                  | 0 % ~calculating   |++++                                              | 7 % ~00s           |+++++++                                           | 13% ~00s           |++++++++++                                        | 20% ~00s           |++++++++++++++                                    | 27% ~00s           |+++++++++++++++++                                 | 33% ~00s           |++++++++++++++++++++                              | 40% ~00s           |++++++++++++++++++++++++                          | 47% ~00s           |+++++++++++++++++++++++++++                       | 53% ~00s           |++++++++++++++++++++++++++++++                    | 60% ~00s           |++++++++++++++++++++++++++++++++++                | 67% ~00s           |+++++++++++++++++++++++++++++++++++++             | 73% ~00s           |++++++++++++++++++++++++++++++++++++++++          | 80% ~00s           |++++++++++++++++++++++++++++++++++++++++++++      | 87% ~00s           |+++++++++++++++++++++++++++++++++++++++++++++++   | 93% ~00s           |++++++++++++++++++++++++++++++++++++++++++++++++++| 100% elapsed=00s  \n"
     ]
    },
    {
     "name": "stderr",
     "output_type": "stream",
     "text": [
      "R[write to console]: Calculating cluster Unk_1\n",
      "\n",
      "R[write to console]: Calculating cluster Ext_L5_2\n",
      "\n"
     ]
    },
    {
     "name": "stdout",
     "output_type": "stream",
     "text": [
      "  |                                                  | 0 % ~calculating   |+                                                 | 1 % ~02s           |++                                                | 3 % ~02s           |++                                                | 4 % ~02s           |+++                                               | 5 % ~02s           |++++                                              | 7 % ~02s           |++++                                              | 8 % ~02s           |+++++                                             | 9 % ~02s           |++++++                                            | 11% ~02s           |++++++                                            | 12% ~02s           |+++++++                                           | 13% ~02s           |++++++++                                          | 15% ~02s           |++++++++                                          | 16% ~02s           |+++++++++                                         | 17% ~02s           |++++++++++                                        | 19% ~02s           |++++++++++                                        | 20% ~02s           |+++++++++++                                       | 21% ~02s           |++++++++++++                                      | 23% ~02s           |++++++++++++                                      | 24% ~02s           |+++++++++++++                                     | 25% ~02s           |++++++++++++++                                    | 27% ~02s           |++++++++++++++                                    | 28% ~02s           |+++++++++++++++                                   | 29% ~02s           |++++++++++++++++                                  | 31% ~02s           |++++++++++++++++                                  | 32% ~02s           |+++++++++++++++++                                 | 33% ~02s           |++++++++++++++++++                                | 35% ~02s           |++++++++++++++++++                                | 36% ~02s           |+++++++++++++++++++                               | 37% ~02s           |++++++++++++++++++++                              | 39% ~01s           |++++++++++++++++++++                              | 40% ~01s           |+++++++++++++++++++++                             | 41% ~01s           |++++++++++++++++++++++                            | 43% ~01s           |++++++++++++++++++++++                            | 44% ~01s           |+++++++++++++++++++++++                           | 45% ~01s           |++++++++++++++++++++++++                          | 47% ~01s           |++++++++++++++++++++++++                          | 48% ~01s           |+++++++++++++++++++++++++                         | 49% ~01s           |++++++++++++++++++++++++++                        | 51% ~01s           |++++++++++++++++++++++++++                        | 52% ~01s           |+++++++++++++++++++++++++++                       | 53% ~01s           |++++++++++++++++++++++++++++                      | 55% ~01s           |++++++++++++++++++++++++++++                      | 56% ~01s           |+++++++++++++++++++++++++++++                     | 57% ~01s           |++++++++++++++++++++++++++++++                    | 59% ~01s           |++++++++++++++++++++++++++++++                    | 60% ~01s           |+++++++++++++++++++++++++++++++                   | 61% ~01s           |++++++++++++++++++++++++++++++++                  | 63% ~01s           |++++++++++++++++++++++++++++++++                  | 64% ~01s           |+++++++++++++++++++++++++++++++++                 | 65% ~01s           |++++++++++++++++++++++++++++++++++                | 67% ~01s           |++++++++++++++++++++++++++++++++++                | 68% ~01s           |+++++++++++++++++++++++++++++++++++               | 69% ~01s           |++++++++++++++++++++++++++++++++++++              | 71% ~01s           |++++++++++++++++++++++++++++++++++++              | 72% ~01s           |+++++++++++++++++++++++++++++++++++++             | 73% ~01s           |++++++++++++++++++++++++++++++++++++++            | 75% ~01s           |++++++++++++++++++++++++++++++++++++++            | 76% ~01s           |+++++++++++++++++++++++++++++++++++++++           | 77% ~01s           |++++++++++++++++++++++++++++++++++++++++          | 79% ~01s           |++++++++++++++++++++++++++++++++++++++++          | 80% ~01s           |+++++++++++++++++++++++++++++++++++++++++         | 81% ~00s           |++++++++++++++++++++++++++++++++++++++++++        | 83% ~00s           |++++++++++++++++++++++++++++++++++++++++++        | 84% ~00s           |+++++++++++++++++++++++++++++++++++++++++++       | 85% ~00s           |++++++++++++++++++++++++++++++++++++++++++++      | 87% ~00s           |++++++++++++++++++++++++++++++++++++++++++++      | 88% ~00s           |+++++++++++++++++++++++++++++++++++++++++++++     | 89% ~00s           |++++++++++++++++++++++++++++++++++++++++++++++    | 91% ~00s           |++++++++++++++++++++++++++++++++++++++++++++++    | 92% ~00s           |+++++++++++++++++++++++++++++++++++++++++++++++   | 93% ~00s           |++++++++++++++++++++++++++++++++++++++++++++++++  | 95% ~00s           |++++++++++++++++++++++++++++++++++++++++++++++++  | 96% ~00s           |+++++++++++++++++++++++++++++++++++++++++++++++++ | 97% ~00s           |++++++++++++++++++++++++++++++++++++++++++++++++++| 99% ~00s           |++++++++++++++++++++++++++++++++++++++++++++++++++| 100% elapsed=03s  \n"
     ]
    },
    {
     "name": "stderr",
     "output_type": "stream",
     "text": [
      "R[write to console]: Calculating cluster Ext_L5_1\n",
      "\n"
     ]
    },
    {
     "name": "stdout",
     "output_type": "stream",
     "text": [
      "  |                                                  | 0 % ~calculating   |+                                                 | 2 % ~01s           |++                                                | 4 % ~01s           |+++                                               | 6 % ~01s           |++++                                              | 8 % ~01s           |+++++                                             | 10% ~01s           |++++++                                            | 12% ~01s           |+++++++                                           | 13% ~01s           |++++++++                                          | 15% ~01s           |+++++++++                                         | 17% ~01s           |++++++++++                                        | 19% ~01s           |+++++++++++                                       | 21% ~01s           |++++++++++++                                      | 23% ~01s           |+++++++++++++                                     | 25% ~01s           |++++++++++++++                                    | 27% ~01s           |+++++++++++++++                                   | 29% ~01s           |++++++++++++++++                                  | 31% ~01s           |+++++++++++++++++                                 | 33% ~01s           |++++++++++++++++++                                | 35% ~01s           |+++++++++++++++++++                               | 37% ~01s           |++++++++++++++++++++                              | 38% ~01s           |+++++++++++++++++++++                             | 40% ~01s           |++++++++++++++++++++++                            | 42% ~01s           |+++++++++++++++++++++++                           | 44% ~01s           |++++++++++++++++++++++++                          | 46% ~00s           |+++++++++++++++++++++++++                         | 48% ~00s           |+++++++++++++++++++++++++                         | 50% ~00s           |++++++++++++++++++++++++++                        | 52% ~00s           |+++++++++++++++++++++++++++                       | 54% ~00s           |++++++++++++++++++++++++++++                      | 56% ~00s           |+++++++++++++++++++++++++++++                     | 58% ~00s           |++++++++++++++++++++++++++++++                    | 60% ~00s           |+++++++++++++++++++++++++++++++                   | 62% ~00s           |++++++++++++++++++++++++++++++++                  | 63% ~00s           |+++++++++++++++++++++++++++++++++                 | 65% ~00s           |++++++++++++++++++++++++++++++++++                | 67% ~00s           |+++++++++++++++++++++++++++++++++++               | 69% ~00s           |++++++++++++++++++++++++++++++++++++              | 71% ~00s           |+++++++++++++++++++++++++++++++++++++             | 73% ~00s           |++++++++++++++++++++++++++++++++++++++            | 75% ~00s           |+++++++++++++++++++++++++++++++++++++++           | 77% ~00s           |++++++++++++++++++++++++++++++++++++++++          | 79% ~00s           |+++++++++++++++++++++++++++++++++++++++++         | 81% ~00s           |++++++++++++++++++++++++++++++++++++++++++        | 83% ~00s           |+++++++++++++++++++++++++++++++++++++++++++       | 85% ~00s           |++++++++++++++++++++++++++++++++++++++++++++      | 87% ~00s           |+++++++++++++++++++++++++++++++++++++++++++++     | 88% ~00s           |++++++++++++++++++++++++++++++++++++++++++++++    | 90% ~00s           |+++++++++++++++++++++++++++++++++++++++++++++++   | 92% ~00s           |++++++++++++++++++++++++++++++++++++++++++++++++  | 94% ~00s           |+++++++++++++++++++++++++++++++++++++++++++++++++ | 96% ~00s           |++++++++++++++++++++++++++++++++++++++++++++++++++| 98% ~00s           |++++++++++++++++++++++++++++++++++++++++++++++++++| 100% elapsed=01s  \n"
     ]
    },
    {
     "name": "stderr",
     "output_type": "stream",
     "text": [
      "R[write to console]: Calculating cluster Ext_L56\n",
      "\n"
     ]
    },
    {
     "name": "stdout",
     "output_type": "stream",
     "text": [
      "  |                                                  | 0 % ~calculating   |++++                                              | 6 % ~00s           |+++++++                                           | 12% ~00s           |++++++++++                                        | 19% ~00s           |+++++++++++++                                     | 25% ~00s           |++++++++++++++++                                  | 31% ~00s           |+++++++++++++++++++                               | 38% ~00s           |++++++++++++++++++++++                            | 44% ~00s           |+++++++++++++++++++++++++                         | 50% ~00s           |+++++++++++++++++++++++++++++                     | 56% ~00s           |++++++++++++++++++++++++++++++++                  | 62% ~00s           |+++++++++++++++++++++++++++++++++++               | 69% ~00s           |++++++++++++++++++++++++++++++++++++++            | 75% ~00s           |+++++++++++++++++++++++++++++++++++++++++         | 81% ~00s           |++++++++++++++++++++++++++++++++++++++++++++      | 88% ~00s           |+++++++++++++++++++++++++++++++++++++++++++++++   | 94% ~00s           |++++++++++++++++++++++++++++++++++++++++++++++++++| 100% elapsed=00s  \n"
     ]
    },
    {
     "name": "stderr",
     "output_type": "stream",
     "text": [
      "R[write to console]: Calculating cluster Astro_2\n",
      "\n"
     ]
    },
    {
     "name": "stdout",
     "output_type": "stream",
     "text": [
      "  |                                                  | 0 % ~calculating   |+++                                               | 5 % ~00s           |+++++                                             | 10% ~00s           |++++++++                                          | 14% ~00s           |++++++++++                                        | 19% ~00s           |++++++++++++                                      | 24% ~00s           |+++++++++++++++                                   | 29% ~00s           |+++++++++++++++++                                 | 33% ~00s           |++++++++++++++++++++                              | 38% ~00s           |++++++++++++++++++++++                            | 43% ~00s           |++++++++++++++++++++++++                          | 48% ~00s           |+++++++++++++++++++++++++++                       | 52% ~00s           |+++++++++++++++++++++++++++++                     | 57% ~00s           |+++++++++++++++++++++++++++++++                   | 62% ~00s           |++++++++++++++++++++++++++++++++++                | 67% ~00s           |++++++++++++++++++++++++++++++++++++              | 71% ~00s           |+++++++++++++++++++++++++++++++++++++++           | 76% ~00s           |+++++++++++++++++++++++++++++++++++++++++         | 81% ~00s           |+++++++++++++++++++++++++++++++++++++++++++       | 86% ~00s           |++++++++++++++++++++++++++++++++++++++++++++++    | 90% ~00s           |++++++++++++++++++++++++++++++++++++++++++++++++  | 95% ~00s           |++++++++++++++++++++++++++++++++++++++++++++++++++| 100% elapsed=00s  \n"
     ]
    },
    {
     "name": "stderr",
     "output_type": "stream",
     "text": [
      "R[write to console]: Calculating cluster Inh_Meis2_1\n",
      "\n"
     ]
    },
    {
     "name": "stdout",
     "output_type": "stream",
     "text": [
      "  |                                                  | 0 % ~calculating   |+++++++++++++++++++++++++                         | 50% ~00s           |++++++++++++++++++++++++++++++++++++++++++++++++++| 100% elapsed=00s  \n"
     ]
    },
    {
     "name": "stderr",
     "output_type": "stream",
     "text": [
      "R[write to console]: Calculating cluster Ext_Hpc_2\n",
      "\n"
     ]
    },
    {
     "name": "stdout",
     "output_type": "stream",
     "text": [
      "  |                                                  | 0 % ~calculating   |+                                                 | 1 % ~02s           |++                                                | 3 % ~02s           |+++                                               | 4 % ~02s           |+++                                               | 6 % ~02s           |++++                                              | 7 % ~02s           |+++++                                             | 9 % ~02s           |++++++                                            | 10% ~02s           |++++++                                            | 12% ~02s           |+++++++                                           | 13% ~02s           |++++++++                                          | 14% ~02s           |++++++++                                          | 16% ~02s           |+++++++++                                         | 17% ~02s           |++++++++++                                        | 19% ~02s           |+++++++++++                                       | 20% ~02s           |+++++++++++                                       | 22% ~02s           |++++++++++++                                      | 23% ~02s           |+++++++++++++                                     | 25% ~02s           |++++++++++++++                                    | 26% ~02s           |++++++++++++++                                    | 28% ~02s           |+++++++++++++++                                   | 29% ~02s           |++++++++++++++++                                  | 30% ~02s           |++++++++++++++++                                  | 32% ~02s           |+++++++++++++++++                                 | 33% ~02s           |++++++++++++++++++                                | 35% ~02s           |+++++++++++++++++++                               | 36% ~02s           |+++++++++++++++++++                               | 38% ~02s           |++++++++++++++++++++                              | 39% ~01s           |+++++++++++++++++++++                             | 41% ~01s           |++++++++++++++++++++++                            | 42% ~01s           |++++++++++++++++++++++                            | 43% ~01s           |+++++++++++++++++++++++                           | 45% ~01s           |++++++++++++++++++++++++                          | 46% ~01s           |++++++++++++++++++++++++                          | 48% ~01s           |+++++++++++++++++++++++++                         | 49% ~01s           |++++++++++++++++++++++++++                        | 51% ~01s           |+++++++++++++++++++++++++++                       | 52% ~01s           |+++++++++++++++++++++++++++                       | 54% ~01s           |++++++++++++++++++++++++++++                      | 55% ~01s           |+++++++++++++++++++++++++++++                     | 57% ~01s           |+++++++++++++++++++++++++++++                     | 58% ~01s           |++++++++++++++++++++++++++++++                    | 59% ~01s           |+++++++++++++++++++++++++++++++                   | 61% ~01s           |++++++++++++++++++++++++++++++++                  | 62% ~01s           |++++++++++++++++++++++++++++++++                  | 64% ~01s           |+++++++++++++++++++++++++++++++++                 | 65% ~01s           |++++++++++++++++++++++++++++++++++                | 67% ~01s           |+++++++++++++++++++++++++++++++++++               | 68% ~01s           |+++++++++++++++++++++++++++++++++++               | 70% ~01s           |++++++++++++++++++++++++++++++++++++              | 71% ~01s           |+++++++++++++++++++++++++++++++++++++             | 72% ~01s           |+++++++++++++++++++++++++++++++++++++             | 74% ~01s           |++++++++++++++++++++++++++++++++++++++            | 75% ~01s           |+++++++++++++++++++++++++++++++++++++++           | 77% ~01s           |++++++++++++++++++++++++++++++++++++++++          | 78% ~01s           |++++++++++++++++++++++++++++++++++++++++          | 80% ~00s           |+++++++++++++++++++++++++++++++++++++++++         | 81% ~00s           |++++++++++++++++++++++++++++++++++++++++++        | 83% ~00s           |+++++++++++++++++++++++++++++++++++++++++++       | 84% ~00s           |+++++++++++++++++++++++++++++++++++++++++++       | 86% ~00s           |++++++++++++++++++++++++++++++++++++++++++++      | 87% ~00s           |+++++++++++++++++++++++++++++++++++++++++++++     | 88% ~00s           |+++++++++++++++++++++++++++++++++++++++++++++     | 90% ~00s           |++++++++++++++++++++++++++++++++++++++++++++++    | 91% ~00s           |+++++++++++++++++++++++++++++++++++++++++++++++   | 93% ~00s           |++++++++++++++++++++++++++++++++++++++++++++++++  | 94% ~00s           |++++++++++++++++++++++++++++++++++++++++++++++++  | 96% ~00s           |+++++++++++++++++++++++++++++++++++++++++++++++++ | 97% ~00s           |++++++++++++++++++++++++++++++++++++++++++++++++++| 99% ~00s           |++++++++++++++++++++++++++++++++++++++++++++++++++| 100% elapsed=02s  \n"
     ]
    },
    {
     "name": "stderr",
     "output_type": "stream",
     "text": [
      "R[write to console]: Calculating cluster Ext_L6\n",
      "\n"
     ]
    },
    {
     "name": "stdout",
     "output_type": "stream",
     "text": [
      "  |                                                  | 0 % ~calculating   |++                                                | 3 % ~01s           |++++                                              | 7 % ~00s           |++++++                                            | 10% ~00s           |+++++++                                           | 14% ~00s           |+++++++++                                         | 17% ~00s           |+++++++++++                                       | 21% ~00s           |+++++++++++++                                     | 24% ~00s           |++++++++++++++                                    | 28% ~00s           |++++++++++++++++                                  | 31% ~00s           |++++++++++++++++++                                | 34% ~00s           |+++++++++++++++++++                               | 38% ~00s           |+++++++++++++++++++++                             | 41% ~00s           |+++++++++++++++++++++++                           | 45% ~00s           |+++++++++++++++++++++++++                         | 48% ~00s           |++++++++++++++++++++++++++                        | 52% ~00s           |++++++++++++++++++++++++++++                      | 55% ~00s           |++++++++++++++++++++++++++++++                    | 59% ~00s           |++++++++++++++++++++++++++++++++                  | 62% ~00s           |+++++++++++++++++++++++++++++++++                 | 66% ~00s           |+++++++++++++++++++++++++++++++++++               | 69% ~00s           |+++++++++++++++++++++++++++++++++++++             | 72% ~00s           |++++++++++++++++++++++++++++++++++++++            | 76% ~00s           |++++++++++++++++++++++++++++++++++++++++          | 79% ~00s           |++++++++++++++++++++++++++++++++++++++++++        | 83% ~00s           |++++++++++++++++++++++++++++++++++++++++++++      | 86% ~00s           |+++++++++++++++++++++++++++++++++++++++++++++     | 90% ~00s           |+++++++++++++++++++++++++++++++++++++++++++++++   | 93% ~00s           |+++++++++++++++++++++++++++++++++++++++++++++++++ | 97% ~00s           |++++++++++++++++++++++++++++++++++++++++++++++++++| 100% elapsed=01s  \n"
     ]
    },
    {
     "name": "stderr",
     "output_type": "stream",
     "text": [
      "R[write to console]: Calculating cluster Oligo_1\n",
      "\n"
     ]
    },
    {
     "name": "stdout",
     "output_type": "stream",
     "text": [
      "  |                                                  | 0 % ~calculating   |+                                                 | 2 % ~01s           |++                                                | 4 % ~01s           |+++                                               | 5 % ~01s           |++++                                              | 7 % ~01s           |+++++                                             | 9 % ~01s           |++++++                                            | 11% ~01s           |+++++++                                           | 12% ~01s           |++++++++                                          | 14% ~01s           |+++++++++                                         | 16% ~01s           |+++++++++                                         | 18% ~01s           |++++++++++                                        | 20% ~01s           |+++++++++++                                       | 21% ~01s           |++++++++++++                                      | 23% ~01s           |+++++++++++++                                     | 25% ~01s           |++++++++++++++                                    | 27% ~01s           |+++++++++++++++                                   | 29% ~01s           |++++++++++++++++                                  | 30% ~01s           |+++++++++++++++++                                 | 32% ~01s           |+++++++++++++++++                                 | 34% ~01s           |++++++++++++++++++                                | 36% ~01s           |+++++++++++++++++++                               | 38% ~01s           |++++++++++++++++++++                              | 39% ~01s           |+++++++++++++++++++++                             | 41% ~01s           |++++++++++++++++++++++                            | 43% ~01s           |+++++++++++++++++++++++                           | 45% ~01s           |++++++++++++++++++++++++                          | 46% ~01s           |+++++++++++++++++++++++++                         | 48% ~00s           |+++++++++++++++++++++++++                         | 50% ~00s           |++++++++++++++++++++++++++                        | 52% ~00s           |+++++++++++++++++++++++++++                       | 54% ~00s           |++++++++++++++++++++++++++++                      | 55% ~00s           |+++++++++++++++++++++++++++++                     | 57% ~00s           |++++++++++++++++++++++++++++++                    | 59% ~00s           |+++++++++++++++++++++++++++++++                   | 61% ~00s           |++++++++++++++++++++++++++++++++                  | 62% ~00s           |+++++++++++++++++++++++++++++++++                 | 64% ~00s           |++++++++++++++++++++++++++++++++++                | 66% ~00s           |++++++++++++++++++++++++++++++++++                | 68% ~00s           |+++++++++++++++++++++++++++++++++++               | 70% ~00s           |++++++++++++++++++++++++++++++++++++              | 71% ~00s           |+++++++++++++++++++++++++++++++++++++             | 73% ~00s           |++++++++++++++++++++++++++++++++++++++            | 75% ~00s           |+++++++++++++++++++++++++++++++++++++++           | 77% ~00s           |++++++++++++++++++++++++++++++++++++++++          | 79% ~00s           |+++++++++++++++++++++++++++++++++++++++++         | 80% ~00s           |++++++++++++++++++++++++++++++++++++++++++        | 82% ~00s           |++++++++++++++++++++++++++++++++++++++++++        | 84% ~00s           |+++++++++++++++++++++++++++++++++++++++++++       | 86% ~00s           |++++++++++++++++++++++++++++++++++++++++++++      | 88% ~00s           |+++++++++++++++++++++++++++++++++++++++++++++     | 89% ~00s           |++++++++++++++++++++++++++++++++++++++++++++++    | 91% ~00s           |+++++++++++++++++++++++++++++++++++++++++++++++   | 93% ~00s           |++++++++++++++++++++++++++++++++++++++++++++++++  | 95% ~00s           |+++++++++++++++++++++++++++++++++++++++++++++++++ | 96% ~00s           |++++++++++++++++++++++++++++++++++++++++++++++++++| 98% ~00s           |++++++++++++++++++++++++++++++++++++++++++++++++++| 100% elapsed=01s  \n"
     ]
    },
    {
     "name": "stderr",
     "output_type": "stream",
     "text": [
      "R[write to console]: Calculating cluster Ext_Amy_1\n",
      "\n"
     ]
    },
    {
     "name": "stdout",
     "output_type": "stream",
     "text": [
      "  |                                                  | 0 % ~calculating   |+                                                 | 2 % ~01s           |++                                                | 4 % ~01s           |+++                                               | 6 % ~01s           |++++                                              | 7 % ~01s           |+++++                                             | 9 % ~01s           |++++++                                            | 11% ~01s           |+++++++                                           | 13% ~01s           |++++++++                                          | 15% ~01s           |+++++++++                                         | 17% ~01s           |++++++++++                                        | 19% ~01s           |+++++++++++                                       | 20% ~01s           |++++++++++++                                      | 22% ~01s           |+++++++++++++                                     | 24% ~01s           |+++++++++++++                                     | 26% ~01s           |++++++++++++++                                    | 28% ~01s           |+++++++++++++++                                   | 30% ~01s           |++++++++++++++++                                  | 31% ~01s           |+++++++++++++++++                                 | 33% ~01s           |++++++++++++++++++                                | 35% ~01s           |+++++++++++++++++++                               | 37% ~01s           |++++++++++++++++++++                              | 39% ~01s           |+++++++++++++++++++++                             | 41% ~01s           |++++++++++++++++++++++                            | 43% ~01s           |+++++++++++++++++++++++                           | 44% ~01s           |++++++++++++++++++++++++                          | 46% ~01s           |+++++++++++++++++++++++++                         | 48% ~00s           |+++++++++++++++++++++++++                         | 50% ~00s           |++++++++++++++++++++++++++                        | 52% ~00s           |+++++++++++++++++++++++++++                       | 54% ~00s           |++++++++++++++++++++++++++++                      | 56% ~00s           |+++++++++++++++++++++++++++++                     | 57% ~00s           |++++++++++++++++++++++++++++++                    | 59% ~00s           |+++++++++++++++++++++++++++++++                   | 61% ~00s           |++++++++++++++++++++++++++++++++                  | 63% ~00s           |+++++++++++++++++++++++++++++++++                 | 65% ~00s           |++++++++++++++++++++++++++++++++++                | 67% ~00s           |+++++++++++++++++++++++++++++++++++               | 69% ~00s           |++++++++++++++++++++++++++++++++++++              | 70% ~00s           |+++++++++++++++++++++++++++++++++++++             | 72% ~00s           |++++++++++++++++++++++++++++++++++++++            | 74% ~00s           |++++++++++++++++++++++++++++++++++++++            | 76% ~00s           |+++++++++++++++++++++++++++++++++++++++           | 78% ~00s           |++++++++++++++++++++++++++++++++++++++++          | 80% ~00s           |+++++++++++++++++++++++++++++++++++++++++         | 81% ~00s           |++++++++++++++++++++++++++++++++++++++++++        | 83% ~00s           |+++++++++++++++++++++++++++++++++++++++++++       | 85% ~00s           |++++++++++++++++++++++++++++++++++++++++++++      | 87% ~00s           |+++++++++++++++++++++++++++++++++++++++++++++     | 89% ~00s           |++++++++++++++++++++++++++++++++++++++++++++++    | 91% ~00s           |+++++++++++++++++++++++++++++++++++++++++++++++   | 93% ~00s           |++++++++++++++++++++++++++++++++++++++++++++++++  | 94% ~00s           |+++++++++++++++++++++++++++++++++++++++++++++++++ | 96% ~00s           |++++++++++++++++++++++++++++++++++++++++++++++++++| 98% ~00s           |++++++++++++++++++++++++++++++++++++++++++++++++++| 100% elapsed=01s  \n"
     ]
    },
    {
     "name": "stderr",
     "output_type": "stream",
     "text": [
      "R[write to console]: Calculating cluster Inh_Lamp5\n",
      "\n"
     ]
    },
    {
     "name": "stdout",
     "output_type": "stream",
     "text": [
      "  |                                                  | 0 % ~calculating   |++++                                              | 8 % ~00s           |++++++++                                          | 15% ~00s           |++++++++++++                                      | 23% ~00s           |++++++++++++++++                                  | 31% ~00s           |++++++++++++++++++++                              | 38% ~00s           |++++++++++++++++++++++++                          | 46% ~00s           |+++++++++++++++++++++++++++                       | 54% ~00s           |+++++++++++++++++++++++++++++++                   | 62% ~00s           |+++++++++++++++++++++++++++++++++++               | 69% ~00s           |+++++++++++++++++++++++++++++++++++++++           | 77% ~00s           |+++++++++++++++++++++++++++++++++++++++++++       | 85% ~00s           |+++++++++++++++++++++++++++++++++++++++++++++++   | 92% ~00s           |++++++++++++++++++++++++++++++++++++++++++++++++++| 100% elapsed=00s  \n"
     ]
    },
    {
     "name": "stderr",
     "output_type": "stream",
     "text": [
      "R[write to console]: Calculating cluster Inh_2\n",
      "\n"
     ]
    },
    {
     "name": "stdout",
     "output_type": "stream",
     "text": [
      "  |                                                  | 0 % ~calculating   |++                                                | 3 % ~01s           |++++                                              | 7 % ~01s           |+++++                                             | 10% ~00s           |+++++++                                           | 13% ~00s           |+++++++++                                         | 17% ~00s           |++++++++++                                        | 20% ~00s           |++++++++++++                                      | 23% ~00s           |++++++++++++++                                    | 27% ~00s           |+++++++++++++++                                   | 30% ~00s           |+++++++++++++++++                                 | 33% ~00s           |+++++++++++++++++++                               | 37% ~00s           |++++++++++++++++++++                              | 40% ~00s           |++++++++++++++++++++++                            | 43% ~00s           |++++++++++++++++++++++++                          | 47% ~00s           |+++++++++++++++++++++++++                         | 50% ~00s           |+++++++++++++++++++++++++++                       | 53% ~00s           |+++++++++++++++++++++++++++++                     | 57% ~00s           |++++++++++++++++++++++++++++++                    | 60% ~00s           |++++++++++++++++++++++++++++++++                  | 63% ~00s           |++++++++++++++++++++++++++++++++++                | 67% ~00s           |+++++++++++++++++++++++++++++++++++               | 70% ~00s           |+++++++++++++++++++++++++++++++++++++             | 73% ~00s           |+++++++++++++++++++++++++++++++++++++++           | 77% ~00s           |++++++++++++++++++++++++++++++++++++++++          | 80% ~00s           |++++++++++++++++++++++++++++++++++++++++++        | 83% ~00s           |++++++++++++++++++++++++++++++++++++++++++++      | 87% ~00s           |+++++++++++++++++++++++++++++++++++++++++++++     | 90% ~00s           |+++++++++++++++++++++++++++++++++++++++++++++++   | 93% ~00s           |+++++++++++++++++++++++++++++++++++++++++++++++++ | 97% ~00s           |++++++++++++++++++++++++++++++++++++++++++++++++++| 100% elapsed=01s  \n"
     ]
    },
    {
     "name": "stderr",
     "output_type": "stream",
     "text": [
      "R[write to console]: Calculating cluster Ext_Thal_2\n",
      "\n"
     ]
    },
    {
     "name": "stdout",
     "output_type": "stream",
     "text": [
      "  |                                                  | 0 % ~calculating   |++                                                | 3 % ~00s           |+++                                               | 6 % ~00s           |+++++                                             | 9 % ~00s           |++++++                                            | 11% ~00s           |++++++++                                          | 14% ~00s           |+++++++++                                         | 17% ~00s           |++++++++++                                        | 20% ~00s           |++++++++++++                                      | 23% ~00s           |+++++++++++++                                     | 26% ~00s           |+++++++++++++++                                   | 29% ~00s           |++++++++++++++++                                  | 31% ~00s           |++++++++++++++++++                                | 34% ~00s           |+++++++++++++++++++                               | 37% ~00s           |++++++++++++++++++++                              | 40% ~00s           |++++++++++++++++++++++                            | 43% ~00s           |+++++++++++++++++++++++                           | 46% ~00s           |+++++++++++++++++++++++++                         | 49% ~00s           |++++++++++++++++++++++++++                        | 51% ~00s           |++++++++++++++++++++++++++++                      | 54% ~00s           |+++++++++++++++++++++++++++++                     | 57% ~00s           |++++++++++++++++++++++++++++++                    | 60% ~00s           |++++++++++++++++++++++++++++++++                  | 63% ~00s           |+++++++++++++++++++++++++++++++++                 | 66% ~00s           |+++++++++++++++++++++++++++++++++++               | 69% ~00s           |++++++++++++++++++++++++++++++++++++              | 71% ~00s           |++++++++++++++++++++++++++++++++++++++            | 74% ~00s           |+++++++++++++++++++++++++++++++++++++++           | 77% ~00s           |++++++++++++++++++++++++++++++++++++++++          | 80% ~00s           |++++++++++++++++++++++++++++++++++++++++++        | 83% ~00s           |+++++++++++++++++++++++++++++++++++++++++++       | 86% ~00s           |+++++++++++++++++++++++++++++++++++++++++++++     | 89% ~00s           |++++++++++++++++++++++++++++++++++++++++++++++    | 91% ~00s           |++++++++++++++++++++++++++++++++++++++++++++++++  | 94% ~00s           |+++++++++++++++++++++++++++++++++++++++++++++++++ | 97% ~00s           |++++++++++++++++++++++++++++++++++++++++++++++++++| 100% elapsed=01s  \n"
     ]
    },
    {
     "name": "stderr",
     "output_type": "stream",
     "text": [
      "R[write to console]: Calculating cluster Astro_1\n",
      "\n"
     ]
    },
    {
     "name": "stdout",
     "output_type": "stream",
     "text": [
      "  |                                                  | 0 % ~calculating   |+++++++++++++++++++++++++                         | 50% ~00s           |++++++++++++++++++++++++++++++++++++++++++++++++++| 100% elapsed=00s  \n"
     ]
    },
    {
     "name": "stderr",
     "output_type": "stream",
     "text": [
      "R[write to console]: Calculating cluster Inh_Vip\n",
      "\n"
     ]
    },
    {
     "name": "stdout",
     "output_type": "stream",
     "text": [
      "  |                                                  | 0 % ~calculating   |+++++                                             | 10% ~00s           |++++++++++                                        | 20% ~00s           |+++++++++++++++                                   | 30% ~00s           |++++++++++++++++++++                              | 40% ~00s           |+++++++++++++++++++++++++                         | 50% ~00s           |++++++++++++++++++++++++++++++                    | 60% ~00s           |+++++++++++++++++++++++++++++++++++               | 70% ~00s           |++++++++++++++++++++++++++++++++++++++++          | 80% ~00s           |+++++++++++++++++++++++++++++++++++++++++++++     | 90% ~00s           |++++++++++++++++++++++++++++++++++++++++++++++++++| 100% elapsed=00s  \n"
     ]
    },
    {
     "name": "stderr",
     "output_type": "stream",
     "text": [
      "R[write to console]: Calculating cluster Inh_Meis2_3\n",
      "\n"
     ]
    },
    {
     "name": "stdout",
     "output_type": "stream",
     "text": [
      "  |                                                  | 0 % ~calculating   |+++++                                             | 8 % ~00s           |+++++++++                                         | 17% ~00s           |+++++++++++++                                     | 25% ~00s           |+++++++++++++++++                                 | 33% ~00s           |+++++++++++++++++++++                             | 42% ~00s           |+++++++++++++++++++++++++                         | 50% ~00s           |++++++++++++++++++++++++++++++                    | 58% ~00s           |++++++++++++++++++++++++++++++++++                | 67% ~00s           |++++++++++++++++++++++++++++++++++++++            | 75% ~00s           |++++++++++++++++++++++++++++++++++++++++++        | 83% ~00s           |++++++++++++++++++++++++++++++++++++++++++++++    | 92% ~00s           |++++++++++++++++++++++++++++++++++++++++++++++++++| 100% elapsed=00s  \n"
     ]
    },
    {
     "name": "stderr",
     "output_type": "stream",
     "text": [
      "R[write to console]: Calculating cluster Inh_3\n",
      "\n"
     ]
    },
    {
     "name": "stdout",
     "output_type": "stream",
     "text": [
      "  |                                                  | 0 % ~calculating   |+++++++++++++                                     | 25% ~00s           |+++++++++++++++++++++++++                         | 50% ~00s           |++++++++++++++++++++++++++++++++++++++            | 75% ~00s           |++++++++++++++++++++++++++++++++++++++++++++++++++| 100% elapsed=00s  \n"
     ]
    },
    {
     "name": "stderr",
     "output_type": "stream",
     "text": [
      "R[write to console]: Calculating cluster Ext_Hpc_3\n",
      "\n"
     ]
    },
    {
     "name": "stdout",
     "output_type": "stream",
     "text": [
      "  |                                                  | 0 % ~calculating   |++++++++++                                        | 20% ~00s           |++++++++++++++++++++                              | 40% ~00s           |++++++++++++++++++++++++++++++                    | 60% ~00s           |++++++++++++++++++++++++++++++++++++++++          | 80% ~00s           |++++++++++++++++++++++++++++++++++++++++++++++++++| 100% elapsed=00s  \n"
     ]
    },
    {
     "name": "stderr",
     "output_type": "stream",
     "text": [
      "R[write to console]: Calculating cluster Astro_3\n",
      "\n"
     ]
    },
    {
     "name": "stdout",
     "output_type": "stream",
     "text": [
      "  |                                                  | 0 % ~calculating   |+++++++                                           | 12% ~00s           |+++++++++++++                                     | 25% ~00s           |+++++++++++++++++++                               | 38% ~00s           |+++++++++++++++++++++++++                         | 50% ~00s           |++++++++++++++++++++++++++++++++                  | 62% ~00s           |++++++++++++++++++++++++++++++++++++++            | 75% ~00s           |++++++++++++++++++++++++++++++++++++++++++++      | 88% ~00s           |++++++++++++++++++++++++++++++++++++++++++++++++++| 100% elapsed=00s  \n"
     ]
    },
    {
     "name": "stderr",
     "output_type": "stream",
     "text": [
      "R[write to console]: Calculating cluster Ext_L6B\n",
      "\n"
     ]
    },
    {
     "name": "stdout",
     "output_type": "stream",
     "text": [
      "  |                                                  | 0 % ~calculating   |+                                                 | 1 % ~01s           |++                                                | 3 % ~01s           |+++                                               | 4 % ~01s           |+++                                               | 6 % ~01s           |++++                                              | 7 % ~01s           |+++++                                             | 9 % ~01s           |++++++                                            | 10% ~01s           |++++++                                            | 12% ~01s           |+++++++                                           | 13% ~01s           |++++++++                                          | 15% ~01s           |+++++++++                                         | 16% ~01s           |+++++++++                                         | 18% ~01s           |++++++++++                                        | 19% ~01s           |+++++++++++                                       | 21% ~01s           |++++++++++++                                      | 22% ~01s           |++++++++++++                                      | 24% ~01s           |+++++++++++++                                     | 25% ~01s           |++++++++++++++                                    | 27% ~01s           |+++++++++++++++                                   | 28% ~01s           |+++++++++++++++                                   | 30% ~01s           |++++++++++++++++                                  | 31% ~01s           |+++++++++++++++++                                 | 33% ~01s           |++++++++++++++++++                                | 34% ~01s           |++++++++++++++++++                                | 36% ~01s           |+++++++++++++++++++                               | 37% ~01s           |++++++++++++++++++++                              | 39% ~01s           |+++++++++++++++++++++                             | 40% ~01s           |+++++++++++++++++++++                             | 42% ~01s           |++++++++++++++++++++++                            | 43% ~01s           |+++++++++++++++++++++++                           | 45% ~01s           |++++++++++++++++++++++++                          | 46% ~01s           |++++++++++++++++++++++++                          | 48% ~01s           |+++++++++++++++++++++++++                         | 49% ~01s           |++++++++++++++++++++++++++                        | 51% ~01s           |+++++++++++++++++++++++++++                       | 52% ~01s           |+++++++++++++++++++++++++++                       | 54% ~01s           |++++++++++++++++++++++++++++                      | 55% ~01s           |+++++++++++++++++++++++++++++                     | 57% ~01s           |++++++++++++++++++++++++++++++                    | 58% ~01s           |++++++++++++++++++++++++++++++                    | 60% ~01s           |+++++++++++++++++++++++++++++++                   | 61% ~00s           |++++++++++++++++++++++++++++++++                  | 63% ~00s           |+++++++++++++++++++++++++++++++++                 | 64% ~00s           |+++++++++++++++++++++++++++++++++                 | 66% ~00s           |++++++++++++++++++++++++++++++++++                | 67% ~00s           |+++++++++++++++++++++++++++++++++++               | 69% ~00s           |++++++++++++++++++++++++++++++++++++              | 70% ~00s           |++++++++++++++++++++++++++++++++++++              | 72% ~00s           |+++++++++++++++++++++++++++++++++++++             | 73% ~00s           |++++++++++++++++++++++++++++++++++++++            | 75% ~00s           |+++++++++++++++++++++++++++++++++++++++           | 76% ~00s           |+++++++++++++++++++++++++++++++++++++++           | 78% ~00s           |++++++++++++++++++++++++++++++++++++++++          | 79% ~00s           |+++++++++++++++++++++++++++++++++++++++++         | 81% ~00s           |++++++++++++++++++++++++++++++++++++++++++        | 82% ~00s           |++++++++++++++++++++++++++++++++++++++++++        | 84% ~00s           |+++++++++++++++++++++++++++++++++++++++++++       | 85% ~00s           |++++++++++++++++++++++++++++++++++++++++++++      | 87% ~00s           |+++++++++++++++++++++++++++++++++++++++++++++     | 88% ~00s           |+++++++++++++++++++++++++++++++++++++++++++++     | 90% ~00s           |++++++++++++++++++++++++++++++++++++++++++++++    | 91% ~00s           |+++++++++++++++++++++++++++++++++++++++++++++++   | 93% ~00s           |++++++++++++++++++++++++++++++++++++++++++++++++  | 94% ~00s           |++++++++++++++++++++++++++++++++++++++++++++++++  | 96% ~00s           |+++++++++++++++++++++++++++++++++++++++++++++++++ | 97% ~00s           |++++++++++++++++++++++++++++++++++++++++++++++++++| 99% ~00s           |++++++++++++++++++++++++++++++++++++++++++++++++++| 100% elapsed=01s  \n"
     ]
    },
    {
     "name": "stderr",
     "output_type": "stream",
     "text": [
      "R[write to console]: Calculating cluster Inh_Meis2_4\n",
      "\n"
     ]
    },
    {
     "name": "stdout",
     "output_type": "stream",
     "text": [
      "  |                                                  | 0 % ~calculating   |++                                                | 3 % ~01s           |++++                                              | 7 % ~00s           |+++++                                             | 10% ~00s           |+++++++                                           | 13% ~00s           |+++++++++                                         | 17% ~00s           |++++++++++                                        | 20% ~00s           |++++++++++++                                      | 23% ~00s           |++++++++++++++                                    | 27% ~00s           |+++++++++++++++                                   | 30% ~00s           |+++++++++++++++++                                 | 33% ~00s           |+++++++++++++++++++                               | 37% ~00s           |++++++++++++++++++++                              | 40% ~00s           |++++++++++++++++++++++                            | 43% ~00s           |++++++++++++++++++++++++                          | 47% ~00s           |+++++++++++++++++++++++++                         | 50% ~00s           |+++++++++++++++++++++++++++                       | 53% ~00s           |+++++++++++++++++++++++++++++                     | 57% ~00s           |++++++++++++++++++++++++++++++                    | 60% ~00s           |++++++++++++++++++++++++++++++++                  | 63% ~00s           |++++++++++++++++++++++++++++++++++                | 67% ~00s           |+++++++++++++++++++++++++++++++++++               | 70% ~00s           |+++++++++++++++++++++++++++++++++++++             | 73% ~00s           |+++++++++++++++++++++++++++++++++++++++           | 77% ~00s           |++++++++++++++++++++++++++++++++++++++++          | 80% ~00s           |++++++++++++++++++++++++++++++++++++++++++        | 83% ~00s           |++++++++++++++++++++++++++++++++++++++++++++      | 87% ~00s           |+++++++++++++++++++++++++++++++++++++++++++++     | 90% ~00s           |+++++++++++++++++++++++++++++++++++++++++++++++   | 93% ~00s           |+++++++++++++++++++++++++++++++++++++++++++++++++ | 97% ~00s           |++++++++++++++++++++++++++++++++++++++++++++++++++| 100% elapsed=00s  \n"
     ]
    },
    {
     "name": "stderr",
     "output_type": "stream",
     "text": [
      "R[write to console]: Calculating cluster Nb_2\n",
      "\n",
      "R[write to console]: Calculating cluster Nb_1\n",
      "\n",
      "R[write to console]: Calculating cluster Astro_4\n",
      "\n",
      "R[write to console]: Loading required package: dplyr\n",
      "\n",
      "R[write to console]: \n",
      "Attaching package: ‘dplyr’\n",
      "\n",
      "\n",
      "R[write to console]: The following objects are masked from ‘package:stats’:\n",
      "\n",
      "    filter, lag\n",
      "\n",
      "\n",
      "R[write to console]: The following objects are masked from ‘package:base’:\n",
      "\n",
      "    intersect, setdiff, setequal, union\n",
      "\n",
      "\n",
      "R[write to console]: Calculating gene variances\n",
      "R[write to console]: \n",
      "\n",
      "R[write to console]: 0%   10   20   30   40   50   60   70   80   90   100%\n",
      "\n",
      "R[write to console]: [----|----|----|----|----|----|----|----|----|----|\n",
      "\n",
      "R[write to console]: *\n",
      "R[write to console]: *\n",
      "R[write to console]: *\n",
      "R[write to console]: *\n",
      "R[write to console]: *\n",
      "R[write to console]: *\n",
      "R[write to console]: *\n",
      "R[write to console]: *\n",
      "R[write to console]: *\n",
      "R[write to console]: *\n",
      "R[write to console]: *\n",
      "R[write to console]: *\n",
      "R[write to console]: *\n",
      "R[write to console]: *\n",
      "R[write to console]: *\n",
      "R[write to console]: *\n",
      "R[write to console]: *\n",
      "R[write to console]: *\n",
      "R[write to console]: *\n",
      "R[write to console]: *\n",
      "R[write to console]: *\n",
      "R[write to console]: *\n",
      "R[write to console]: *\n",
      "R[write to console]: *\n",
      "R[write to console]: *\n",
      "R[write to console]: *\n",
      "R[write to console]: *\n",
      "R[write to console]: *\n",
      "R[write to console]: *\n",
      "R[write to console]: *\n",
      "R[write to console]: *\n",
      "R[write to console]: *\n",
      "R[write to console]: *\n",
      "R[write to console]: *\n",
      "R[write to console]: *\n",
      "R[write to console]: *\n",
      "R[write to console]: *\n",
      "R[write to console]: *\n",
      "R[write to console]: *\n",
      "R[write to console]: *\n",
      "R[write to console]: *\n",
      "R[write to console]: *\n",
      "R[write to console]: *\n",
      "R[write to console]: *\n",
      "R[write to console]: *\n",
      "R[write to console]: *\n",
      "R[write to console]: *\n",
      "R[write to console]: *\n",
      "R[write to console]: *\n",
      "R[write to console]: *\n",
      "R[write to console]: |\n",
      "\n",
      "R[write to console]: Calculating feature variances of standardized and clipped values\n",
      "R[write to console]: \n",
      "\n",
      "R[write to console]: 0%   10   20   30   40   50   60   70   80   90   100%\n",
      "\n",
      "R[write to console]: [----|----|----|----|----|----|----|----|----|----|\n",
      "\n",
      "R[write to console]: *\n",
      "R[write to console]: *\n",
      "R[write to console]: *\n",
      "R[write to console]: *\n",
      "R[write to console]: *\n",
      "R[write to console]: *\n",
      "R[write to console]: *\n",
      "R[write to console]: *\n",
      "R[write to console]: *\n",
      "R[write to console]: *\n",
      "R[write to console]: *\n",
      "R[write to console]: *\n",
      "R[write to console]: *\n",
      "R[write to console]: *\n",
      "R[write to console]: *\n",
      "R[write to console]: *\n",
      "R[write to console]: *\n",
      "R[write to console]: *\n",
      "R[write to console]: *\n",
      "R[write to console]: *\n",
      "R[write to console]: *\n",
      "R[write to console]: *\n",
      "R[write to console]: *\n",
      "R[write to console]: *\n",
      "R[write to console]: *\n",
      "R[write to console]: *\n",
      "R[write to console]: *\n",
      "R[write to console]: *\n",
      "R[write to console]: *\n",
      "R[write to console]: *\n",
      "R[write to console]: *\n",
      "R[write to console]: *\n",
      "R[write to console]: *\n",
      "R[write to console]: *\n",
      "R[write to console]: *\n",
      "R[write to console]: *\n",
      "R[write to console]: *\n",
      "R[write to console]: *\n",
      "R[write to console]: *\n",
      "R[write to console]: *\n",
      "R[write to console]: *\n",
      "R[write to console]: *\n",
      "R[write to console]: *\n",
      "R[write to console]: *\n",
      "R[write to console]: *\n",
      "R[write to console]: *\n",
      "R[write to console]: *\n",
      "R[write to console]: *\n",
      "R[write to console]: *\n",
      "R[write to console]: *\n",
      "R[write to console]: |\n",
      "\n"
     ]
    },
    {
     "name": "stdout",
     "output_type": "stream",
     "text": [
      "[1] \"Preparing Gene set\"\n",
      "[1] \"Normalizing count matrix\"\n",
      "[1] \"Seeding initial matrices\"\n",
      "[1] \"Training...\"\n",
      "[1] \"Time to train NMF model was 244.99mins\"\n",
      "[1] \"Deconvoluting spots\"\n",
      "  |======================================================================| 100%\n",
      "Time difference of 4.128453 hours\n"
     ]
    }
   ],
   "source": [
    "%%R\n",
    "start_time <- Sys.time()\n",
    "\n",
    "#### Extract the top marker genes from each cluster ####\n",
    "Seurat::Idents(object = seu_snrna_raw_X) <- seu_snrna_raw_X@meta.data$annotation_1\n",
    "cluster_markers_all <- Seurat::FindAllMarkers(object = seu_snrna_raw_X, \n",
    "                                              assay = \"RNA\",\n",
    "                                              slot = \"data\",\n",
    "                                              verbose = TRUE, \n",
    "                                              only.pos = TRUE, \n",
    "                                              logfc.threshold = 1,\n",
    "                                              min.pct = 0.9)\n",
    "\n",
    "library(SPOTlight)\n",
    "library(Seurat)\n",
    "library(dplyr)\n",
    "\n",
    "set.seed(123)\n",
    "spotlight_ls <- spotlight_deconvolution(se_sc = seu_snrna_raw_X,\n",
    "                                      counts_spatial = seu_vis_X@assays$RNA@counts,\n",
    "                                      clust_vr = \"annotation_1\",\n",
    "                                      cluster_markers = cluster_markers_all,\n",
    "                                      cl_n = 100, # 100 by default\n",
    "                                      hvg = 5000,\n",
    "                                      ntop = NULL,\n",
    "                                      transf = \"uv\",\n",
    "                                      method = \"nsNMF\",\n",
    "                                      min_cont = 0.09)\n",
    "\n",
    "saveRDS(object = spotlight_ls,\n",
    "        file = \"./dowsampled_spotlight_on_simulated.RDS\")\n",
    "\n",
    "end_time <- Sys.time()\n",
    "end_time - start_time"
   ]
  },
  {
   "cell_type": "code",
   "execution_count": 28,
   "metadata": {},
   "outputs": [],
   "source": [
    "spotlight_file = results_folder + f'seurat/dowsampled{downsampled_suff}_spotlight_seed' + seed_numbers + '.csv'"
   ]
  },
  {
   "cell_type": "code",
   "execution_count": 29,
   "metadata": {},
   "outputs": [
    {
     "name": "stderr",
     "output_type": "stream",
     "text": [
      "R[write to console]: data.table 1.12.8 using 4 threads (see ?getDTthreads).  Latest news: r-datatable.com\n",
      "\n",
      "R[write to console]: \n",
      "Attaching package: ‘data.table’\n",
      "\n",
      "\n",
      "R[write to console]: The following object is masked from ‘package:purrr’:\n",
      "\n",
      "    transpose\n",
      "\n",
      "\n",
      "R[write to console]: The following objects are masked from ‘package:dplyr’:\n",
      "\n",
      "    between, first, last\n",
      "\n",
      "\n"
     ]
    }
   ],
   "source": [
    "%%R -i spotlight_file\n",
    "decon_mtrx <- spotlight_ls[[2]]\n",
    "rownames(decon_mtrx) = colnames(seu_vis_X)\n",
    "\n",
    "library(data.table)\n",
    "decon_df = as.data.table(decon_mtrx, keep.rownames=TRUE)\n",
    "fwrite(decon_df, spotlight_file)"
   ]
  },
  {
   "cell_type": "markdown",
   "metadata": {},
   "source": [
    "Use less HVG"
   ]
  },
  {
   "cell_type": "code",
   "execution_count": 30,
   "metadata": {
    "scrolled": true
   },
   "outputs": [
    {
     "name": "stderr",
     "output_type": "stream",
     "text": [
      "R[write to console]: Calculating cluster Inh_4\n",
      "\n"
     ]
    },
    {
     "name": "stdout",
     "output_type": "stream",
     "text": [
      "  |                                                  | 0 % ~calculating   |+++++                                             | 9 % ~00s           |++++++++++                                        | 18% ~00s           |++++++++++++++                                    | 27% ~00s           |+++++++++++++++++++                               | 36% ~00s           |+++++++++++++++++++++++                           | 45% ~00s           |++++++++++++++++++++++++++++                      | 55% ~00s           |++++++++++++++++++++++++++++++++                  | 64% ~00s           |+++++++++++++++++++++++++++++++++++++             | 73% ~00s           |+++++++++++++++++++++++++++++++++++++++++         | 82% ~00s           |++++++++++++++++++++++++++++++++++++++++++++++    | 91% ~00s           |++++++++++++++++++++++++++++++++++++++++++++++++++| 100% elapsed=00s  \n"
     ]
    },
    {
     "name": "stderr",
     "output_type": "stream",
     "text": [
      "R[write to console]: Calculating cluster Oligo_2\n",
      "\n"
     ]
    },
    {
     "name": "stdout",
     "output_type": "stream",
     "text": [
      "  |                                                  | 0 % ~calculating   |++++++++                                          | 14% ~00s           |+++++++++++++++                                   | 29% ~00s           |++++++++++++++++++++++                            | 43% ~00s           |+++++++++++++++++++++++++++++                     | 57% ~00s           |++++++++++++++++++++++++++++++++++++              | 71% ~00s           |+++++++++++++++++++++++++++++++++++++++++++       | 86% ~00s           |++++++++++++++++++++++++++++++++++++++++++++++++++| 100% elapsed=00s  \n"
     ]
    },
    {
     "name": "stderr",
     "output_type": "stream",
     "text": [
      "R[write to console]: Calculating cluster Ext_Hpc_4\n",
      "\n"
     ]
    },
    {
     "name": "stdout",
     "output_type": "stream",
     "text": [
      "  |                                                  | 0 % ~calculating   |+++++                                             | 9 % ~00s           |++++++++++                                        | 18% ~00s           |++++++++++++++                                    | 27% ~00s           |+++++++++++++++++++                               | 36% ~00s           |+++++++++++++++++++++++                           | 45% ~00s           |++++++++++++++++++++++++++++                      | 55% ~00s           |++++++++++++++++++++++++++++++++                  | 64% ~00s           |+++++++++++++++++++++++++++++++++++++             | 73% ~00s           |+++++++++++++++++++++++++++++++++++++++++         | 82% ~00s           |++++++++++++++++++++++++++++++++++++++++++++++    | 91% ~00s           |++++++++++++++++++++++++++++++++++++++++++++++++++| 100% elapsed=00s  \n"
     ]
    },
    {
     "name": "stderr",
     "output_type": "stream",
     "text": [
      "R[write to console]: Calculating cluster Ext_Unk_3\n",
      "\n"
     ]
    },
    {
     "name": "stdout",
     "output_type": "stream",
     "text": [
      "  |                                                  | 0 % ~calculating   |++                                                | 2 % ~01s           |+++                                               | 4 % ~01s           |++++                                              | 7 % ~01s           |+++++                                             | 9 % ~01s           |++++++                                            | 11% ~01s           |+++++++                                           | 13% ~01s           |++++++++                                          | 15% ~01s           |+++++++++                                         | 17% ~01s           |++++++++++                                        | 20% ~01s           |+++++++++++                                       | 22% ~01s           |++++++++++++                                      | 24% ~01s           |++++++++++++++                                    | 26% ~01s           |+++++++++++++++                                   | 28% ~01s           |++++++++++++++++                                  | 30% ~01s           |+++++++++++++++++                                 | 33% ~01s           |++++++++++++++++++                                | 35% ~00s           |+++++++++++++++++++                               | 37% ~00s           |++++++++++++++++++++                              | 39% ~00s           |+++++++++++++++++++++                             | 41% ~00s           |++++++++++++++++++++++                            | 43% ~00s           |+++++++++++++++++++++++                           | 46% ~00s           |++++++++++++++++++++++++                          | 48% ~00s           |+++++++++++++++++++++++++                         | 50% ~00s           |+++++++++++++++++++++++++++                       | 52% ~00s           |++++++++++++++++++++++++++++                      | 54% ~00s           |+++++++++++++++++++++++++++++                     | 57% ~00s           |++++++++++++++++++++++++++++++                    | 59% ~00s           |+++++++++++++++++++++++++++++++                   | 61% ~00s           |++++++++++++++++++++++++++++++++                  | 63% ~00s           |+++++++++++++++++++++++++++++++++                 | 65% ~00s           |++++++++++++++++++++++++++++++++++                | 67% ~00s           |+++++++++++++++++++++++++++++++++++               | 70% ~00s           |++++++++++++++++++++++++++++++++++++              | 72% ~00s           |+++++++++++++++++++++++++++++++++++++             | 74% ~00s           |+++++++++++++++++++++++++++++++++++++++           | 76% ~00s           |++++++++++++++++++++++++++++++++++++++++          | 78% ~00s           |+++++++++++++++++++++++++++++++++++++++++         | 80% ~00s           |++++++++++++++++++++++++++++++++++++++++++        | 83% ~00s           |+++++++++++++++++++++++++++++++++++++++++++       | 85% ~00s           |++++++++++++++++++++++++++++++++++++++++++++      | 87% ~00s           |+++++++++++++++++++++++++++++++++++++++++++++     | 89% ~00s           |++++++++++++++++++++++++++++++++++++++++++++++    | 91% ~00s           |+++++++++++++++++++++++++++++++++++++++++++++++   | 93% ~00s           |++++++++++++++++++++++++++++++++++++++++++++++++  | 96% ~00s           |+++++++++++++++++++++++++++++++++++++++++++++++++ | 98% ~00s           |++++++++++++++++++++++++++++++++++++++++++++++++++| 100% elapsed=01s  \n"
     ]
    },
    {
     "name": "stderr",
     "output_type": "stream",
     "text": [
      "R[write to console]: Calculating cluster OPC_1\n",
      "\n"
     ]
    },
    {
     "name": "stdout",
     "output_type": "stream",
     "text": [
      "  |                                                  | 0 % ~calculating   |+++++++++++++                                     | 25% ~00s           |+++++++++++++++++++++++++                         | 50% ~00s           |++++++++++++++++++++++++++++++++++++++            | 75% ~00s           |++++++++++++++++++++++++++++++++++++++++++++++++++| 100% elapsed=00s  \n"
     ]
    },
    {
     "name": "stderr",
     "output_type": "stream",
     "text": [
      "R[write to console]: Calculating cluster Inh_1\n",
      "\n"
     ]
    },
    {
     "name": "stdout",
     "output_type": "stream",
     "text": [
      "  |                                                  | 0 % ~calculating   |+++++++++++++++++                                 | 33% ~00s           |++++++++++++++++++++++++++++++++++                | 67% ~00s           |++++++++++++++++++++++++++++++++++++++++++++++++++| 100% elapsed=00s  \n"
     ]
    },
    {
     "name": "stderr",
     "output_type": "stream",
     "text": [
      "R[write to console]: Calculating cluster Ext_Pir\n",
      "\n"
     ]
    },
    {
     "name": "stdout",
     "output_type": "stream",
     "text": [
      "  |                                                  | 0 % ~calculating   |+                                                 | 2 % ~01s           |++                                                | 3 % ~01s           |+++                                               | 5 % ~01s           |++++                                              | 7 % ~01s           |+++++                                             | 8 % ~01s           |+++++                                             | 10% ~01s           |++++++                                            | 11% ~01s           |+++++++                                           | 13% ~01s           |++++++++                                          | 15% ~01s           |+++++++++                                         | 16% ~01s           |++++++++++                                        | 18% ~01s           |++++++++++                                        | 20% ~01s           |+++++++++++                                       | 21% ~01s           |++++++++++++                                      | 23% ~01s           |+++++++++++++                                     | 25% ~01s           |++++++++++++++                                    | 26% ~01s           |++++++++++++++                                    | 28% ~01s           |+++++++++++++++                                   | 30% ~01s           |++++++++++++++++                                  | 31% ~01s           |+++++++++++++++++                                 | 33% ~01s           |++++++++++++++++++                                | 34% ~01s           |+++++++++++++++++++                               | 36% ~01s           |+++++++++++++++++++                               | 38% ~01s           |++++++++++++++++++++                              | 39% ~01s           |+++++++++++++++++++++                             | 41% ~01s           |++++++++++++++++++++++                            | 43% ~01s           |+++++++++++++++++++++++                           | 44% ~01s           |+++++++++++++++++++++++                           | 46% ~01s           |++++++++++++++++++++++++                          | 48% ~01s           |+++++++++++++++++++++++++                         | 49% ~01s           |++++++++++++++++++++++++++                        | 51% ~01s           |+++++++++++++++++++++++++++                       | 52% ~00s           |++++++++++++++++++++++++++++                      | 54% ~00s           |++++++++++++++++++++++++++++                      | 56% ~00s           |+++++++++++++++++++++++++++++                     | 57% ~00s           |++++++++++++++++++++++++++++++                    | 59% ~00s           |+++++++++++++++++++++++++++++++                   | 61% ~00s           |++++++++++++++++++++++++++++++++                  | 62% ~00s           |++++++++++++++++++++++++++++++++                  | 64% ~00s           |+++++++++++++++++++++++++++++++++                 | 66% ~00s           |++++++++++++++++++++++++++++++++++                | 67% ~00s           |+++++++++++++++++++++++++++++++++++               | 69% ~00s           |++++++++++++++++++++++++++++++++++++              | 70% ~00s           |+++++++++++++++++++++++++++++++++++++             | 72% ~00s           |+++++++++++++++++++++++++++++++++++++             | 74% ~00s           |++++++++++++++++++++++++++++++++++++++            | 75% ~00s           |+++++++++++++++++++++++++++++++++++++++           | 77% ~00s           |++++++++++++++++++++++++++++++++++++++++          | 79% ~00s           |+++++++++++++++++++++++++++++++++++++++++         | 80% ~00s           |+++++++++++++++++++++++++++++++++++++++++         | 82% ~00s           |++++++++++++++++++++++++++++++++++++++++++        | 84% ~00s           |+++++++++++++++++++++++++++++++++++++++++++       | 85% ~00s           |++++++++++++++++++++++++++++++++++++++++++++      | 87% ~00s           |+++++++++++++++++++++++++++++++++++++++++++++     | 89% ~00s           |++++++++++++++++++++++++++++++++++++++++++++++    | 90% ~00s           |++++++++++++++++++++++++++++++++++++++++++++++    | 92% ~00s           |+++++++++++++++++++++++++++++++++++++++++++++++   | 93% ~00s           |++++++++++++++++++++++++++++++++++++++++++++++++  | 95% ~00s           |+++++++++++++++++++++++++++++++++++++++++++++++++ | 97% ~00s           |++++++++++++++++++++++++++++++++++++++++++++++++++| 98% ~00s           |++++++++++++++++++++++++++++++++++++++++++++++++++| 100% elapsed=01s  \n"
     ]
    },
    {
     "name": "stderr",
     "output_type": "stream",
     "text": [
      "R[write to console]: Calculating cluster Ext_ClauPyr\n",
      "\n"
     ]
    },
    {
     "name": "stdout",
     "output_type": "stream",
     "text": [
      "  |                                                  | 0 % ~calculating   |+                                                 | 2 % ~01s           |++                                                | 4 % ~01s           |+++                                               | 6 % ~01s           |++++                                              | 8 % ~01s           |+++++                                             | 10% ~01s           |++++++                                            | 12% ~01s           |+++++++                                           | 14% ~01s           |++++++++                                          | 16% ~01s           |+++++++++                                         | 18% ~01s           |++++++++++                                        | 20% ~01s           |+++++++++++                                       | 22% ~01s           |++++++++++++                                      | 24% ~01s           |+++++++++++++                                     | 25% ~01s           |++++++++++++++                                    | 27% ~01s           |+++++++++++++++                                   | 29% ~01s           |++++++++++++++++                                  | 31% ~01s           |+++++++++++++++++                                 | 33% ~01s           |++++++++++++++++++                                | 35% ~01s           |+++++++++++++++++++                               | 37% ~01s           |++++++++++++++++++++                              | 39% ~01s           |+++++++++++++++++++++                             | 41% ~01s           |++++++++++++++++++++++                            | 43% ~00s           |+++++++++++++++++++++++                           | 45% ~00s           |++++++++++++++++++++++++                          | 47% ~00s           |+++++++++++++++++++++++++                         | 49% ~00s           |++++++++++++++++++++++++++                        | 51% ~00s           |+++++++++++++++++++++++++++                       | 53% ~00s           |++++++++++++++++++++++++++++                      | 55% ~00s           |+++++++++++++++++++++++++++++                     | 57% ~00s           |++++++++++++++++++++++++++++++                    | 59% ~00s           |+++++++++++++++++++++++++++++++                   | 61% ~00s           |++++++++++++++++++++++++++++++++                  | 63% ~00s           |+++++++++++++++++++++++++++++++++                 | 65% ~00s           |++++++++++++++++++++++++++++++++++                | 67% ~00s           |+++++++++++++++++++++++++++++++++++               | 69% ~00s           |++++++++++++++++++++++++++++++++++++              | 71% ~00s           |+++++++++++++++++++++++++++++++++++++             | 73% ~00s           |++++++++++++++++++++++++++++++++++++++            | 75% ~00s           |+++++++++++++++++++++++++++++++++++++++           | 76% ~00s           |++++++++++++++++++++++++++++++++++++++++          | 78% ~00s           |+++++++++++++++++++++++++++++++++++++++++         | 80% ~00s           |++++++++++++++++++++++++++++++++++++++++++        | 82% ~00s           |+++++++++++++++++++++++++++++++++++++++++++       | 84% ~00s           |++++++++++++++++++++++++++++++++++++++++++++      | 86% ~00s           |+++++++++++++++++++++++++++++++++++++++++++++     | 88% ~00s           |++++++++++++++++++++++++++++++++++++++++++++++    | 90% ~00s           |+++++++++++++++++++++++++++++++++++++++++++++++   | 92% ~00s           |++++++++++++++++++++++++++++++++++++++++++++++++  | 94% ~00s           |+++++++++++++++++++++++++++++++++++++++++++++++++ | 96% ~00s           |++++++++++++++++++++++++++++++++++++++++++++++++++| 98% ~00s           |++++++++++++++++++++++++++++++++++++++++++++++++++| 100% elapsed=01s  \n"
     ]
    },
    {
     "name": "stderr",
     "output_type": "stream",
     "text": [
      "R[write to console]: Calculating cluster LowQ_2\n",
      "\n"
     ]
    },
    {
     "name": "stdout",
     "output_type": "stream",
     "text": [
      "  |                                                  | 0 % ~calculating   |++++++                                            | 11% ~00s           |++++++++++++                                      | 22% ~00s           |+++++++++++++++++                                 | 33% ~00s           |+++++++++++++++++++++++                           | 44% ~00s           |++++++++++++++++++++++++++++                      | 56% ~00s           |++++++++++++++++++++++++++++++++++                | 67% ~00s           |+++++++++++++++++++++++++++++++++++++++           | 78% ~00s           |+++++++++++++++++++++++++++++++++++++++++++++     | 89% ~00s           |++++++++++++++++++++++++++++++++++++++++++++++++++| 100% elapsed=00s  \n"
     ]
    },
    {
     "name": "stderr",
     "output_type": "stream",
     "text": [
      "R[write to console]: Calculating cluster Ext_Amy_2\n",
      "\n"
     ]
    },
    {
     "name": "stdout",
     "output_type": "stream",
     "text": [
      "  |                                                  | 0 % ~calculating   |++                                                | 2 % ~01s           |+++                                               | 4 % ~01s           |++++                                              | 6 % ~01s           |+++++                                             | 8 % ~01s           |++++++                                            | 10% ~01s           |+++++++                                           | 12% ~01s           |++++++++                                          | 15% ~01s           |+++++++++                                         | 17% ~01s           |++++++++++                                        | 19% ~01s           |+++++++++++                                       | 21% ~01s           |++++++++++++                                      | 23% ~01s           |+++++++++++++                                     | 25% ~01s           |++++++++++++++                                    | 27% ~01s           |+++++++++++++++                                   | 29% ~01s           |++++++++++++++++                                  | 31% ~01s           |+++++++++++++++++                                 | 33% ~01s           |++++++++++++++++++                                | 35% ~01s           |+++++++++++++++++++                               | 38% ~00s           |++++++++++++++++++++                              | 40% ~00s           |+++++++++++++++++++++                             | 42% ~00s           |++++++++++++++++++++++                            | 44% ~00s           |+++++++++++++++++++++++                           | 46% ~00s           |++++++++++++++++++++++++                          | 48% ~00s           |+++++++++++++++++++++++++                         | 50% ~00s           |+++++++++++++++++++++++++++                       | 52% ~00s           |++++++++++++++++++++++++++++                      | 54% ~00s           |+++++++++++++++++++++++++++++                     | 56% ~00s           |++++++++++++++++++++++++++++++                    | 58% ~00s           |+++++++++++++++++++++++++++++++                   | 60% ~00s           |++++++++++++++++++++++++++++++++                  | 62% ~00s           |+++++++++++++++++++++++++++++++++                 | 65% ~00s           |++++++++++++++++++++++++++++++++++                | 67% ~00s           |+++++++++++++++++++++++++++++++++++               | 69% ~00s           |++++++++++++++++++++++++++++++++++++              | 71% ~00s           |+++++++++++++++++++++++++++++++++++++             | 73% ~00s           |++++++++++++++++++++++++++++++++++++++            | 75% ~00s           |+++++++++++++++++++++++++++++++++++++++           | 77% ~00s           |++++++++++++++++++++++++++++++++++++++++          | 79% ~00s           |+++++++++++++++++++++++++++++++++++++++++         | 81% ~00s           |++++++++++++++++++++++++++++++++++++++++++        | 83% ~00s           |+++++++++++++++++++++++++++++++++++++++++++       | 85% ~00s           |++++++++++++++++++++++++++++++++++++++++++++      | 88% ~00s           |+++++++++++++++++++++++++++++++++++++++++++++     | 90% ~00s           |++++++++++++++++++++++++++++++++++++++++++++++    | 92% ~00s           |+++++++++++++++++++++++++++++++++++++++++++++++   | 94% ~00s           |++++++++++++++++++++++++++++++++++++++++++++++++  | 96% ~00s           |+++++++++++++++++++++++++++++++++++++++++++++++++ | 98% ~00s           |++++++++++++++++++++++++++++++++++++++++++++++++++| 100% elapsed=01s  \n"
     ]
    },
    {
     "name": "stderr",
     "output_type": "stream",
     "text": [
      "R[write to console]: Calculating cluster Micro\n",
      "\n"
     ]
    },
    {
     "name": "stdout",
     "output_type": "stream",
     "text": [
      "  |                                                  | 0 % ~calculating   |+++++++++++++++++++++++++                         | 50% ~00s           |++++++++++++++++++++++++++++++++++++++++++++++++++| 100% elapsed=00s  \n"
     ]
    },
    {
     "name": "stderr",
     "output_type": "stream",
     "text": [
      "R[write to console]: Calculating cluster Ext_L23\n",
      "\n"
     ]
    },
    {
     "name": "stdout",
     "output_type": "stream",
     "text": [
      "  |                                                  | 0 % ~calculating   |+                                                 | 2 % ~01s           |++                                                | 3 % ~01s           |+++                                               | 5 % ~01s           |++++                                              | 7 % ~01s           |+++++                                             | 8 % ~01s           |++++++                                            | 10% ~01s           |++++++                                            | 12% ~01s           |+++++++                                           | 14% ~01s           |++++++++                                          | 15% ~01s           |+++++++++                                         | 17% ~01s           |++++++++++                                        | 19% ~01s           |+++++++++++                                       | 20% ~01s           |++++++++++++                                      | 22% ~01s           |++++++++++++                                      | 24% ~01s           |+++++++++++++                                     | 25% ~01s           |++++++++++++++                                    | 27% ~01s           |+++++++++++++++                                   | 29% ~01s           |++++++++++++++++                                  | 31% ~01s           |+++++++++++++++++                                 | 32% ~01s           |+++++++++++++++++                                 | 34% ~01s           |++++++++++++++++++                                | 36% ~01s           |+++++++++++++++++++                               | 37% ~01s           |++++++++++++++++++++                              | 39% ~01s           |+++++++++++++++++++++                             | 41% ~01s           |++++++++++++++++++++++                            | 42% ~01s           |+++++++++++++++++++++++                           | 44% ~01s           |+++++++++++++++++++++++                           | 46% ~01s           |++++++++++++++++++++++++                          | 47% ~01s           |+++++++++++++++++++++++++                         | 49% ~01s           |++++++++++++++++++++++++++                        | 51% ~01s           |+++++++++++++++++++++++++++                       | 53% ~00s           |++++++++++++++++++++++++++++                      | 54% ~00s           |++++++++++++++++++++++++++++                      | 56% ~00s           |+++++++++++++++++++++++++++++                     | 58% ~00s           |++++++++++++++++++++++++++++++                    | 59% ~00s           |+++++++++++++++++++++++++++++++                   | 61% ~00s           |++++++++++++++++++++++++++++++++                  | 63% ~00s           |+++++++++++++++++++++++++++++++++                 | 64% ~00s           |++++++++++++++++++++++++++++++++++                | 66% ~00s           |++++++++++++++++++++++++++++++++++                | 68% ~00s           |+++++++++++++++++++++++++++++++++++               | 69% ~00s           |++++++++++++++++++++++++++++++++++++              | 71% ~00s           |+++++++++++++++++++++++++++++++++++++             | 73% ~00s           |++++++++++++++++++++++++++++++++++++++            | 75% ~00s           |+++++++++++++++++++++++++++++++++++++++           | 76% ~00s           |+++++++++++++++++++++++++++++++++++++++           | 78% ~00s           |++++++++++++++++++++++++++++++++++++++++          | 80% ~00s           |+++++++++++++++++++++++++++++++++++++++++         | 81% ~00s           |++++++++++++++++++++++++++++++++++++++++++        | 83% ~00s           |+++++++++++++++++++++++++++++++++++++++++++       | 85% ~00s           |++++++++++++++++++++++++++++++++++++++++++++      | 86% ~00s           |+++++++++++++++++++++++++++++++++++++++++++++     | 88% ~00s           |+++++++++++++++++++++++++++++++++++++++++++++     | 90% ~00s           |++++++++++++++++++++++++++++++++++++++++++++++    | 92% ~00s           |+++++++++++++++++++++++++++++++++++++++++++++++   | 93% ~00s           |++++++++++++++++++++++++++++++++++++++++++++++++  | 95% ~00s           |+++++++++++++++++++++++++++++++++++++++++++++++++ | 97% ~00s           |++++++++++++++++++++++++++++++++++++++++++++++++++| 98% ~00s           |++++++++++++++++++++++++++++++++++++++++++++++++++| 100% elapsed=01s  \n"
     ]
    },
    {
     "name": "stderr",
     "output_type": "stream",
     "text": [
      "R[write to console]: Calculating cluster Inh_Pvalb\n",
      "\n"
     ]
    },
    {
     "name": "stdout",
     "output_type": "stream",
     "text": [
      "  |                                                  | 0 % ~calculating   |++                                                | 3 % ~00s           |++++                                              | 7 % ~00s           |+++++                                             | 10% ~00s           |+++++++                                           | 13% ~00s           |+++++++++                                         | 17% ~00s           |++++++++++                                        | 20% ~00s           |++++++++++++                                      | 23% ~00s           |++++++++++++++                                    | 27% ~00s           |+++++++++++++++                                   | 30% ~00s           |+++++++++++++++++                                 | 33% ~00s           |+++++++++++++++++++                               | 37% ~00s           |++++++++++++++++++++                              | 40% ~00s           |++++++++++++++++++++++                            | 43% ~00s           |++++++++++++++++++++++++                          | 47% ~00s           |+++++++++++++++++++++++++                         | 50% ~00s           |+++++++++++++++++++++++++++                       | 53% ~00s           |+++++++++++++++++++++++++++++                     | 57% ~00s           |++++++++++++++++++++++++++++++                    | 60% ~00s           |++++++++++++++++++++++++++++++++                  | 63% ~00s           |++++++++++++++++++++++++++++++++++                | 67% ~00s           |+++++++++++++++++++++++++++++++++++               | 70% ~00s           |+++++++++++++++++++++++++++++++++++++             | 73% ~00s           |+++++++++++++++++++++++++++++++++++++++           | 77% ~00s           |++++++++++++++++++++++++++++++++++++++++          | 80% ~00s           |++++++++++++++++++++++++++++++++++++++++++        | 83% ~00s           |++++++++++++++++++++++++++++++++++++++++++++      | 87% ~00s           |+++++++++++++++++++++++++++++++++++++++++++++     | 90% ~00s           |+++++++++++++++++++++++++++++++++++++++++++++++   | 93% ~00s           |+++++++++++++++++++++++++++++++++++++++++++++++++ | 97% ~00s           |++++++++++++++++++++++++++++++++++++++++++++++++++| 100% elapsed=01s  \n"
     ]
    },
    {
     "name": "stderr",
     "output_type": "stream",
     "text": [
      "R[write to console]: Calculating cluster Inh_5\n",
      "\n"
     ]
    },
    {
     "name": "stdout",
     "output_type": "stream",
     "text": [
      "  |                                                  | 0 % ~calculating   |+++                                               | 6 % ~00s           |++++++                                            | 11% ~00s           |+++++++++                                         | 17% ~00s           |++++++++++++                                      | 22% ~00s           |++++++++++++++                                    | 28% ~00s           |+++++++++++++++++                                 | 33% ~00s           |++++++++++++++++++++                              | 39% ~00s           |+++++++++++++++++++++++                           | 44% ~00s           |+++++++++++++++++++++++++                         | 50% ~00s           |++++++++++++++++++++++++++++                      | 56% ~00s           |+++++++++++++++++++++++++++++++                   | 61% ~00s           |++++++++++++++++++++++++++++++++++                | 67% ~00s           |+++++++++++++++++++++++++++++++++++++             | 72% ~00s           |+++++++++++++++++++++++++++++++++++++++           | 78% ~00s           |++++++++++++++++++++++++++++++++++++++++++        | 83% ~00s           |+++++++++++++++++++++++++++++++++++++++++++++     | 89% ~00s           |++++++++++++++++++++++++++++++++++++++++++++++++  | 94% ~00s           |++++++++++++++++++++++++++++++++++++++++++++++++++| 100% elapsed=00s  \n"
     ]
    },
    {
     "name": "stderr",
     "output_type": "stream",
     "text": [
      "R[write to console]: Calculating cluster Inh_Sst\n",
      "\n"
     ]
    },
    {
     "name": "stdout",
     "output_type": "stream",
     "text": [
      "  |                                                  | 0 % ~calculating   |++++++++                                          | 14% ~00s           |+++++++++++++++                                   | 29% ~00s           |++++++++++++++++++++++                            | 43% ~00s           |+++++++++++++++++++++++++++++                     | 57% ~00s           |++++++++++++++++++++++++++++++++++++              | 71% ~00s           |+++++++++++++++++++++++++++++++++++++++++++       | 86% ~00s           |++++++++++++++++++++++++++++++++++++++++++++++++++| 100% elapsed=00s  \n"
     ]
    },
    {
     "name": "stderr",
     "output_type": "stream",
     "text": [
      "R[write to console]: Calculating cluster Ext_Thal_1\n",
      "\n"
     ]
    },
    {
     "name": "stdout",
     "output_type": "stream",
     "text": [
      "  |                                                  | 0 % ~calculating   |+                                                 | 1 % ~03s           |++                                                | 2 % ~03s           |++                                                | 3 % ~03s           |+++                                               | 5 % ~02s           |+++                                               | 6 % ~02s           |++++                                              | 7 % ~02s           |+++++                                             | 8 % ~02s           |+++++                                             | 9 % ~02s           |++++++                                            | 10% ~02s           |++++++                                            | 11% ~02s           |+++++++                                           | 13% ~02s           |+++++++                                           | 14% ~02s           |++++++++                                          | 15% ~02s           |+++++++++                                         | 16% ~02s           |+++++++++                                         | 17% ~02s           |++++++++++                                        | 18% ~02s           |++++++++++                                        | 20% ~02s           |+++++++++++                                       | 21% ~02s           |+++++++++++                                       | 22% ~02s           |++++++++++++                                      | 23% ~02s           |+++++++++++++                                     | 24% ~02s           |+++++++++++++                                     | 25% ~02s           |++++++++++++++                                    | 26% ~02s           |++++++++++++++                                    | 28% ~02s           |+++++++++++++++                                   | 29% ~02s           |+++++++++++++++                                   | 30% ~02s           |++++++++++++++++                                  | 31% ~02s           |+++++++++++++++++                                 | 32% ~02s           |+++++++++++++++++                                 | 33% ~02s           |++++++++++++++++++                                | 34% ~02s           |++++++++++++++++++                                | 36% ~02s           |+++++++++++++++++++                               | 37% ~02s           |+++++++++++++++++++                               | 38% ~02s           |++++++++++++++++++++                              | 39% ~02s           |+++++++++++++++++++++                             | 40% ~02s           |+++++++++++++++++++++                             | 41% ~02s           |++++++++++++++++++++++                            | 43% ~02s           |++++++++++++++++++++++                            | 44% ~02s           |+++++++++++++++++++++++                           | 45% ~01s           |+++++++++++++++++++++++                           | 46% ~01s           |++++++++++++++++++++++++                          | 47% ~01s           |+++++++++++++++++++++++++                         | 48% ~01s           |+++++++++++++++++++++++++                         | 49% ~01s           |++++++++++++++++++++++++++                        | 51% ~01s           |++++++++++++++++++++++++++                        | 52% ~01s           |+++++++++++++++++++++++++++                       | 53% ~01s           |++++++++++++++++++++++++++++                      | 54% ~01s           |++++++++++++++++++++++++++++                      | 55% ~01s           |+++++++++++++++++++++++++++++                     | 56% ~01s           |+++++++++++++++++++++++++++++                     | 57% ~01s           |++++++++++++++++++++++++++++++                    | 59% ~01s           |++++++++++++++++++++++++++++++                    | 60% ~01s           |+++++++++++++++++++++++++++++++                   | 61% ~01s           |++++++++++++++++++++++++++++++++                  | 62% ~01s           |++++++++++++++++++++++++++++++++                  | 63% ~01s           |+++++++++++++++++++++++++++++++++                 | 64% ~01s           |+++++++++++++++++++++++++++++++++                 | 66% ~01s           |++++++++++++++++++++++++++++++++++                | 67% ~01s           |++++++++++++++++++++++++++++++++++                | 68% ~01s           |+++++++++++++++++++++++++++++++++++               | 69% ~01s           |++++++++++++++++++++++++++++++++++++              | 70% ~01s           |++++++++++++++++++++++++++++++++++++              | 71% ~01s           |+++++++++++++++++++++++++++++++++++++             | 72% ~01s           |+++++++++++++++++++++++++++++++++++++             | 74% ~01s           |++++++++++++++++++++++++++++++++++++++            | 75% ~01s           |++++++++++++++++++++++++++++++++++++++            | 76% ~01s           |+++++++++++++++++++++++++++++++++++++++           | 77% ~01s           |++++++++++++++++++++++++++++++++++++++++          | 78% ~01s           |++++++++++++++++++++++++++++++++++++++++          | 79% ~01s           |+++++++++++++++++++++++++++++++++++++++++         | 80% ~01s           |+++++++++++++++++++++++++++++++++++++++++         | 82% ~01s           |++++++++++++++++++++++++++++++++++++++++++        | 83% ~00s           |++++++++++++++++++++++++++++++++++++++++++        | 84% ~00s           |+++++++++++++++++++++++++++++++++++++++++++       | 85% ~00s           |++++++++++++++++++++++++++++++++++++++++++++      | 86% ~00s           |++++++++++++++++++++++++++++++++++++++++++++      | 87% ~00s           |+++++++++++++++++++++++++++++++++++++++++++++     | 89% ~00s           |+++++++++++++++++++++++++++++++++++++++++++++     | 90% ~00s           |++++++++++++++++++++++++++++++++++++++++++++++    | 91% ~00s           |++++++++++++++++++++++++++++++++++++++++++++++    | 92% ~00s           |+++++++++++++++++++++++++++++++++++++++++++++++   | 93% ~00s           |++++++++++++++++++++++++++++++++++++++++++++++++  | 94% ~00s           |++++++++++++++++++++++++++++++++++++++++++++++++  | 95% ~00s           |+++++++++++++++++++++++++++++++++++++++++++++++++ | 97% ~00s           |+++++++++++++++++++++++++++++++++++++++++++++++++ | 98% ~00s           |++++++++++++++++++++++++++++++++++++++++++++++++++| 99% ~00s           |++++++++++++++++++++++++++++++++++++++++++++++++++| 100% elapsed=03s  \n"
     ]
    },
    {
     "name": "stderr",
     "output_type": "stream",
     "text": [
      "R[write to console]: Calculating cluster Ext_L25\n",
      "\n"
     ]
    },
    {
     "name": "stdout",
     "output_type": "stream",
     "text": [
      "  |                                                  | 0 % ~calculating   |++++++++++++++++++++++++++++++++++++++++++++++++++| 100% elapsed=00s  \n"
     ]
    },
    {
     "name": "stderr",
     "output_type": "stream",
     "text": [
      "R[write to console]: Calculating cluster OPC_2\n",
      "\n"
     ]
    },
    {
     "name": "stdout",
     "output_type": "stream",
     "text": [
      "  |                                                  | 0 % ~calculating   |+++++                                             | 8 % ~00s           |+++++++++                                         | 17% ~00s           |+++++++++++++                                     | 25% ~00s           |+++++++++++++++++                                 | 33% ~00s           |+++++++++++++++++++++                             | 42% ~00s           |+++++++++++++++++++++++++                         | 50% ~00s           |++++++++++++++++++++++++++++++                    | 58% ~00s           |++++++++++++++++++++++++++++++++++                | 67% ~00s           |++++++++++++++++++++++++++++++++++++++            | 75% ~00s           |++++++++++++++++++++++++++++++++++++++++++        | 83% ~00s           |++++++++++++++++++++++++++++++++++++++++++++++    | 92% ~00s           |++++++++++++++++++++++++++++++++++++++++++++++++++| 100% elapsed=00s  \n"
     ]
    },
    {
     "name": "stderr",
     "output_type": "stream",
     "text": [
      "R[write to console]: Calculating cluster Ext_Hpc_1\n",
      "\n"
     ]
    },
    {
     "name": "stdout",
     "output_type": "stream",
     "text": [
      "  |                                                  | 0 % ~calculating   |++                                                | 2 % ~01s           |+++                                               | 5 % ~01s           |++++                                              | 8 % ~01s           |+++++                                             | 10% ~01s           |+++++++                                           | 12% ~01s           |++++++++                                          | 15% ~01s           |+++++++++                                         | 18% ~01s           |++++++++++                                        | 20% ~01s           |++++++++++++                                      | 22% ~01s           |+++++++++++++                                     | 25% ~01s           |++++++++++++++                                    | 28% ~00s           |+++++++++++++++                                   | 30% ~00s           |+++++++++++++++++                                 | 32% ~00s           |++++++++++++++++++                                | 35% ~00s           |+++++++++++++++++++                               | 38% ~00s           |++++++++++++++++++++                              | 40% ~00s           |++++++++++++++++++++++                            | 42% ~00s           |+++++++++++++++++++++++                           | 45% ~00s           |++++++++++++++++++++++++                          | 48% ~00s           |+++++++++++++++++++++++++                         | 50% ~00s           |+++++++++++++++++++++++++++                       | 52% ~00s           |++++++++++++++++++++++++++++                      | 55% ~00s           |+++++++++++++++++++++++++++++                     | 58% ~00s           |++++++++++++++++++++++++++++++                    | 60% ~00s           |++++++++++++++++++++++++++++++++                  | 62% ~00s           |+++++++++++++++++++++++++++++++++                 | 65% ~00s           |++++++++++++++++++++++++++++++++++                | 68% ~00s           |+++++++++++++++++++++++++++++++++++               | 70% ~00s           |+++++++++++++++++++++++++++++++++++++             | 72% ~00s           |++++++++++++++++++++++++++++++++++++++            | 75% ~00s           |+++++++++++++++++++++++++++++++++++++++           | 78% ~00s           |++++++++++++++++++++++++++++++++++++++++          | 80% ~00s           |++++++++++++++++++++++++++++++++++++++++++        | 82% ~00s           |+++++++++++++++++++++++++++++++++++++++++++       | 85% ~00s           |++++++++++++++++++++++++++++++++++++++++++++      | 88% ~00s           |+++++++++++++++++++++++++++++++++++++++++++++     | 90% ~00s           |+++++++++++++++++++++++++++++++++++++++++++++++   | 92% ~00s           |++++++++++++++++++++++++++++++++++++++++++++++++  | 95% ~00s           |+++++++++++++++++++++++++++++++++++++++++++++++++ | 98% ~00s           |++++++++++++++++++++++++++++++++++++++++++++++++++| 100% elapsed=01s  \n"
     ]
    },
    {
     "name": "stderr",
     "output_type": "stream",
     "text": [
      "R[write to console]: Calculating cluster Inh_Meis2_2\n",
      "\n"
     ]
    },
    {
     "name": "stdout",
     "output_type": "stream",
     "text": [
      "  |                                                  | 0 % ~calculating   |+++                                               | 6 % ~00s           |++++++                                            | 11% ~00s           |+++++++++                                         | 17% ~00s           |++++++++++++                                      | 22% ~00s           |++++++++++++++                                    | 28% ~00s           |+++++++++++++++++                                 | 33% ~00s           |++++++++++++++++++++                              | 39% ~00s           |+++++++++++++++++++++++                           | 44% ~00s           |+++++++++++++++++++++++++                         | 50% ~00s           |++++++++++++++++++++++++++++                      | 56% ~00s           |+++++++++++++++++++++++++++++++                   | 61% ~00s           |++++++++++++++++++++++++++++++++++                | 67% ~00s           |+++++++++++++++++++++++++++++++++++++             | 72% ~00s           |+++++++++++++++++++++++++++++++++++++++           | 78% ~00s           |++++++++++++++++++++++++++++++++++++++++++        | 83% ~00s           |+++++++++++++++++++++++++++++++++++++++++++++     | 89% ~00s           |++++++++++++++++++++++++++++++++++++++++++++++++  | 94% ~00s           |++++++++++++++++++++++++++++++++++++++++++++++++++| 100% elapsed=00s  \n"
     ]
    },
    {
     "name": "stderr",
     "output_type": "stream",
     "text": [
      "R[write to console]: Calculating cluster Astro_0\n",
      "\n"
     ]
    },
    {
     "name": "stdout",
     "output_type": "stream",
     "text": [
      "  |                                                  | 0 % ~calculating   |++++++++++                                        | 20% ~00s           |++++++++++++++++++++                              | 40% ~00s           |++++++++++++++++++++++++++++++                    | 60% ~00s           |++++++++++++++++++++++++++++++++++++++++          | 80% ~00s           |++++++++++++++++++++++++++++++++++++++++++++++++++| 100% elapsed=00s  \n"
     ]
    },
    {
     "name": "stderr",
     "output_type": "stream",
     "text": [
      "R[write to console]: Calculating cluster Inh_6\n",
      "\n"
     ]
    },
    {
     "name": "stdout",
     "output_type": "stream",
     "text": [
      "  |                                                  | 0 % ~calculating   |++++                                              | 7 % ~00s           |+++++++                                           | 13% ~00s           |++++++++++                                        | 20% ~00s           |++++++++++++++                                    | 27% ~00s           |+++++++++++++++++                                 | 33% ~00s           |++++++++++++++++++++                              | 40% ~00s           |++++++++++++++++++++++++                          | 47% ~00s           |+++++++++++++++++++++++++++                       | 53% ~00s           |++++++++++++++++++++++++++++++                    | 60% ~00s           |++++++++++++++++++++++++++++++++++                | 67% ~00s           |+++++++++++++++++++++++++++++++++++++             | 73% ~00s           |++++++++++++++++++++++++++++++++++++++++          | 80% ~00s           |++++++++++++++++++++++++++++++++++++++++++++      | 87% ~00s           |+++++++++++++++++++++++++++++++++++++++++++++++   | 93% ~00s           |++++++++++++++++++++++++++++++++++++++++++++++++++| 100% elapsed=00s  \n"
     ]
    },
    {
     "name": "stderr",
     "output_type": "stream",
     "text": [
      "R[write to console]: Calculating cluster Unk_1\n",
      "\n",
      "R[write to console]: Calculating cluster Ext_L5_2\n",
      "\n"
     ]
    },
    {
     "name": "stdout",
     "output_type": "stream",
     "text": [
      "  |                                                  | 0 % ~calculating   |+                                                 | 1 % ~02s           |++                                                | 3 % ~02s           |++                                                | 4 % ~02s           |+++                                               | 5 % ~02s           |++++                                              | 7 % ~02s           |++++                                              | 8 % ~02s           |+++++                                             | 9 % ~02s           |++++++                                            | 11% ~02s           |++++++                                            | 12% ~02s           |+++++++                                           | 13% ~02s           |++++++++                                          | 15% ~02s           |++++++++                                          | 16% ~02s           |+++++++++                                         | 17% ~02s           |++++++++++                                        | 19% ~02s           |++++++++++                                        | 20% ~02s           |+++++++++++                                       | 21% ~02s           |++++++++++++                                      | 23% ~02s           |++++++++++++                                      | 24% ~02s           |+++++++++++++                                     | 25% ~02s           |++++++++++++++                                    | 27% ~02s           |++++++++++++++                                    | 28% ~02s           |+++++++++++++++                                   | 29% ~02s           |++++++++++++++++                                  | 31% ~02s           |++++++++++++++++                                  | 32% ~02s           |+++++++++++++++++                                 | 33% ~01s           |++++++++++++++++++                                | 35% ~01s           |++++++++++++++++++                                | 36% ~01s           |+++++++++++++++++++                               | 37% ~01s           |++++++++++++++++++++                              | 39% ~01s           |++++++++++++++++++++                              | 40% ~01s           |+++++++++++++++++++++                             | 41% ~01s           |++++++++++++++++++++++                            | 43% ~01s           |++++++++++++++++++++++                            | 44% ~01s           |+++++++++++++++++++++++                           | 45% ~01s           |++++++++++++++++++++++++                          | 47% ~01s           |++++++++++++++++++++++++                          | 48% ~01s           |+++++++++++++++++++++++++                         | 49% ~01s           |++++++++++++++++++++++++++                        | 51% ~01s           |++++++++++++++++++++++++++                        | 52% ~01s           |+++++++++++++++++++++++++++                       | 53% ~01s           |++++++++++++++++++++++++++++                      | 55% ~01s           |++++++++++++++++++++++++++++                      | 56% ~01s           |+++++++++++++++++++++++++++++                     | 57% ~01s           |++++++++++++++++++++++++++++++                    | 59% ~01s           |++++++++++++++++++++++++++++++                    | 60% ~01s           |+++++++++++++++++++++++++++++++                   | 61% ~01s           |++++++++++++++++++++++++++++++++                  | 63% ~01s           |++++++++++++++++++++++++++++++++                  | 64% ~01s           |+++++++++++++++++++++++++++++++++                 | 65% ~01s           |++++++++++++++++++++++++++++++++++                | 67% ~01s           |++++++++++++++++++++++++++++++++++                | 68% ~01s           |+++++++++++++++++++++++++++++++++++               | 69% ~01s           |++++++++++++++++++++++++++++++++++++              | 71% ~01s           |++++++++++++++++++++++++++++++++++++              | 72% ~01s           |+++++++++++++++++++++++++++++++++++++             | 73% ~01s           |++++++++++++++++++++++++++++++++++++++            | 75% ~01s           |++++++++++++++++++++++++++++++++++++++            | 76% ~01s           |+++++++++++++++++++++++++++++++++++++++           | 77% ~01s           |++++++++++++++++++++++++++++++++++++++++          | 79% ~01s           |++++++++++++++++++++++++++++++++++++++++          | 80% ~00s           |+++++++++++++++++++++++++++++++++++++++++         | 81% ~00s           |++++++++++++++++++++++++++++++++++++++++++        | 83% ~00s           |++++++++++++++++++++++++++++++++++++++++++        | 84% ~00s           |+++++++++++++++++++++++++++++++++++++++++++       | 85% ~00s           |++++++++++++++++++++++++++++++++++++++++++++      | 87% ~00s           |++++++++++++++++++++++++++++++++++++++++++++      | 88% ~00s           |+++++++++++++++++++++++++++++++++++++++++++++     | 89% ~00s           |++++++++++++++++++++++++++++++++++++++++++++++    | 91% ~00s           |++++++++++++++++++++++++++++++++++++++++++++++    | 92% ~00s           |+++++++++++++++++++++++++++++++++++++++++++++++   | 93% ~00s           |++++++++++++++++++++++++++++++++++++++++++++++++  | 95% ~00s           |++++++++++++++++++++++++++++++++++++++++++++++++  | 96% ~00s           |+++++++++++++++++++++++++++++++++++++++++++++++++ | 97% ~00s           |++++++++++++++++++++++++++++++++++++++++++++++++++| 99% ~00s           |++++++++++++++++++++++++++++++++++++++++++++++++++| 100% elapsed=02s  \n"
     ]
    },
    {
     "name": "stderr",
     "output_type": "stream",
     "text": [
      "R[write to console]: Calculating cluster Ext_L5_1\n",
      "\n"
     ]
    },
    {
     "name": "stdout",
     "output_type": "stream",
     "text": [
      "  |                                                  | 0 % ~calculating   |+                                                 | 2 % ~01s           |++                                                | 4 % ~01s           |+++                                               | 6 % ~01s           |++++                                              | 8 % ~01s           |+++++                                             | 10% ~01s           |++++++                                            | 12% ~01s           |+++++++                                           | 13% ~01s           |++++++++                                          | 15% ~01s           |+++++++++                                         | 17% ~01s           |++++++++++                                        | 19% ~01s           |+++++++++++                                       | 21% ~01s           |++++++++++++                                      | 23% ~01s           |+++++++++++++                                     | 25% ~01s           |++++++++++++++                                    | 27% ~01s           |+++++++++++++++                                   | 29% ~01s           |++++++++++++++++                                  | 31% ~01s           |+++++++++++++++++                                 | 33% ~01s           |++++++++++++++++++                                | 35% ~01s           |+++++++++++++++++++                               | 37% ~01s           |++++++++++++++++++++                              | 38% ~01s           |+++++++++++++++++++++                             | 40% ~01s           |++++++++++++++++++++++                            | 42% ~01s           |+++++++++++++++++++++++                           | 44% ~01s           |++++++++++++++++++++++++                          | 46% ~01s           |+++++++++++++++++++++++++                         | 48% ~00s           |+++++++++++++++++++++++++                         | 50% ~00s           |++++++++++++++++++++++++++                        | 52% ~00s           |+++++++++++++++++++++++++++                       | 54% ~00s           |++++++++++++++++++++++++++++                      | 56% ~00s           |+++++++++++++++++++++++++++++                     | 58% ~00s           |++++++++++++++++++++++++++++++                    | 60% ~00s           |+++++++++++++++++++++++++++++++                   | 62% ~00s           |++++++++++++++++++++++++++++++++                  | 63% ~00s           |+++++++++++++++++++++++++++++++++                 | 65% ~00s           |++++++++++++++++++++++++++++++++++                | 67% ~00s           |+++++++++++++++++++++++++++++++++++               | 69% ~00s           |++++++++++++++++++++++++++++++++++++              | 71% ~00s           |+++++++++++++++++++++++++++++++++++++             | 73% ~00s           |++++++++++++++++++++++++++++++++++++++            | 75% ~00s           |+++++++++++++++++++++++++++++++++++++++           | 77% ~00s           |++++++++++++++++++++++++++++++++++++++++          | 79% ~00s           |+++++++++++++++++++++++++++++++++++++++++         | 81% ~00s           |++++++++++++++++++++++++++++++++++++++++++        | 83% ~00s           |+++++++++++++++++++++++++++++++++++++++++++       | 85% ~00s           |++++++++++++++++++++++++++++++++++++++++++++      | 87% ~00s           |+++++++++++++++++++++++++++++++++++++++++++++     | 88% ~00s           |++++++++++++++++++++++++++++++++++++++++++++++    | 90% ~00s           |+++++++++++++++++++++++++++++++++++++++++++++++   | 92% ~00s           |++++++++++++++++++++++++++++++++++++++++++++++++  | 94% ~00s           |+++++++++++++++++++++++++++++++++++++++++++++++++ | 96% ~00s           |++++++++++++++++++++++++++++++++++++++++++++++++++| 98% ~00s           |++++++++++++++++++++++++++++++++++++++++++++++++++| 100% elapsed=01s  \n"
     ]
    },
    {
     "name": "stderr",
     "output_type": "stream",
     "text": [
      "R[write to console]: Calculating cluster Ext_L56\n",
      "\n"
     ]
    },
    {
     "name": "stdout",
     "output_type": "stream",
     "text": [
      "  |                                                  | 0 % ~calculating   |++++                                              | 6 % ~00s           |+++++++                                           | 12% ~00s           |++++++++++                                        | 19% ~00s           |+++++++++++++                                     | 25% ~00s           |++++++++++++++++                                  | 31% ~00s           |+++++++++++++++++++                               | 38% ~00s           |++++++++++++++++++++++                            | 44% ~00s           |+++++++++++++++++++++++++                         | 50% ~00s           |+++++++++++++++++++++++++++++                     | 56% ~00s           |++++++++++++++++++++++++++++++++                  | 62% ~00s           |+++++++++++++++++++++++++++++++++++               | 69% ~00s           |++++++++++++++++++++++++++++++++++++++            | 75% ~00s           |+++++++++++++++++++++++++++++++++++++++++         | 81% ~00s           |++++++++++++++++++++++++++++++++++++++++++++      | 88% ~00s           |+++++++++++++++++++++++++++++++++++++++++++++++   | 94% ~00s           |++++++++++++++++++++++++++++++++++++++++++++++++++| 100% elapsed=00s  \n"
     ]
    },
    {
     "name": "stderr",
     "output_type": "stream",
     "text": [
      "R[write to console]: Calculating cluster Astro_2\n",
      "\n"
     ]
    },
    {
     "name": "stdout",
     "output_type": "stream",
     "text": [
      "  |                                                  | 0 % ~calculating   |+++                                               | 5 % ~00s           |+++++                                             | 10% ~00s           |++++++++                                          | 14% ~00s           |++++++++++                                        | 19% ~00s           |++++++++++++                                      | 24% ~00s           |+++++++++++++++                                   | 29% ~00s           |+++++++++++++++++                                 | 33% ~00s           |++++++++++++++++++++                              | 38% ~00s           |++++++++++++++++++++++                            | 43% ~00s           |++++++++++++++++++++++++                          | 48% ~00s           |+++++++++++++++++++++++++++                       | 52% ~00s           |+++++++++++++++++++++++++++++                     | 57% ~00s           |+++++++++++++++++++++++++++++++                   | 62% ~00s           |++++++++++++++++++++++++++++++++++                | 67% ~00s           |++++++++++++++++++++++++++++++++++++              | 71% ~00s           |+++++++++++++++++++++++++++++++++++++++           | 76% ~00s           |+++++++++++++++++++++++++++++++++++++++++         | 81% ~00s           |+++++++++++++++++++++++++++++++++++++++++++       | 86% ~00s           |++++++++++++++++++++++++++++++++++++++++++++++    | 90% ~00s           |++++++++++++++++++++++++++++++++++++++++++++++++  | 95% ~00s           |++++++++++++++++++++++++++++++++++++++++++++++++++| 100% elapsed=00s  \n"
     ]
    },
    {
     "name": "stderr",
     "output_type": "stream",
     "text": [
      "R[write to console]: Calculating cluster Inh_Meis2_1\n",
      "\n"
     ]
    },
    {
     "name": "stdout",
     "output_type": "stream",
     "text": [
      "  |                                                  | 0 % ~calculating   |+++++++++++++++++++++++++                         | 50% ~00s           |++++++++++++++++++++++++++++++++++++++++++++++++++| 100% elapsed=00s  \n"
     ]
    },
    {
     "name": "stderr",
     "output_type": "stream",
     "text": [
      "R[write to console]: Calculating cluster Ext_Hpc_2\n",
      "\n"
     ]
    },
    {
     "name": "stdout",
     "output_type": "stream",
     "text": [
      "  |                                                  | 0 % ~calculating   |+                                                 | 1 % ~02s           |++                                                | 3 % ~02s           |+++                                               | 4 % ~02s           |+++                                               | 6 % ~02s           |++++                                              | 7 % ~02s           |+++++                                             | 9 % ~02s           |++++++                                            | 10% ~02s           |++++++                                            | 12% ~02s           |+++++++                                           | 13% ~02s           |++++++++                                          | 14% ~02s           |++++++++                                          | 16% ~01s           |+++++++++                                         | 17% ~01s           |++++++++++                                        | 19% ~01s           |+++++++++++                                       | 20% ~01s           |+++++++++++                                       | 22% ~02s           |++++++++++++                                      | 23% ~01s           |+++++++++++++                                     | 25% ~01s           |++++++++++++++                                    | 26% ~01s           |++++++++++++++                                    | 28% ~01s           |+++++++++++++++                                   | 29% ~01s           |++++++++++++++++                                  | 30% ~01s           |++++++++++++++++                                  | 32% ~01s           |+++++++++++++++++                                 | 33% ~01s           |++++++++++++++++++                                | 35% ~01s           |+++++++++++++++++++                               | 36% ~01s           |+++++++++++++++++++                               | 38% ~01s           |++++++++++++++++++++                              | 39% ~01s           |+++++++++++++++++++++                             | 41% ~01s           |++++++++++++++++++++++                            | 42% ~01s           |++++++++++++++++++++++                            | 43% ~01s           |+++++++++++++++++++++++                           | 45% ~01s           |++++++++++++++++++++++++                          | 46% ~01s           |++++++++++++++++++++++++                          | 48% ~01s           |+++++++++++++++++++++++++                         | 49% ~01s           |++++++++++++++++++++++++++                        | 51% ~01s           |+++++++++++++++++++++++++++                       | 52% ~01s           |+++++++++++++++++++++++++++                       | 54% ~01s           |++++++++++++++++++++++++++++                      | 55% ~01s           |+++++++++++++++++++++++++++++                     | 57% ~01s           |+++++++++++++++++++++++++++++                     | 58% ~01s           |++++++++++++++++++++++++++++++                    | 59% ~01s           |+++++++++++++++++++++++++++++++                   | 61% ~01s           |++++++++++++++++++++++++++++++++                  | 62% ~01s           |++++++++++++++++++++++++++++++++                  | 64% ~01s           |+++++++++++++++++++++++++++++++++                 | 65% ~01s           |++++++++++++++++++++++++++++++++++                | 67% ~01s           |+++++++++++++++++++++++++++++++++++               | 68% ~01s           |+++++++++++++++++++++++++++++++++++               | 70% ~01s           |++++++++++++++++++++++++++++++++++++              | 71% ~01s           |+++++++++++++++++++++++++++++++++++++             | 72% ~01s           |+++++++++++++++++++++++++++++++++++++             | 74% ~01s           |++++++++++++++++++++++++++++++++++++++            | 75% ~01s           |+++++++++++++++++++++++++++++++++++++++           | 77% ~01s           |++++++++++++++++++++++++++++++++++++++++          | 78% ~00s           |++++++++++++++++++++++++++++++++++++++++          | 80% ~00s           |+++++++++++++++++++++++++++++++++++++++++         | 81% ~00s           |++++++++++++++++++++++++++++++++++++++++++        | 83% ~00s           |+++++++++++++++++++++++++++++++++++++++++++       | 84% ~00s           |+++++++++++++++++++++++++++++++++++++++++++       | 86% ~00s           |++++++++++++++++++++++++++++++++++++++++++++      | 87% ~00s           |+++++++++++++++++++++++++++++++++++++++++++++     | 88% ~00s           |+++++++++++++++++++++++++++++++++++++++++++++     | 90% ~00s           |++++++++++++++++++++++++++++++++++++++++++++++    | 91% ~00s           |+++++++++++++++++++++++++++++++++++++++++++++++   | 93% ~00s           |++++++++++++++++++++++++++++++++++++++++++++++++  | 94% ~00s           |++++++++++++++++++++++++++++++++++++++++++++++++  | 96% ~00s           |+++++++++++++++++++++++++++++++++++++++++++++++++ | 97% ~00s           |++++++++++++++++++++++++++++++++++++++++++++++++++| 99% ~00s           |++++++++++++++++++++++++++++++++++++++++++++++++++| 100% elapsed=02s  \n"
     ]
    },
    {
     "name": "stderr",
     "output_type": "stream",
     "text": [
      "R[write to console]: Calculating cluster Ext_L6\n",
      "\n"
     ]
    },
    {
     "name": "stdout",
     "output_type": "stream",
     "text": [
      "  |                                                  | 0 % ~calculating   |++                                                | 3 % ~01s           |++++                                              | 7 % ~00s           |++++++                                            | 10% ~00s           |+++++++                                           | 14% ~00s           |+++++++++                                         | 17% ~00s           |+++++++++++                                       | 21% ~00s           |+++++++++++++                                     | 24% ~00s           |++++++++++++++                                    | 28% ~00s           |++++++++++++++++                                  | 31% ~00s           |++++++++++++++++++                                | 34% ~00s           |+++++++++++++++++++                               | 38% ~00s           |+++++++++++++++++++++                             | 41% ~00s           |+++++++++++++++++++++++                           | 45% ~00s           |+++++++++++++++++++++++++                         | 48% ~00s           |++++++++++++++++++++++++++                        | 52% ~00s           |++++++++++++++++++++++++++++                      | 55% ~00s           |++++++++++++++++++++++++++++++                    | 59% ~00s           |++++++++++++++++++++++++++++++++                  | 62% ~00s           |+++++++++++++++++++++++++++++++++                 | 66% ~00s           |+++++++++++++++++++++++++++++++++++               | 69% ~00s           |+++++++++++++++++++++++++++++++++++++             | 72% ~00s           |++++++++++++++++++++++++++++++++++++++            | 76% ~00s           |++++++++++++++++++++++++++++++++++++++++          | 79% ~00s           |++++++++++++++++++++++++++++++++++++++++++        | 83% ~00s           |++++++++++++++++++++++++++++++++++++++++++++      | 86% ~00s           |+++++++++++++++++++++++++++++++++++++++++++++     | 90% ~00s           |+++++++++++++++++++++++++++++++++++++++++++++++   | 93% ~00s           |+++++++++++++++++++++++++++++++++++++++++++++++++ | 97% ~00s           |++++++++++++++++++++++++++++++++++++++++++++++++++| 100% elapsed=01s  \n"
     ]
    },
    {
     "name": "stderr",
     "output_type": "stream",
     "text": [
      "R[write to console]: Calculating cluster Oligo_1\n",
      "\n"
     ]
    },
    {
     "name": "stdout",
     "output_type": "stream",
     "text": [
      "  |                                                  | 0 % ~calculating   |+                                                 | 2 % ~01s           |++                                                | 4 % ~01s           |+++                                               | 5 % ~01s           |++++                                              | 7 % ~01s           |+++++                                             | 9 % ~01s           |++++++                                            | 11% ~01s           |+++++++                                           | 12% ~01s           |++++++++                                          | 14% ~01s           |+++++++++                                         | 16% ~01s           |+++++++++                                         | 18% ~01s           |++++++++++                                        | 20% ~01s           |+++++++++++                                       | 21% ~01s           |++++++++++++                                      | 23% ~01s           |+++++++++++++                                     | 25% ~01s           |++++++++++++++                                    | 27% ~01s           |+++++++++++++++                                   | 29% ~01s           |++++++++++++++++                                  | 30% ~01s           |+++++++++++++++++                                 | 32% ~01s           |+++++++++++++++++                                 | 34% ~01s           |++++++++++++++++++                                | 36% ~01s           |+++++++++++++++++++                               | 38% ~01s           |++++++++++++++++++++                              | 39% ~01s           |+++++++++++++++++++++                             | 41% ~01s           |++++++++++++++++++++++                            | 43% ~01s           |+++++++++++++++++++++++                           | 45% ~01s           |++++++++++++++++++++++++                          | 46% ~01s           |+++++++++++++++++++++++++                         | 48% ~01s           |+++++++++++++++++++++++++                         | 50% ~00s           |++++++++++++++++++++++++++                        | 52% ~00s           |+++++++++++++++++++++++++++                       | 54% ~00s           |++++++++++++++++++++++++++++                      | 55% ~00s           |+++++++++++++++++++++++++++++                     | 57% ~00s           |++++++++++++++++++++++++++++++                    | 59% ~00s           |+++++++++++++++++++++++++++++++                   | 61% ~00s           |++++++++++++++++++++++++++++++++                  | 62% ~00s           |+++++++++++++++++++++++++++++++++                 | 64% ~00s           |++++++++++++++++++++++++++++++++++                | 66% ~00s           |++++++++++++++++++++++++++++++++++                | 68% ~00s           |+++++++++++++++++++++++++++++++++++               | 70% ~00s           |++++++++++++++++++++++++++++++++++++              | 71% ~00s           |+++++++++++++++++++++++++++++++++++++             | 73% ~00s           |++++++++++++++++++++++++++++++++++++++            | 75% ~00s           |+++++++++++++++++++++++++++++++++++++++           | 77% ~00s           |++++++++++++++++++++++++++++++++++++++++          | 79% ~00s           |+++++++++++++++++++++++++++++++++++++++++         | 80% ~00s           |++++++++++++++++++++++++++++++++++++++++++        | 82% ~00s           |++++++++++++++++++++++++++++++++++++++++++        | 84% ~00s           |+++++++++++++++++++++++++++++++++++++++++++       | 86% ~00s           |++++++++++++++++++++++++++++++++++++++++++++      | 88% ~00s           |+++++++++++++++++++++++++++++++++++++++++++++     | 89% ~00s           |++++++++++++++++++++++++++++++++++++++++++++++    | 91% ~00s           |+++++++++++++++++++++++++++++++++++++++++++++++   | 93% ~00s           |++++++++++++++++++++++++++++++++++++++++++++++++  | 95% ~00s           |+++++++++++++++++++++++++++++++++++++++++++++++++ | 96% ~00s           |++++++++++++++++++++++++++++++++++++++++++++++++++| 98% ~00s           |++++++++++++++++++++++++++++++++++++++++++++++++++| 100% elapsed=01s  \n"
     ]
    },
    {
     "name": "stderr",
     "output_type": "stream",
     "text": [
      "R[write to console]: Calculating cluster Ext_Amy_1\n",
      "\n"
     ]
    },
    {
     "name": "stdout",
     "output_type": "stream",
     "text": [
      "  |                                                  | 0 % ~calculating   |+                                                 | 2 % ~01s           |++                                                | 4 % ~01s           |+++                                               | 6 % ~01s           |++++                                              | 7 % ~01s           |+++++                                             | 9 % ~01s           |++++++                                            | 11% ~01s           |+++++++                                           | 13% ~01s           |++++++++                                          | 15% ~01s           |+++++++++                                         | 17% ~01s           |++++++++++                                        | 19% ~01s           |+++++++++++                                       | 20% ~01s           |++++++++++++                                      | 22% ~01s           |+++++++++++++                                     | 24% ~01s           |+++++++++++++                                     | 26% ~01s           |++++++++++++++                                    | 28% ~01s           |+++++++++++++++                                   | 30% ~01s           |++++++++++++++++                                  | 31% ~01s           |+++++++++++++++++                                 | 33% ~01s           |++++++++++++++++++                                | 35% ~01s           |+++++++++++++++++++                               | 37% ~01s           |++++++++++++++++++++                              | 39% ~01s           |+++++++++++++++++++++                             | 41% ~01s           |++++++++++++++++++++++                            | 43% ~01s           |+++++++++++++++++++++++                           | 44% ~01s           |++++++++++++++++++++++++                          | 46% ~00s           |+++++++++++++++++++++++++                         | 48% ~00s           |+++++++++++++++++++++++++                         | 50% ~00s           |++++++++++++++++++++++++++                        | 52% ~00s           |+++++++++++++++++++++++++++                       | 54% ~00s           |++++++++++++++++++++++++++++                      | 56% ~00s           |+++++++++++++++++++++++++++++                     | 57% ~00s           |++++++++++++++++++++++++++++++                    | 59% ~00s           |+++++++++++++++++++++++++++++++                   | 61% ~00s           |++++++++++++++++++++++++++++++++                  | 63% ~00s           |+++++++++++++++++++++++++++++++++                 | 65% ~00s           |++++++++++++++++++++++++++++++++++                | 67% ~00s           |+++++++++++++++++++++++++++++++++++               | 69% ~00s           |++++++++++++++++++++++++++++++++++++              | 70% ~00s           |+++++++++++++++++++++++++++++++++++++             | 72% ~00s           |++++++++++++++++++++++++++++++++++++++            | 74% ~00s           |++++++++++++++++++++++++++++++++++++++            | 76% ~00s           |+++++++++++++++++++++++++++++++++++++++           | 78% ~00s           |++++++++++++++++++++++++++++++++++++++++          | 80% ~00s           |+++++++++++++++++++++++++++++++++++++++++         | 81% ~00s           |++++++++++++++++++++++++++++++++++++++++++        | 83% ~00s           |+++++++++++++++++++++++++++++++++++++++++++       | 85% ~00s           |++++++++++++++++++++++++++++++++++++++++++++      | 87% ~00s           |+++++++++++++++++++++++++++++++++++++++++++++     | 89% ~00s           |++++++++++++++++++++++++++++++++++++++++++++++    | 91% ~00s           |+++++++++++++++++++++++++++++++++++++++++++++++   | 93% ~00s           |++++++++++++++++++++++++++++++++++++++++++++++++  | 94% ~00s           |+++++++++++++++++++++++++++++++++++++++++++++++++ | 96% ~00s           |++++++++++++++++++++++++++++++++++++++++++++++++++| 98% ~00s           |++++++++++++++++++++++++++++++++++++++++++++++++++| 100% elapsed=01s  \n"
     ]
    },
    {
     "name": "stderr",
     "output_type": "stream",
     "text": [
      "R[write to console]: Calculating cluster Inh_Lamp5\n",
      "\n"
     ]
    },
    {
     "name": "stdout",
     "output_type": "stream",
     "text": [
      "  |                                                  | 0 % ~calculating   |++++                                              | 8 % ~00s           |++++++++                                          | 15% ~00s           |++++++++++++                                      | 23% ~00s           |++++++++++++++++                                  | 31% ~00s           |++++++++++++++++++++                              | 38% ~00s           |++++++++++++++++++++++++                          | 46% ~00s           |+++++++++++++++++++++++++++                       | 54% ~00s           |+++++++++++++++++++++++++++++++                   | 62% ~00s           |+++++++++++++++++++++++++++++++++++               | 69% ~00s           |+++++++++++++++++++++++++++++++++++++++           | 77% ~00s           |+++++++++++++++++++++++++++++++++++++++++++       | 85% ~00s           |+++++++++++++++++++++++++++++++++++++++++++++++   | 92% ~00s           |++++++++++++++++++++++++++++++++++++++++++++++++++| 100% elapsed=00s  \n"
     ]
    },
    {
     "name": "stderr",
     "output_type": "stream",
     "text": [
      "R[write to console]: Calculating cluster Inh_2\n",
      "\n"
     ]
    },
    {
     "name": "stdout",
     "output_type": "stream",
     "text": [
      "  |                                                  | 0 % ~calculating   |++                                                | 3 % ~01s           |++++                                              | 7 % ~01s           |+++++                                             | 10% ~00s           |+++++++                                           | 13% ~00s           |+++++++++                                         | 17% ~00s           |++++++++++                                        | 20% ~00s           |++++++++++++                                      | 23% ~00s           |++++++++++++++                                    | 27% ~00s           |+++++++++++++++                                   | 30% ~00s           |+++++++++++++++++                                 | 33% ~00s           |+++++++++++++++++++                               | 37% ~00s           |++++++++++++++++++++                              | 40% ~00s           |++++++++++++++++++++++                            | 43% ~00s           |++++++++++++++++++++++++                          | 47% ~00s           |+++++++++++++++++++++++++                         | 50% ~00s           |+++++++++++++++++++++++++++                       | 53% ~00s           |+++++++++++++++++++++++++++++                     | 57% ~00s           |++++++++++++++++++++++++++++++                    | 60% ~00s           |++++++++++++++++++++++++++++++++                  | 63% ~00s           |++++++++++++++++++++++++++++++++++                | 67% ~00s           |+++++++++++++++++++++++++++++++++++               | 70% ~00s           |+++++++++++++++++++++++++++++++++++++             | 73% ~00s           |+++++++++++++++++++++++++++++++++++++++           | 77% ~00s           |++++++++++++++++++++++++++++++++++++++++          | 80% ~00s           |++++++++++++++++++++++++++++++++++++++++++        | 83% ~00s           |++++++++++++++++++++++++++++++++++++++++++++      | 87% ~00s           |+++++++++++++++++++++++++++++++++++++++++++++     | 90% ~00s           |+++++++++++++++++++++++++++++++++++++++++++++++   | 93% ~00s           |+++++++++++++++++++++++++++++++++++++++++++++++++ | 97% ~00s           |++++++++++++++++++++++++++++++++++++++++++++++++++| 100% elapsed=01s  \n"
     ]
    },
    {
     "name": "stderr",
     "output_type": "stream",
     "text": [
      "R[write to console]: Calculating cluster Ext_Thal_2\n",
      "\n"
     ]
    },
    {
     "name": "stdout",
     "output_type": "stream",
     "text": [
      "  |                                                  | 0 % ~calculating   |++                                                | 3 % ~01s           |+++                                               | 6 % ~01s           |+++++                                             | 9 % ~01s           |++++++                                            | 11% ~01s           |++++++++                                          | 14% ~01s           |+++++++++                                         | 17% ~01s           |++++++++++                                        | 20% ~00s           |++++++++++++                                      | 23% ~00s           |+++++++++++++                                     | 26% ~00s           |+++++++++++++++                                   | 29% ~00s           |++++++++++++++++                                  | 31% ~00s           |++++++++++++++++++                                | 34% ~00s           |+++++++++++++++++++                               | 37% ~00s           |++++++++++++++++++++                              | 40% ~00s           |++++++++++++++++++++++                            | 43% ~00s           |+++++++++++++++++++++++                           | 46% ~00s           |+++++++++++++++++++++++++                         | 49% ~00s           |++++++++++++++++++++++++++                        | 51% ~00s           |++++++++++++++++++++++++++++                      | 54% ~00s           |+++++++++++++++++++++++++++++                     | 57% ~00s           |++++++++++++++++++++++++++++++                    | 60% ~00s           |++++++++++++++++++++++++++++++++                  | 63% ~00s           |+++++++++++++++++++++++++++++++++                 | 66% ~00s           |+++++++++++++++++++++++++++++++++++               | 69% ~00s           |++++++++++++++++++++++++++++++++++++              | 71% ~00s           |++++++++++++++++++++++++++++++++++++++            | 74% ~00s           |+++++++++++++++++++++++++++++++++++++++           | 77% ~00s           |++++++++++++++++++++++++++++++++++++++++          | 80% ~00s           |++++++++++++++++++++++++++++++++++++++++++        | 83% ~00s           |+++++++++++++++++++++++++++++++++++++++++++       | 86% ~00s           |+++++++++++++++++++++++++++++++++++++++++++++     | 89% ~00s           |++++++++++++++++++++++++++++++++++++++++++++++    | 91% ~00s           |++++++++++++++++++++++++++++++++++++++++++++++++  | 94% ~00s           |+++++++++++++++++++++++++++++++++++++++++++++++++ | 97% ~00s           |++++++++++++++++++++++++++++++++++++++++++++++++++| 100% elapsed=01s  \n"
     ]
    },
    {
     "name": "stderr",
     "output_type": "stream",
     "text": [
      "R[write to console]: Calculating cluster Astro_1\n",
      "\n"
     ]
    },
    {
     "name": "stdout",
     "output_type": "stream",
     "text": [
      "  |                                                  | 0 % ~calculating   |+++++++++++++++++++++++++                         | 50% ~00s           |++++++++++++++++++++++++++++++++++++++++++++++++++| 100% elapsed=00s  \n"
     ]
    },
    {
     "name": "stderr",
     "output_type": "stream",
     "text": [
      "R[write to console]: Calculating cluster Inh_Vip\n",
      "\n"
     ]
    },
    {
     "name": "stdout",
     "output_type": "stream",
     "text": [
      "  |                                                  | 0 % ~calculating   |+++++                                             | 10% ~00s           |++++++++++                                        | 20% ~00s           |+++++++++++++++                                   | 30% ~00s           |++++++++++++++++++++                              | 40% ~00s           |+++++++++++++++++++++++++                         | 50% ~00s           |++++++++++++++++++++++++++++++                    | 60% ~00s           |+++++++++++++++++++++++++++++++++++               | 70% ~00s           |++++++++++++++++++++++++++++++++++++++++          | 80% ~00s           |+++++++++++++++++++++++++++++++++++++++++++++     | 90% ~00s           |++++++++++++++++++++++++++++++++++++++++++++++++++| 100% elapsed=00s  \n"
     ]
    },
    {
     "name": "stderr",
     "output_type": "stream",
     "text": [
      "R[write to console]: Calculating cluster Inh_Meis2_3\n",
      "\n"
     ]
    },
    {
     "name": "stdout",
     "output_type": "stream",
     "text": [
      "  |                                                  | 0 % ~calculating   |+++++                                             | 8 % ~00s           |+++++++++                                         | 17% ~00s           |+++++++++++++                                     | 25% ~00s           |+++++++++++++++++                                 | 33% ~00s           |+++++++++++++++++++++                             | 42% ~00s           |+++++++++++++++++++++++++                         | 50% ~00s           |++++++++++++++++++++++++++++++                    | 58% ~00s           |++++++++++++++++++++++++++++++++++                | 67% ~00s           |++++++++++++++++++++++++++++++++++++++            | 75% ~00s           |++++++++++++++++++++++++++++++++++++++++++        | 83% ~00s           |++++++++++++++++++++++++++++++++++++++++++++++    | 92% ~00s           |++++++++++++++++++++++++++++++++++++++++++++++++++| 100% elapsed=00s  \n"
     ]
    },
    {
     "name": "stderr",
     "output_type": "stream",
     "text": [
      "R[write to console]: Calculating cluster Inh_3\n",
      "\n"
     ]
    },
    {
     "name": "stdout",
     "output_type": "stream",
     "text": [
      "  |                                                  | 0 % ~calculating   |+++++++++++++                                     | 25% ~00s           |+++++++++++++++++++++++++                         | 50% ~00s           |++++++++++++++++++++++++++++++++++++++            | 75% ~00s           |++++++++++++++++++++++++++++++++++++++++++++++++++| 100% elapsed=00s  \n"
     ]
    },
    {
     "name": "stderr",
     "output_type": "stream",
     "text": [
      "R[write to console]: Calculating cluster Ext_Hpc_3\n",
      "\n"
     ]
    },
    {
     "name": "stdout",
     "output_type": "stream",
     "text": [
      "  |                                                  | 0 % ~calculating   |++++++++++                                        | 20% ~00s           |++++++++++++++++++++                              | 40% ~00s           |++++++++++++++++++++++++++++++                    | 60% ~00s           |++++++++++++++++++++++++++++++++++++++++          | 80% ~00s           |++++++++++++++++++++++++++++++++++++++++++++++++++| 100% elapsed=00s  \n"
     ]
    },
    {
     "name": "stderr",
     "output_type": "stream",
     "text": [
      "R[write to console]: Calculating cluster Astro_3\n",
      "\n"
     ]
    },
    {
     "name": "stdout",
     "output_type": "stream",
     "text": [
      "  |                                                  | 0 % ~calculating   |+++++++                                           | 12% ~00s           |+++++++++++++                                     | 25% ~00s           |+++++++++++++++++++                               | 38% ~00s           |+++++++++++++++++++++++++                         | 50% ~00s           |++++++++++++++++++++++++++++++++                  | 62% ~00s           |++++++++++++++++++++++++++++++++++++++            | 75% ~00s           |++++++++++++++++++++++++++++++++++++++++++++      | 88% ~00s           |++++++++++++++++++++++++++++++++++++++++++++++++++| 100% elapsed=00s  \n"
     ]
    },
    {
     "name": "stderr",
     "output_type": "stream",
     "text": [
      "R[write to console]: Calculating cluster Ext_L6B\n",
      "\n"
     ]
    },
    {
     "name": "stdout",
     "output_type": "stream",
     "text": [
      "  |                                                  | 0 % ~calculating   |+                                                 | 1 % ~01s           |++                                                | 3 % ~01s           |+++                                               | 4 % ~01s           |+++                                               | 6 % ~01s           |++++                                              | 7 % ~01s           |+++++                                             | 9 % ~01s           |++++++                                            | 10% ~01s           |++++++                                            | 12% ~01s           |+++++++                                           | 13% ~01s           |++++++++                                          | 15% ~01s           |+++++++++                                         | 16% ~01s           |+++++++++                                         | 18% ~01s           |++++++++++                                        | 19% ~01s           |+++++++++++                                       | 21% ~01s           |++++++++++++                                      | 22% ~01s           |++++++++++++                                      | 24% ~01s           |+++++++++++++                                     | 25% ~01s           |++++++++++++++                                    | 27% ~01s           |+++++++++++++++                                   | 28% ~01s           |+++++++++++++++                                   | 30% ~01s           |++++++++++++++++                                  | 31% ~01s           |+++++++++++++++++                                 | 33% ~01s           |++++++++++++++++++                                | 34% ~01s           |++++++++++++++++++                                | 36% ~01s           |+++++++++++++++++++                               | 37% ~01s           |++++++++++++++++++++                              | 39% ~01s           |+++++++++++++++++++++                             | 40% ~01s           |+++++++++++++++++++++                             | 42% ~01s           |++++++++++++++++++++++                            | 43% ~01s           |+++++++++++++++++++++++                           | 45% ~01s           |++++++++++++++++++++++++                          | 46% ~01s           |++++++++++++++++++++++++                          | 48% ~01s           |+++++++++++++++++++++++++                         | 49% ~01s           |++++++++++++++++++++++++++                        | 51% ~01s           |+++++++++++++++++++++++++++                       | 52% ~01s           |+++++++++++++++++++++++++++                       | 54% ~01s           |++++++++++++++++++++++++++++                      | 55% ~01s           |+++++++++++++++++++++++++++++                     | 57% ~01s           |++++++++++++++++++++++++++++++                    | 58% ~01s           |++++++++++++++++++++++++++++++                    | 60% ~00s           |+++++++++++++++++++++++++++++++                   | 61% ~00s           |++++++++++++++++++++++++++++++++                  | 63% ~00s           |+++++++++++++++++++++++++++++++++                 | 64% ~00s           |+++++++++++++++++++++++++++++++++                 | 66% ~00s           |++++++++++++++++++++++++++++++++++                | 67% ~00s           |+++++++++++++++++++++++++++++++++++               | 69% ~00s           |++++++++++++++++++++++++++++++++++++              | 70% ~00s           |++++++++++++++++++++++++++++++++++++              | 72% ~00s           |+++++++++++++++++++++++++++++++++++++             | 73% ~00s           |++++++++++++++++++++++++++++++++++++++            | 75% ~00s           |+++++++++++++++++++++++++++++++++++++++           | 76% ~00s           |+++++++++++++++++++++++++++++++++++++++           | 78% ~00s           |++++++++++++++++++++++++++++++++++++++++          | 79% ~00s           |+++++++++++++++++++++++++++++++++++++++++         | 81% ~00s           |++++++++++++++++++++++++++++++++++++++++++        | 82% ~00s           |++++++++++++++++++++++++++++++++++++++++++        | 84% ~00s           |+++++++++++++++++++++++++++++++++++++++++++       | 85% ~00s           |++++++++++++++++++++++++++++++++++++++++++++      | 87% ~00s           |+++++++++++++++++++++++++++++++++++++++++++++     | 88% ~00s           |+++++++++++++++++++++++++++++++++++++++++++++     | 90% ~00s           |++++++++++++++++++++++++++++++++++++++++++++++    | 91% ~00s           |+++++++++++++++++++++++++++++++++++++++++++++++   | 93% ~00s           |++++++++++++++++++++++++++++++++++++++++++++++++  | 94% ~00s           |++++++++++++++++++++++++++++++++++++++++++++++++  | 96% ~00s           |+++++++++++++++++++++++++++++++++++++++++++++++++ | 97% ~00s           |++++++++++++++++++++++++++++++++++++++++++++++++++| 99% ~00s           |++++++++++++++++++++++++++++++++++++++++++++++++++| 100% elapsed=01s  \n"
     ]
    },
    {
     "name": "stderr",
     "output_type": "stream",
     "text": [
      "R[write to console]: Calculating cluster Inh_Meis2_4\n",
      "\n"
     ]
    },
    {
     "name": "stdout",
     "output_type": "stream",
     "text": [
      "  |                                                  | 0 % ~calculating   |++                                                | 3 % ~00s           |++++                                              | 7 % ~01s           |+++++                                             | 10% ~00s           |+++++++                                           | 13% ~00s           |+++++++++                                         | 17% ~00s           |++++++++++                                        | 20% ~01s           |++++++++++++                                      | 23% ~01s           |++++++++++++++                                    | 27% ~00s           |+++++++++++++++                                   | 30% ~00s           |+++++++++++++++++                                 | 33% ~00s           |+++++++++++++++++++                               | 37% ~00s           |++++++++++++++++++++                              | 40% ~00s           |++++++++++++++++++++++                            | 43% ~00s           |++++++++++++++++++++++++                          | 47% ~00s           |+++++++++++++++++++++++++                         | 50% ~00s           |+++++++++++++++++++++++++++                       | 53% ~00s           |+++++++++++++++++++++++++++++                     | 57% ~00s           |++++++++++++++++++++++++++++++                    | 60% ~00s           |++++++++++++++++++++++++++++++++                  | 63% ~00s           |++++++++++++++++++++++++++++++++++                | 67% ~00s           |+++++++++++++++++++++++++++++++++++               | 70% ~00s           |+++++++++++++++++++++++++++++++++++++             | 73% ~00s           |+++++++++++++++++++++++++++++++++++++++           | 77% ~00s           |++++++++++++++++++++++++++++++++++++++++          | 80% ~00s           |++++++++++++++++++++++++++++++++++++++++++        | 83% ~00s           |++++++++++++++++++++++++++++++++++++++++++++      | 87% ~00s           |+++++++++++++++++++++++++++++++++++++++++++++     | 90% ~00s           |+++++++++++++++++++++++++++++++++++++++++++++++   | 93% ~00s           |+++++++++++++++++++++++++++++++++++++++++++++++++ | 97% ~00s           |++++++++++++++++++++++++++++++++++++++++++++++++++| 100% elapsed=01s  \n"
     ]
    },
    {
     "name": "stderr",
     "output_type": "stream",
     "text": [
      "R[write to console]: Calculating cluster Nb_2\n",
      "\n",
      "R[write to console]: Calculating cluster Nb_1\n",
      "\n",
      "R[write to console]: Calculating cluster Astro_4\n",
      "\n",
      "R[write to console]: Calculating gene variances\n",
      "R[write to console]: \n",
      "\n",
      "R[write to console]: 0%   10   20   30   40   50   60   70   80   90   100%\n",
      "\n",
      "R[write to console]: [----|----|----|----|----|----|----|----|----|----|\n",
      "\n",
      "R[write to console]: *\n",
      "R[write to console]: *\n",
      "R[write to console]: *\n",
      "R[write to console]: *\n",
      "R[write to console]: *\n",
      "R[write to console]: *\n",
      "R[write to console]: *\n",
      "R[write to console]: *\n",
      "R[write to console]: *\n",
      "R[write to console]: *\n",
      "R[write to console]: *\n",
      "R[write to console]: *\n",
      "R[write to console]: *\n",
      "R[write to console]: *\n",
      "R[write to console]: *\n",
      "R[write to console]: *\n",
      "R[write to console]: *\n",
      "R[write to console]: *\n",
      "R[write to console]: *\n",
      "R[write to console]: *\n",
      "R[write to console]: *\n",
      "R[write to console]: *\n",
      "R[write to console]: *\n",
      "R[write to console]: *\n",
      "R[write to console]: *\n",
      "R[write to console]: *\n",
      "R[write to console]: *\n",
      "R[write to console]: *\n",
      "R[write to console]: *\n",
      "R[write to console]: *\n",
      "R[write to console]: *\n",
      "R[write to console]: *\n",
      "R[write to console]: *\n",
      "R[write to console]: *\n",
      "R[write to console]: *\n",
      "R[write to console]: *\n",
      "R[write to console]: *\n",
      "R[write to console]: *\n",
      "R[write to console]: *\n",
      "R[write to console]: *\n",
      "R[write to console]: *\n",
      "R[write to console]: *\n",
      "R[write to console]: *\n",
      "R[write to console]: *\n",
      "R[write to console]: *\n",
      "R[write to console]: *\n",
      "R[write to console]: *\n",
      "R[write to console]: *\n",
      "R[write to console]: *\n",
      "R[write to console]: *\n",
      "R[write to console]: |\n",
      "\n",
      "R[write to console]: Calculating feature variances of standardized and clipped values\n",
      "R[write to console]: \n",
      "\n",
      "R[write to console]: 0%   10   20   30   40   50   60   70   80   90   100%\n",
      "\n",
      "R[write to console]: [----|----|----|----|----|----|----|----|----|----|\n",
      "\n",
      "R[write to console]: *\n",
      "R[write to console]: *\n",
      "R[write to console]: *\n",
      "R[write to console]: *\n",
      "R[write to console]: *\n",
      "R[write to console]: *\n",
      "R[write to console]: *\n",
      "R[write to console]: *\n",
      "R[write to console]: *\n",
      "R[write to console]: *\n",
      "R[write to console]: *\n",
      "R[write to console]: *\n",
      "R[write to console]: *\n",
      "R[write to console]: *\n",
      "R[write to console]: *\n",
      "R[write to console]: *\n",
      "R[write to console]: *\n",
      "R[write to console]: *\n",
      "R[write to console]: *\n",
      "R[write to console]: *\n",
      "R[write to console]: *\n",
      "R[write to console]: *\n",
      "R[write to console]: *\n",
      "R[write to console]: *\n",
      "R[write to console]: *\n",
      "R[write to console]: *\n",
      "R[write to console]: *\n",
      "R[write to console]: *\n",
      "R[write to console]: *\n",
      "R[write to console]: *\n",
      "R[write to console]: *\n",
      "R[write to console]: *\n",
      "R[write to console]: *\n",
      "R[write to console]: *\n",
      "R[write to console]: *\n",
      "R[write to console]: *\n",
      "R[write to console]: *\n",
      "R[write to console]: *\n",
      "R[write to console]: *\n",
      "R[write to console]: *\n",
      "R[write to console]: *\n",
      "R[write to console]: *\n",
      "R[write to console]: *\n",
      "R[write to console]: *\n",
      "R[write to console]: *\n",
      "R[write to console]: *\n",
      "R[write to console]: *\n",
      "R[write to console]: *\n",
      "R[write to console]: *\n",
      "R[write to console]: *\n",
      "R[write to console]: |\n",
      "\n"
     ]
    },
    {
     "name": "stdout",
     "output_type": "stream",
     "text": [
      "[1] \"Preparing Gene set\"\n",
      "[1] \"Normalizing count matrix\"\n",
      "[1] \"Seeding initial matrices\"\n",
      "[1] \"Training...\"\n",
      "[1] \"Time to train NMF model was 158.95mins\"\n",
      "[1] \"Deconvoluting spots\"\n",
      "  |======================================================================| 100%\n",
      "Time difference of 2.686802 hours\n"
     ]
    }
   ],
   "source": [
    "%%R\n",
    "start_time <- Sys.time()\n",
    "\n",
    "#### Extract the top marker genes from each cluster ####\n",
    "Seurat::Idents(object = seu_snrna_raw_X) <- seu_snrna_raw_X@meta.data$annotation_1\n",
    "cluster_markers_all <- Seurat::FindAllMarkers(object = seu_snrna_raw_X, \n",
    "                                              assay = \"RNA\",\n",
    "                                              slot = \"data\",\n",
    "                                              verbose = TRUE, \n",
    "                                              only.pos = TRUE, \n",
    "                                              logfc.threshold = 1,\n",
    "                                              min.pct = 0.9)\n",
    "\n",
    "library(SPOTlight)\n",
    "library(Seurat)\n",
    "library(dplyr)\n",
    "\n",
    "set.seed(123)\n",
    "spotlight_ls <- spotlight_deconvolution(se_sc = seu_snrna_raw_X,\n",
    "                                      counts_spatial = seu_vis_X@assays$RNA@counts,\n",
    "                                      clust_vr = \"annotation_1\",\n",
    "                                      cluster_markers = cluster_markers_all,\n",
    "                                      cl_n = 100, # 100 by default\n",
    "                                      hvg = 3000,\n",
    "                                      ntop = NULL,\n",
    "                                      transf = \"uv\",\n",
    "                                      method = \"nsNMF\",\n",
    "                                      min_cont = 0.09)\n",
    "\n",
    "saveRDS(object = spotlight_ls,\n",
    "        file = \"./dowsampled_spotlight_on_simulated_hvg3k.RDS\")\n",
    "\n",
    "end_time <- Sys.time()\n",
    "end_time - start_time"
   ]
  },
  {
   "cell_type": "code",
   "execution_count": 31,
   "metadata": {},
   "outputs": [],
   "source": [
    "spotlight_file = results_folder + f'seurat/dowsampled{downsampled_suff}_spotlight_3khvg_seed' + seed_numbers + '.csv'"
   ]
  },
  {
   "cell_type": "code",
   "execution_count": 32,
   "metadata": {},
   "outputs": [],
   "source": [
    "%%R -i spotlight_file\n",
    "decon_mtrx <- spotlight_ls[[2]]\n",
    "rownames(decon_mtrx) = colnames(seu_vis_X)\n",
    "\n",
    "library(data.table)\n",
    "decon_df = as.data.table(decon_mtrx, keep.rownames=TRUE)\n",
    "fwrite(decon_df, spotlight_file)"
   ]
  },
  {
   "cell_type": "code",
   "execution_count": null,
   "metadata": {},
   "outputs": [],
   "source": []
  }
 ],
 "metadata": {
  "kernelspec": {
   "display_name": "Python (cellpymcr)",
   "language": "python",
   "name": "cellpymcr"
  },
  "language_info": {
   "codemirror_mode": {
    "name": "ipython",
    "version": 3
   },
   "file_extension": ".py",
   "mimetype": "text/x-python",
   "name": "python",
   "nbconvert_exporter": "python",
   "pygments_lexer": "ipython3",
   "version": "3.7.6"
  }
 },
 "nbformat": 4,
 "nbformat_minor": 4
}
