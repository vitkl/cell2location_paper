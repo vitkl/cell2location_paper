{
 "cells": [
  {
   "cell_type": "markdown",
   "metadata": {},
   "source": [
    "## Contents:\n",
    "* [Loading packages](#Loading_packages)\n",
    "* [Reading cell2location model output](#read)\n",
    "\n",
    "\n",
    "* [Running factorisation to identify groups of co-located cell types / tissue compartments](#factorisation)\n",
    "* [Running factorisation including the composition of neighbouring spots](#factorisation_with_neighbours)"
   ]
  },
  {
   "cell_type": "markdown",
   "metadata": {},
   "source": [
    "### Loading packages <a class=\"anchor\" id=\"Loading_packages\"></a>"
   ]
  },
  {
   "cell_type": "code",
   "execution_count": 1,
   "metadata": {},
   "outputs": [
    {
     "name": "stdout",
     "output_type": "stream",
     "text": [
      "Populating the interactive namespace from numpy and matplotlib\n"
     ]
    },
    {
     "name": "stderr",
     "output_type": "stream",
     "text": [
      "WARNING (theano.tensor.blas): Using NumPy C-API based implementation for BLAS functions.\n",
      "/nfs/users/nfs_v/vk7/.local/lib/python3.7/site-packages/theano/gpuarray/dnn.py:184: UserWarning: Your cuDNN version is more recent than Theano. If you encounter problems, try updating Theano or downgrading cuDNN to a version >= v5 and <= v7.\n",
      "  warnings.warn(\"Your cuDNN version is more recent than \"\n",
      "Using cuDNN version 7605 on context None\n",
      "Mapped name None to device cuda: Tesla V100-SXM2-32GB (0000:62:00.0)\n"
     ]
    }
   ],
   "source": [
    "# Import modules and packages:\n",
    "%pylab inline\n",
    "import pandas as pd\n",
    "import sys, ast, os\n",
    "rcParams['axes.spines.right'] = False\n",
    "rcParams['axes.spines.top'] = False\n",
    "import pickle as pickle\n",
    "import numpy as np\n",
    "import time\n",
    "import itertools\n",
    "data_type = 'float32'\n",
    "\n",
    "os.environ[\"THEANO_FLAGS\"] = 'device=cuda,floatX=' + data_type + ',force_device=True'\n",
    "sys.path.insert(1, '/nfs/team205/vk7/sanger_projects/cell2location/')\n",
    "sys.path.insert(1, '/nfs/team205/vk7/sanger_projects/BayraktarLab/cell2location/')\n",
    "\n",
    "%matplotlib inline\n",
    "import seaborn as sns\n",
    "import matplotlib.pyplot as plt\n",
    "import warnings\n",
    "import os\n",
    "import cell2location.models as c2l\n",
    "import anndata\n",
    "import scanpy as sc\n",
    "\n",
    "from matplotlib import rcParams\n",
    "rcParams['pdf.fonttype'] = 42 # enables correct plotting of text"
   ]
  },
  {
   "cell_type": "markdown",
   "metadata": {},
   "source": [
    "### Reading cell2location model output <a class=\"anchor\" id=\"read\"></a>"
   ]
  },
  {
   "cell_type": "code",
   "execution_count": 2,
   "metadata": {},
   "outputs": [
    {
     "name": "stderr",
     "output_type": "stream",
     "text": [
      "Variable names are not unique. To make them unique, call `.var_names_make_unique`.\n"
     ]
    }
   ],
   "source": [
    "# read cell2location model results\n",
    "c2l_results_folder = '/nfs/team205/vk7/sanger_projects/cell2location_paper/notebooks/results/visium_human_ln/'\n",
    "results_folder = '/nfs/team205/vk7/sanger_projects/cell2location_paper/notebooks/selected_results/benchmarking/lymph_nodes_analysis/'\n",
    "\n",
    "run_name = 'CoLocationModelNB4V2_34clusters_4039locations_10241genes_input_inferred_V4_batch1024_l2_0001_n_comb50_5_cps5_fpc3_alpha001'\n",
    "\n",
    "sp_data_file = c2l_results_folder + 'std_model/'+run_name+'/sp_with_clusters.h5ad'\n",
    "adata_vis = anndata.read(sp_data_file)\n",
    "adata_vis.obs['sample'] = list(adata_vis.uns['spatial'].keys())[0]"
   ]
  },
  {
   "cell_type": "code",
   "execution_count": 3,
   "metadata": {},
   "outputs": [
    {
     "name": "stderr",
     "output_type": "stream",
     "text": [
      "/nfs/team283/vk7/software/miniconda3farm5/envs/cellpymcr/lib/python3.7/site-packages/anndata/_core/anndata.py:1094: FutureWarning: is_categorical is deprecated and will be removed in a future version.  Use is_categorical_dtype instead\n",
      "Trying to set attribute `.obs` of view, copying.\n",
      "Variable names are not unique. To make them unique, call `.var_names_make_unique`.\n",
      "Variable names are not unique. To make them unique, call `.var_names_make_unique`.\n"
     ]
    }
   ],
   "source": [
    "RCTD = pd.read_csv(f'{results_folder}rctd/results_weights_59clusters_2128genes_6156genes.csv',\n",
    "                   index_col='spot')\n",
    "RCTD.columns = [f'q05_spot_factors{i}' for i in RCTD.columns]\n",
    "# compute cell proportions\n",
    "RCTD = (RCTD.T / RCTD.sum(1)).T\n",
    "\n",
    "adata_vis = adata_vis[adata_vis.obs_names.isin(RCTD.index),:]\n",
    "adata_vis.obs[RCTD.columns] = RCTD.loc[adata_vis.obs_names,:].values\n",
    "\n",
    "# path for saving figures\n",
    "fig_path = f'{results_folder}plots/figures/'\n",
    "sc_figpath = sc.settings.figdir\n",
    "sc.settings.figdir = f'{fig_path}'"
   ]
  },
  {
   "cell_type": "markdown",
   "metadata": {},
   "source": [
    "### Running factorisation to identify groups of co-located cell types / tissue compartments <a class=\"anchor\" id=\"factorisation\"></a>"
   ]
  },
  {
   "cell_type": "code",
   "execution_count": 4,
   "metadata": {},
   "outputs": [
    {
     "data": {
      "text/plain": [
       "((4037, 34), (4039, 34), 4037)"
      ]
     },
     "execution_count": 4,
     "metadata": {},
     "output_type": "execute_result"
    }
   ],
   "source": [
    "from re import sub\n",
    "RCTD_copy = RCTD.copy()\n",
    "RCTD_copy.columns = [sub('q05_spot_factors', '', i) for i in RCTD.loc[adata_vis.obs_names,:].columns]\n",
    "adata_vis.uns['mod']['post_sample_q05']['spot_factors'] = RCTD_copy[adata_vis.uns['mod']['fact_names']].values\n",
    "adata_vis.uns['mod']['obs_names'] = list(adata_vis.obs_names)\n",
    "\n",
    "adata_vis.uns['mod']['post_sample_q05']['spot_factors'].shape, \\\n",
    "adata_vis.uns['mod']['post_sample_means']['spot_factors'].shape, \\\n",
    "len(adata_vis.obs_names)"
   ]
  },
  {
   "cell_type": "code",
   "execution_count": 5,
   "metadata": {},
   "outputs": [
    {
     "name": "stderr",
     "output_type": "stream",
     "text": [
      "Variable names are not unique. To make them unique, call `.var_names_make_unique`.\n"
     ]
    },
    {
     "name": "stdout",
     "output_type": "stream",
     "text": [
      "### Analysis name: CoLocatedGroupsSklearnNMF_11combinations_4037locations_34factorstol0.0001\n"
     ]
    },
    {
     "name": "stderr",
     "output_type": "stream",
     "text": [
      "/nfs/team283/vk7/software/miniconda3farm5/envs/cellpymcr/lib/python3.7/site-packages/anndata/_core/anndata.py:1094: FutureWarning: is_categorical is deprecated and will be removed in a future version.  Use is_categorical_dtype instead\n",
      "/nfs/team283/vk7/software/miniconda3farm5/envs/cellpymcr/lib/python3.7/site-packages/anndata/_core/anndata.py:1192: FutureWarning: is_categorical is deprecated and will be removed in a future version.  Use is_categorical_dtype instead\n",
      "/nfs/team283/vk7/software/miniconda3farm5/envs/cellpymcr/lib/python3.7/site-packages/anndata/_core/anndata.py:1210: ImplicitModificationWarning: Initializing view as actual.\n",
      "Trying to set attribute `.obs` of view, copying.\n",
      "Variable names are not unique. To make them unique, call `.var_names_make_unique`.\n",
      "Variable names are not unique. To make them unique, call `.var_names_make_unique`.\n",
      "... storing 'sample' as categorical\n"
     ]
    },
    {
     "name": "stdout",
     "output_type": "stream",
     "text": [
      "WARNING: saving figure to file /nfs/team205/vk7/sanger_projects/cell2location_paper/notebooks/selected_results/benchmarking/lymph_nodes_analysis/rctd/CoLocatedComb_2128genes_6156genes/CoLocatedGroupsSklearnNMF_4037locations_34factorstol0.0001/spatial/spatialcell_density_mean_n_fact11_sV1_Human_Lymph_Node_p99.2.pdf\n",
      "### Analysis name: CoLocatedGroupsSklearnNMF_12combinations_4037locations_34factorstol0.0001\n"
     ]
    },
    {
     "name": "stderr",
     "output_type": "stream",
     "text": [
      "/nfs/team283/vk7/software/miniconda3farm5/envs/cellpymcr/lib/python3.7/site-packages/anndata/_core/anndata.py:1094: FutureWarning: is_categorical is deprecated and will be removed in a future version.  Use is_categorical_dtype instead\n",
      "/nfs/team283/vk7/software/miniconda3farm5/envs/cellpymcr/lib/python3.7/site-packages/anndata/_core/anndata.py:1192: FutureWarning: is_categorical is deprecated and will be removed in a future version.  Use is_categorical_dtype instead\n",
      "/nfs/team283/vk7/software/miniconda3farm5/envs/cellpymcr/lib/python3.7/site-packages/anndata/_core/anndata.py:1210: ImplicitModificationWarning: Initializing view as actual.\n",
      "Trying to set attribute `.obs` of view, copying.\n",
      "Variable names are not unique. To make them unique, call `.var_names_make_unique`.\n",
      "Variable names are not unique. To make them unique, call `.var_names_make_unique`.\n",
      "... storing 'sample' as categorical\n"
     ]
    },
    {
     "name": "stdout",
     "output_type": "stream",
     "text": [
      "WARNING: saving figure to file /nfs/team205/vk7/sanger_projects/cell2location_paper/notebooks/selected_results/benchmarking/lymph_nodes_analysis/rctd/CoLocatedComb_2128genes_6156genes/CoLocatedGroupsSklearnNMF_4037locations_34factorstol0.0001/spatial/spatialcell_density_mean_n_fact12_sV1_Human_Lymph_Node_p99.2.pdf\n",
      "### Analysis name: CoLocatedGroupsSklearnNMF_13combinations_4037locations_34factorstol0.0001\n"
     ]
    },
    {
     "name": "stderr",
     "output_type": "stream",
     "text": [
      "/nfs/team283/vk7/software/miniconda3farm5/envs/cellpymcr/lib/python3.7/site-packages/anndata/_core/anndata.py:1094: FutureWarning: is_categorical is deprecated and will be removed in a future version.  Use is_categorical_dtype instead\n",
      "/nfs/team283/vk7/software/miniconda3farm5/envs/cellpymcr/lib/python3.7/site-packages/anndata/_core/anndata.py:1192: FutureWarning: is_categorical is deprecated and will be removed in a future version.  Use is_categorical_dtype instead\n",
      "/nfs/team283/vk7/software/miniconda3farm5/envs/cellpymcr/lib/python3.7/site-packages/anndata/_core/anndata.py:1210: ImplicitModificationWarning: Initializing view as actual.\n",
      "Trying to set attribute `.obs` of view, copying.\n",
      "Variable names are not unique. To make them unique, call `.var_names_make_unique`.\n",
      "Variable names are not unique. To make them unique, call `.var_names_make_unique`.\n",
      "... storing 'sample' as categorical\n"
     ]
    },
    {
     "name": "stdout",
     "output_type": "stream",
     "text": [
      "WARNING: saving figure to file /nfs/team205/vk7/sanger_projects/cell2location_paper/notebooks/selected_results/benchmarking/lymph_nodes_analysis/rctd/CoLocatedComb_2128genes_6156genes/CoLocatedGroupsSklearnNMF_4037locations_34factorstol0.0001/spatial/spatialcell_density_mean_n_fact13_sV1_Human_Lymph_Node_p99.2.pdf\n",
      "### Analysis name: CoLocatedGroupsSklearnNMF_14combinations_4037locations_34factorstol0.0001\n"
     ]
    },
    {
     "name": "stderr",
     "output_type": "stream",
     "text": [
      "/nfs/team283/vk7/software/miniconda3farm5/envs/cellpymcr/lib/python3.7/site-packages/anndata/_core/anndata.py:1094: FutureWarning: is_categorical is deprecated and will be removed in a future version.  Use is_categorical_dtype instead\n",
      "/nfs/team283/vk7/software/miniconda3farm5/envs/cellpymcr/lib/python3.7/site-packages/anndata/_core/anndata.py:1192: FutureWarning: is_categorical is deprecated and will be removed in a future version.  Use is_categorical_dtype instead\n",
      "/nfs/team283/vk7/software/miniconda3farm5/envs/cellpymcr/lib/python3.7/site-packages/anndata/_core/anndata.py:1210: ImplicitModificationWarning: Initializing view as actual.\n",
      "Trying to set attribute `.obs` of view, copying.\n",
      "Variable names are not unique. To make them unique, call `.var_names_make_unique`.\n",
      "Variable names are not unique. To make them unique, call `.var_names_make_unique`.\n",
      "... storing 'sample' as categorical\n"
     ]
    },
    {
     "name": "stdout",
     "output_type": "stream",
     "text": [
      "WARNING: saving figure to file /nfs/team205/vk7/sanger_projects/cell2location_paper/notebooks/selected_results/benchmarking/lymph_nodes_analysis/rctd/CoLocatedComb_2128genes_6156genes/CoLocatedGroupsSklearnNMF_4037locations_34factorstol0.0001/spatial/spatialcell_density_mean_n_fact14_sV1_Human_Lymph_Node_p99.2.pdf\n",
      "### Analysis name: CoLocatedGroupsSklearnNMF_15combinations_4037locations_34factorstol0.0001\n"
     ]
    },
    {
     "name": "stderr",
     "output_type": "stream",
     "text": [
      "/nfs/team283/vk7/software/miniconda3farm5/envs/cellpymcr/lib/python3.7/site-packages/anndata/_core/anndata.py:1094: FutureWarning: is_categorical is deprecated and will be removed in a future version.  Use is_categorical_dtype instead\n",
      "/nfs/team283/vk7/software/miniconda3farm5/envs/cellpymcr/lib/python3.7/site-packages/anndata/_core/anndata.py:1192: FutureWarning: is_categorical is deprecated and will be removed in a future version.  Use is_categorical_dtype instead\n",
      "/nfs/team283/vk7/software/miniconda3farm5/envs/cellpymcr/lib/python3.7/site-packages/anndata/_core/anndata.py:1210: ImplicitModificationWarning: Initializing view as actual.\n",
      "Trying to set attribute `.obs` of view, copying.\n",
      "Variable names are not unique. To make them unique, call `.var_names_make_unique`.\n",
      "Variable names are not unique. To make them unique, call `.var_names_make_unique`.\n",
      "... storing 'sample' as categorical\n"
     ]
    },
    {
     "name": "stdout",
     "output_type": "stream",
     "text": [
      "WARNING: saving figure to file /nfs/team205/vk7/sanger_projects/cell2location_paper/notebooks/selected_results/benchmarking/lymph_nodes_analysis/rctd/CoLocatedComb_2128genes_6156genes/CoLocatedGroupsSklearnNMF_4037locations_34factorstol0.0001/spatial/spatialcell_density_mean_n_fact15_sV1_Human_Lymph_Node_p99.2.pdf\n"
     ]
    },
    {
     "name": "stderr",
     "output_type": "stream",
     "text": [
      "/nfs/team283/vk7/software/miniconda3farm5/envs/cellpymcr/lib/python3.7/site-packages/anndata/_core/anndata.py:1192: FutureWarning: is_categorical is deprecated and will be removed in a future version.  Use is_categorical_dtype instead\n",
      "... storing 'sample' as categorical\n"
     ]
    }
   ],
   "source": [
    "from cell2location import run_colocation\n",
    "res_dict, sp_data = run_colocation(\n",
    "                   adata_vis, model_name='CoLocatedGroupsSklearnNMF',\n",
    "                   verbose=False, return_all=True,\n",
    "    \n",
    "                   train_args={'n_fact': np.arange(11, 16), 'n_iter': 20000,\n",
    "                    'sample_name_col': 'sample',\n",
    "                    'mode': 'normal', 'n_type': 'restart', 'n_restarts': 5},\n",
    "    \n",
    "                   model_kwargs={'init': 'random', 'random_state': 0, 'nmf_kwd_args': {'tol': 0.0001}},\n",
    "    \n",
    "                   posterior_args={},\n",
    "                   export_args={'path': results_folder+'rctd/CoLocatedComb_2128genes_6156genes/',\n",
    "                                'run_name_suffix': 'tol0.0001'})"
   ]
  },
  {
   "cell_type": "markdown",
   "metadata": {},
   "source": [
    "### Plot locations of all cell types <a class=\"anchor\" id=\"Fig3E\"></a> "
   ]
  },
  {
   "cell_type": "code",
   "execution_count": 7,
   "metadata": {},
   "outputs": [
    {
     "data": {
      "text/plain": [
       "array(['B_Cycling', 'B_GC_DZ', 'B_GC_LZ', 'B_GC_prePB', 'B_IFN',\n",
       "       'B_activated', 'B_mem', 'B_naive', 'B_plasma', 'B_preGC',\n",
       "       'DC_CCR7+', 'DC_cDC1', 'DC_cDC2', 'DC_pDC', 'Endo', 'FDC', 'ILC',\n",
       "       'Macrophages_M1', 'Macrophages_M2', 'Mast', 'Monocytes', 'NK',\n",
       "       'NKT', 'T_CD4+', 'T_CD4+_TfH', 'T_CD4+_TfH_GC', 'T_CD4+_naive',\n",
       "       'T_CD8+_CD161+', 'T_CD8+_cytotoxic', 'T_CD8+_naive', 'T_TIM3+',\n",
       "       'T_TfR', 'T_Treg', 'VSMC'], dtype=object)"
      ]
     },
     "execution_count": 7,
     "metadata": {},
     "output_type": "execute_result"
    }
   ],
   "source": [
    "# making copy to transform to assign nice names\n",
    "clust_names_orig = ['q05_spot_factors' + i for i in adata_vis.uns['mod']['fact_names']]\n",
    "clust_names = adata_vis.uns['mod']['fact_names']\n",
    "adata_vis.obs[clust_names] = (adata_vis.obs[clust_names_orig])\n",
    "\n",
    "clust_names"
   ]
  },
  {
   "cell_type": "code",
   "execution_count": 9,
   "metadata": {},
   "outputs": [
    {
     "name": "stderr",
     "output_type": "stream",
     "text": [
      "/nfs/team283/vk7/software/miniconda3farm5/envs/cellpymcr/lib/python3.7/site-packages/anndata/_core/anndata.py:1192: FutureWarning: is_categorical is deprecated and will be removed in a future version.  Use is_categorical_dtype instead\n",
      "... storing 'sample' as categorical\n"
     ]
    },
    {
     "name": "stdout",
     "output_type": "stream",
     "text": [
      "WARNING: saving figure to file /nfs/team205/vk7/sanger_projects/cell2location_paper/notebooks/selected_results/benchmarking/lymph_nodes_analysis/plots/figures/spatialall_maps_dot_2128genes_6156genes.png\n"
     ]
    }
   ],
   "source": [
    "ct_list=clust_names.copy()\n",
    "\n",
    "fig_path = f'{results_folder}plots/figures/'\n",
    "sc_figpath = sc.settings.figdir\n",
    "sc.settings.figdir = f'{fig_path}'\n",
    "with matplotlib.rc_context({'axes.facecolor':  'black',\n",
    "                            'figure.figsize': [10, 10]}):\n",
    "                \n",
    "    sc.pl.spatial(adata_vis, cmap='magma',\n",
    "                    color=ct_list, ncols=5, show=False,\n",
    "                    #library_id=s,\n",
    "                    size=1.3, img_key='hires', alpha_img=0.9, alpha=1,\n",
    "                    frameon=True, legend_fontsize=50,\n",
    "                    vmin=0, vmax='p98', save=f'all_maps_dot_2128genes_6156genes.png'\n",
    "                 )"
   ]
  },
  {
   "cell_type": "code",
   "execution_count": null,
   "metadata": {},
   "outputs": [],
   "source": []
  }
 ],
 "metadata": {
  "kernelspec": {
   "display_name": "Python (cellpymcr)",
   "language": "python",
   "name": "cellpymcr"
  },
  "language_info": {
   "codemirror_mode": {
    "name": "ipython",
    "version": 3
   },
   "file_extension": ".py",
   "mimetype": "text/x-python",
   "name": "python",
   "nbconvert_exporter": "python",
   "pygments_lexer": "ipython3",
   "version": "3.7.6"
  }
 },
 "nbformat": 4,
 "nbformat_minor": 4
}
