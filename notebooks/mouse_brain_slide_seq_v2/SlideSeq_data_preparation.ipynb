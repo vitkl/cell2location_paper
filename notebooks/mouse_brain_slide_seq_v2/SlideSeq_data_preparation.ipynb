{
 "cells": [
  {
   "cell_type": "code",
   "execution_count": 5,
   "metadata": {},
   "outputs": [
    {
     "name": "stdout",
     "output_type": "stream",
     "text": [
      "Populating the interactive namespace from numpy and matplotlib\n"
     ]
    }
   ],
   "source": [
    "from glob import glob\n",
    "\n",
    "import pandas as pd\n",
    "import plotnine as p\n",
    "from tqdm import tqdm\n",
    "import anndata"
   ]
  },
  {
   "cell_type": "markdown",
   "metadata": {},
   "source": [
    "### Data source\n",
    "Slide-Seq V2 data of the mouse brain originating from the region containing the hippocampus, partial cortex and thalamus, was downloaded from the data portal for Stickels, Murray et al\n",
    "\n",
    "https://singlecell.broadinstitute.org/single_cell/study/SCP815/sensitive-spatial-genome-wide-expression-profiling-at-cellular-resolution#study-download"
   ]
  },
  {
   "cell_type": "code",
   "execution_count": 6,
   "metadata": {},
   "outputs": [],
   "source": [
    "data = ['../Puck_190921_21.digital_expression.txt.gz',\n",
    "        '../Puck_191204_01.digital_expression.txt.gz',\n",
    "        '../Puck_200115_08.digital_expression.txt.gz']"
   ]
  },
  {
   "cell_type": "code",
   "execution_count": 7,
   "metadata": {},
   "outputs": [
    {
     "name": "stderr",
     "output_type": "stream",
     "text": [
      " 67%|██████▋   | 2/3 [00:00<00:00,  8.64it/s]"
     ]
    },
    {
     "name": "stdout",
     "output_type": "stream",
     "text": [
      "../Puck_190921_21.digital_expression.h5ad\n",
      "../Puck_191204_01.digital_expression.h5ad\n",
      "../Puck_200115_08.digital_expression.h5ad\n"
     ]
    },
    {
     "name": "stderr",
     "output_type": "stream",
     "text": [
      "100%|██████████| 3/3 [00:00<00:00,  5.54it/s]\n"
     ]
    }
   ],
   "source": [
    "adatas = []\n",
    "\n",
    "\n",
    "for fname in tqdm(glob('../Puck_*.h5ad')):\n",
    "    print(fname)\n",
    "    adata = anndata.read(fname)\n",
    "    obs = pd.read_csv(fname.replace('.digital_expression.h5ad', '_bead_locations.csv'), index_col=0)\n",
    "\n",
    "    adata.obs['xcoord'] = obs['xcoord']\n",
    "    adata.obs['ycoord'] = obs['ycoord']\n",
    "\n",
    "    adatas.append(adata)"
   ]
  },
  {
   "cell_type": "code",
   "execution_count": 8,
   "metadata": {},
   "outputs": [],
   "source": [
    "all_data = adatas[0].concatenate(adatas[1:], join='outer')"
   ]
  },
  {
   "cell_type": "code",
   "execution_count": 9,
   "metadata": {},
   "outputs": [
    {
     "data": {
      "text/plain": [
       "AnnData object with n_obs × n_vars = 107550 × 24582\n",
       "    obs: 'filename', 'xcoord', 'ycoord', 'batch'"
      ]
     },
     "execution_count": 9,
     "metadata": {},
     "output_type": "execute_result"
    }
   ],
   "source": [
    "all_data"
   ]
  },
  {
   "cell_type": "code",
   "execution_count": 10,
   "metadata": {},
   "outputs": [
    {
     "data": {
      "text/html": [
       "<div>\n",
       "<style scoped>\n",
       "    .dataframe tbody tr th:only-of-type {\n",
       "        vertical-align: middle;\n",
       "    }\n",
       "\n",
       "    .dataframe tbody tr th {\n",
       "        vertical-align: top;\n",
       "    }\n",
       "\n",
       "    .dataframe thead th {\n",
       "        text-align: right;\n",
       "    }\n",
       "</style>\n",
       "<table border=\"1\" class=\"dataframe\">\n",
       "  <thead>\n",
       "    <tr style=\"text-align: right;\">\n",
       "      <th></th>\n",
       "      <th>filename</th>\n",
       "      <th>xcoord</th>\n",
       "      <th>ycoord</th>\n",
       "      <th>batch</th>\n",
       "    </tr>\n",
       "  </thead>\n",
       "  <tbody>\n",
       "    <tr>\n",
       "      <th>RGBOGBGRRRORRB-0</th>\n",
       "      <td>../Puck_190921_21.digital_expression.txt.gz</td>\n",
       "      <td>5006.6</td>\n",
       "      <td>3019.8</td>\n",
       "      <td>0</td>\n",
       "    </tr>\n",
       "    <tr>\n",
       "      <th>ROOBOGBBRBBGRR-0</th>\n",
       "      <td>../Puck_190921_21.digital_expression.txt.gz</td>\n",
       "      <td>5182.7</td>\n",
       "      <td>2194.0</td>\n",
       "      <td>0</td>\n",
       "    </tr>\n",
       "    <tr>\n",
       "      <th>BRBROROGORRBGR-0</th>\n",
       "      <td>../Puck_190921_21.digital_expression.txt.gz</td>\n",
       "      <td>3258.8</td>\n",
       "      <td>5555.6</td>\n",
       "      <td>0</td>\n",
       "    </tr>\n",
       "    <tr>\n",
       "      <th>RGOGBRGROBGGBG-0</th>\n",
       "      <td>../Puck_190921_21.digital_expression.txt.gz</td>\n",
       "      <td>4633.1</td>\n",
       "      <td>4714.2</td>\n",
       "      <td>0</td>\n",
       "    </tr>\n",
       "    <tr>\n",
       "      <th>GGROBBGGRGGGBG-0</th>\n",
       "      <td>../Puck_190921_21.digital_expression.txt.gz</td>\n",
       "      <td>4655.2</td>\n",
       "      <td>3735.0</td>\n",
       "      <td>0</td>\n",
       "    </tr>\n",
       "    <tr>\n",
       "      <th>...</th>\n",
       "      <td>...</td>\n",
       "      <td>...</td>\n",
       "      <td>...</td>\n",
       "      <td>...</td>\n",
       "    </tr>\n",
       "    <tr>\n",
       "      <th>ACAATACAGATACT-2</th>\n",
       "      <td>../Puck_200115_08.digital_expression.txt.gz</td>\n",
       "      <td>3025.5</td>\n",
       "      <td>5516.0</td>\n",
       "      <td>2</td>\n",
       "    </tr>\n",
       "    <tr>\n",
       "      <th>GGTCAGGTTAACGT-2</th>\n",
       "      <td>../Puck_200115_08.digital_expression.txt.gz</td>\n",
       "      <td>3069.7</td>\n",
       "      <td>3211.9</td>\n",
       "      <td>2</td>\n",
       "    </tr>\n",
       "    <tr>\n",
       "      <th>CATTATGGAATTCT-2</th>\n",
       "      <td>../Puck_200115_08.digital_expression.txt.gz</td>\n",
       "      <td>3507.1</td>\n",
       "      <td>2811.0</td>\n",
       "      <td>2</td>\n",
       "    </tr>\n",
       "    <tr>\n",
       "      <th>GACTTTTCTTAAAG-2</th>\n",
       "      <td>../Puck_200115_08.digital_expression.txt.gz</td>\n",
       "      <td>2155.0</td>\n",
       "      <td>1264.3</td>\n",
       "      <td>2</td>\n",
       "    </tr>\n",
       "    <tr>\n",
       "      <th>GTCAATAAAGGGCG-2</th>\n",
       "      <td>../Puck_200115_08.digital_expression.txt.gz</td>\n",
       "      <td>4819.7</td>\n",
       "      <td>2476.7</td>\n",
       "      <td>2</td>\n",
       "    </tr>\n",
       "  </tbody>\n",
       "</table>\n",
       "<p>107550 rows × 4 columns</p>\n",
       "</div>"
      ],
      "text/plain": [
       "                                                     filename  xcoord  ycoord  \\\n",
       "RGBOGBGRRRORRB-0  ../Puck_190921_21.digital_expression.txt.gz  5006.6  3019.8   \n",
       "ROOBOGBBRBBGRR-0  ../Puck_190921_21.digital_expression.txt.gz  5182.7  2194.0   \n",
       "BRBROROGORRBGR-0  ../Puck_190921_21.digital_expression.txt.gz  3258.8  5555.6   \n",
       "RGOGBRGROBGGBG-0  ../Puck_190921_21.digital_expression.txt.gz  4633.1  4714.2   \n",
       "GGROBBGGRGGGBG-0  ../Puck_190921_21.digital_expression.txt.gz  4655.2  3735.0   \n",
       "...                                                       ...     ...     ...   \n",
       "ACAATACAGATACT-2  ../Puck_200115_08.digital_expression.txt.gz  3025.5  5516.0   \n",
       "GGTCAGGTTAACGT-2  ../Puck_200115_08.digital_expression.txt.gz  3069.7  3211.9   \n",
       "CATTATGGAATTCT-2  ../Puck_200115_08.digital_expression.txt.gz  3507.1  2811.0   \n",
       "GACTTTTCTTAAAG-2  ../Puck_200115_08.digital_expression.txt.gz  2155.0  1264.3   \n",
       "GTCAATAAAGGGCG-2  ../Puck_200115_08.digital_expression.txt.gz  4819.7  2476.7   \n",
       "\n",
       "                 batch  \n",
       "RGBOGBGRRRORRB-0     0  \n",
       "ROOBOGBBRBBGRR-0     0  \n",
       "BRBROROGORRBGR-0     0  \n",
       "RGOGBRGROBGGBG-0     0  \n",
       "GGROBBGGRGGGBG-0     0  \n",
       "...                ...  \n",
       "ACAATACAGATACT-2     2  \n",
       "GGTCAGGTTAACGT-2     2  \n",
       "CATTATGGAATTCT-2     2  \n",
       "GACTTTTCTTAAAG-2     2  \n",
       "GTCAATAAAGGGCG-2     2  \n",
       "\n",
       "[107550 rows x 4 columns]"
      ]
     },
     "execution_count": 10,
     "metadata": {},
     "output_type": "execute_result"
    }
   ],
   "source": [
    "all_data.obs"
   ]
  },
  {
   "cell_type": "code",
   "execution_count": 11,
   "metadata": {},
   "outputs": [],
   "source": [
    "tissue = {\n",
    "    'Puck_190921_19': 'mouse E15 brain',\n",
    "    'Puck_190921_21': 'mouse hippocampus',\n",
    "    'Puck_190926_01': 'unknown',\n",
    "    'Puck_190926_02': 'unknown',\n",
    "    'Puck_190926_03': 'mouse embryo Slide-seqV2',\n",
    "    'Puck_190926_06': 'unknown',\n",
    "    'Puck_191007_07': 'unknown',\n",
    "    'Puck_191204_01': 'mouse hippocampus',\n",
    "    'Puck_200115_08': 'mouse hippocampus'\n",
    "}"
   ]
  },
  {
   "cell_type": "code",
   "execution_count": 12,
   "metadata": {},
   "outputs": [],
   "source": [
    "all_data.obs['tissue'] = all_data.obs['filename'].str.split('.').str.get(0).map(tissue)"
   ]
  },
  {
   "cell_type": "code",
   "execution_count": 13,
   "metadata": {},
   "outputs": [
    {
     "data": {
      "text/plain": [
       "AnnData object with n_obs × n_vars = 107550 × 24582\n",
       "    obs: 'filename', 'xcoord', 'ycoord', 'batch', 'tissue'"
      ]
     },
     "execution_count": 13,
     "metadata": {},
     "output_type": "execute_result"
    }
   ],
   "source": [
    "all_data"
   ]
  },
  {
   "cell_type": "code",
   "execution_count": 14,
   "metadata": {},
   "outputs": [
    {
     "name": "stderr",
     "output_type": "stream",
     "text": [
      "... storing 'filename' as categorical\n",
      "... storing 'tissue' as categorical\n"
     ]
    }
   ],
   "source": [
    "all_data.write('stickels_et_al_2020_slide_seqV2.h5ad')"
   ]
  }
 ],
 "metadata": {
  "kernelspec": {
   "display_name": "Python [conda env:cellpymc]",
   "language": "python",
   "name": "conda-env-cellpymc-py"
  },
  "language_info": {
   "codemirror_mode": {
    "name": "ipython",
    "version": 3
   },
   "file_extension": ".py",
   "mimetype": "text/x-python",
   "name": "python",
   "nbconvert_exporter": "python",
   "pygments_lexer": "ipython3",
   "version": "3.7.8"
  }
 },
 "nbformat": 4,
 "nbformat_minor": 4
}
