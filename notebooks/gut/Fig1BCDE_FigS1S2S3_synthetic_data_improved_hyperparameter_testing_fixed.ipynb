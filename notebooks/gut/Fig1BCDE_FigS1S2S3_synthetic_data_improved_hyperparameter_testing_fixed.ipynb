{
 "cells": [
  {
   "cell_type": "markdown",
   "metadata": {},
   "source": [
    "# Benchmarking models at locating spatial expression of cell types with scRNA-seq reference and Visium spatial (mouse brain)"
   ]
  },
  {
   "cell_type": "code",
   "execution_count": 1,
   "metadata": {},
   "outputs": [
    {
     "name": "stderr",
     "output_type": "stream",
     "text": [
      "/nfs/team283/vk7/software/miniconda3farm5/envs/pyro160/lib/python3.7/site-packages/ipykernel_launcher.py:17: TqdmExperimentalWarning: Using `tqdm.autonotebook.tqdm` in notebook mode. Use `tqdm.tqdm` instead to force console mode (e.g. in jupyter console)\n"
     ]
    }
   ],
   "source": [
    "import sys, ast, os\n",
    "import time\n",
    "import pickle\n",
    "import scanpy as sc\n",
    "import anndata\n",
    "import pandas as pd\n",
    "import numpy as np\n",
    "import os\n",
    "from plotnine import *\n",
    "import matplotlib.pyplot as plt \n",
    "import matplotlib\n",
    "data_type = 'float32'\n",
    "#os.environ[\"THEANO_FLAGS\"] = 'device=cuda,floatX=' + data_type + ',force_device=True'\n",
    "# /nfs/team283/vk7/software/miniconda3farm5/envs/cellpymc/bin/pip install git+https://github.com/vitkl/cell2location.git\n",
    "sys.path.insert(1, '/nfs/team205/vk7/sanger_projects/BayraktarLab/cell2location/')\n",
    "sys.path.insert(1, '/nfs/team205/vk7/sanger_projects/cell2location_dev/')\n",
    "from tqdm.autonotebook import tqdm\n",
    "\n",
    "from matplotlib import rcParams\n",
    "rcParams['pdf.fonttype'] = 42 # enables correct plotting of text\n",
    "rcParams['pdf.fonttype'] = 42\n",
    "import seaborn as sns\n",
    "import itertools\n",
    "\n",
    "# scanpy prints a lot of warnings\n",
    "import warnings\n",
    "warnings.filterwarnings('ignore')\n",
    "%config InlineBackend.figure_format = 'retina'"
   ]
  },
  {
   "cell_type": "markdown",
   "metadata": {},
   "source": [
    "`THEANO_FLAGS='force_device=True'` forces the package to use GPU. Pay attention to error messages that might indicate theano failed to initalise the GPU.   \n",
    "Do not forget to change `device=cuda4` to your available GPU id. Use `device=cuda` / `device=cuda0` if you have just one locally or if you are requesting one GPU via HPC cluster job."
   ]
  },
  {
   "cell_type": "code",
   "execution_count": 2,
   "metadata": {},
   "outputs": [
    {
     "name": "stderr",
     "output_type": "stream",
     "text": [
      "Trying to set attribute `.uns` of view, copying.\n"
     ]
    }
   ],
   "source": [
    "import sys\n",
    "import pickle\n",
    "import scanpy as sc\n",
    "import anndata\n",
    "import numpy as np\n",
    "import os\n",
    "import pandas as pd\n",
    "\n",
    "sys.path.insert(1, '/nfs/team205/vk7/sanger_projects/BayraktarLab/cell2location/')\n",
    "sys.path.insert(1, '/nfs/team205/vk7/sanger_projects/cell2location_dev/')\n",
    "\n",
    "import cell2location\n",
    "\n",
    "import matplotlib as mpl\n",
    "from matplotlib import pyplot as plt\n",
    "\n",
    "# scanpy prints a lot of warnings\n",
    "import warnings\n",
    "warnings.filterwarnings('ignore')\n",
    "\n",
    "def select_slide(adata, s, s_col='sample'):\n",
    "    r\"\"\" This function selects the data for one slide from the spatial anndata object.\n",
    "    \n",
    "    :param adata: Anndata object with multiple spatial experiments\n",
    "    :param s: name of selected experiment\n",
    "    :param s_col: column in adata.obs listing experiment name for each location\n",
    "    \"\"\"\n",
    "    \n",
    "    slide = adata[adata.obs[s_col].isin([s]), :]\n",
    "    s_keys = list(slide.uns['spatial'].keys())\n",
    "    s_spatial = np.array(s_keys)[[s in k for k in s_keys]][0]\n",
    "\n",
    "    slide.uns['spatial'] = {s_spatial: slide.uns['spatial'][s_spatial]}\n",
    "    \n",
    "    return slide\n",
    "\n",
    "# Set paths to data and results used through the document:\n",
    "sp_data_folder = '/nfs/team205/vk7/sanger_projects/large_data/gut_kj_re/oxford_visium/'\n",
    "results_folder = '/nfs/team205/vk7/sanger_projects/cell2location_paper/notebooks/selected_results/gut/'\n",
    "annotations_folder = '/nfs/team205/vk7/sanger_projects/collaborations/fetal_gut_mapping/results/tissue_annotation/oxford/'\n",
    "sc_results_folder = '/nfs/team205/vk7/sanger_projects/cell2location_proj/notebooks/results/gut/'\n",
    "\n",
    "regression_model_output = 'v1_ye_signatures_lr0002_Adam'\n",
    "reg_path = f'{results_folder}regression_model/{regression_model_output}/'\n",
    "## snRNAseq reference (raw counts)\n",
    "adata_snrna_raw = sc.read(f'{reg_path}sc.h5ad')\n",
    "\n",
    "run_name = 'c2l_v3_nonamortised_fulldata_epochs20k_lr0002_Adam_oxford_adult_paed_ref_signatures_N25_alphatest20'\n",
    "scvi_run_name = f'{results_folder}/{run_name}'\n",
    "\n",
    "# path for saving figures\n",
    "fig_path = f'{results_folder}{run_name}/plots/figures/'\n",
    "sc_figpath = sc.settings.figdir\n",
    "sc.settings.figdir = f'{fig_path}'\n",
    "\n",
    "sp_data_file = f'{results_folder}{run_name}/sp.h5ad'\n",
    "adata_vis = anndata.read(sp_data_file)\n",
    "\n",
    "# add 5% quantile, representing confident cell abundance, 'at least this amount is present', \n",
    "# to adata.obs with nice names for plotting\n",
    "adata_vis.obs[adata_vis.uns['mod']['factor_names']] = adata_vis.obsm['q05_cell_abundance_w_sf']\n",
    "\n",
    "\n",
    "# export estimated expression in each cluster\n",
    "if 'means_per_cluster_mu_fg' in adata_snrna_raw.varm.keys():\n",
    "    inf_aver = adata_snrna_raw.varm['means_per_cluster_mu_fg'][[f'means_per_cluster_mu_fg_{i}' \n",
    "                                    for i in adata_snrna_raw.uns['mod']['factor_names']]].copy()\n",
    "else:\n",
    "    inf_aver = adata_snrna_raw.var[[f'means_per_cluster_mu_fg_{i}' \n",
    "                                    for i in adata_snrna_raw.uns['mod']['factor_names']]].copy()\n",
    "inf_aver.columns = adata_snrna_raw.uns['mod']['factor_names']\n",
    "inf_aver.iloc[0:5, 0:5]\n",
    "\n",
    "slide = select_slide(adata_vis, 'A1')"
   ]
  },
  {
   "cell_type": "code",
   "execution_count": 3,
   "metadata": {},
   "outputs": [],
   "source": [
    "# region annotations for each cell type\n",
    "gold_standard_dict = {\n",
    "    'Cycling B cell': 'Lymphoid_structure',\n",
    "    'Naive B': 'Lymphoid_structure',\n",
    "    'SELL+ CD8 T': 'Lymphoid_structure',\n",
    "    'SELL+ CD4 T': 'Lymphoid_structure',\n",
    "    'Treg': 'Lymphoid_structure',\n",
    "    'T reticular': 'Lymphoid_structure',\n",
    "    'cDC2': 'Lymphoid_structure',\n",
    "    'cDC1': 'Lymphoid_structure',\n",
    "    'Lymphoid DC': 'Lymphoid_structure',\n",
    "    'DZ GC cell': 'Lymphoid_structure',\n",
    "    'Tfh': 'Lymphoid_structure',\n",
    "    'GC B cell': 'Lymphoid_structure',\n",
    "    'FDC': 'Lymphoid_structure',\n",
    "    'LZ GC cell': 'Lymphoid_structure',\n",
    "    'STAT1+ Naive B': 'Lymphoid_structure',\n",
    "    'FCRL4+ Memory B': 'Lymphoid_structure',\n",
    "    'Memory B': 'Lymphoid_structure',\n",
    "    'Activated CD4 T': 'Lymphoid_structure',\n",
    "    'CD8 Tmem': 'Lymphoid_structure',\n",
    "} \n",
    "gold_standard = pd.DataFrame(gold_standard_dict, index=['label']).T\n",
    "gold_standard.index = [f'gold_standard_{i}' for i in gold_standard.index]\n",
    "\n",
    "for ct in gold_standard.index:\n",
    "    adata_vis.obs[ct] = adata_vis.obs['Annotation'].isin([gold_standard.loc[ct, 'label']]).astype(float)\n",
    "    \n",
    "adata_vis.obs[gold_standard.index]\n",
    "\n",
    "from re import sub\n",
    "col_ind = [sub('gold_standard_','',i) for i in gold_standard.index]"
   ]
  },
  {
   "cell_type": "markdown",
   "metadata": {},
   "source": [
    "### The purpose of the notebook is to benchmark several versions of the model using mouse brain data."
   ]
  },
  {
   "cell_type": "code",
   "execution_count": 4,
   "metadata": {},
   "outputs": [],
   "source": [
    "from re import sub\n",
    "col_ind = [sub('gold_standard_','',i) for i in gold_standard.index]"
   ]
  },
  {
   "cell_type": "code",
   "execution_count": 5,
   "metadata": {},
   "outputs": [],
   "source": [
    "results_folder_st = f'{results_folder}oxford/rctd/'\n",
    "RCTD = pd.read_csv(f'{results_folder_st}results_selected_weights_76clusters.csv',\n",
    "                   index_col='spot')\n",
    "adata_vis = adata_vis[adata_vis.obs_names.isin(RCTD.index),:]\n",
    "\n",
    "# compute cell proportions\n",
    "RCTD = (RCTD.T / RCTD.sum(1)).T\n",
    "RCTD = RCTD.loc[adata_vis.obs_names,:]\n",
    "\n",
    "# adata_vis.obs[[f'RCTD_{i}' for i in RCTD.columns]] = RCTD.values\n",
    "\n",
    "results = [RCTD[col_ind]]\n",
    "names = ['RCTD']"
   ]
  },
  {
   "cell_type": "code",
   "execution_count": 6,
   "metadata": {},
   "outputs": [],
   "source": [
    "results_folder_st = f'{results_folder}oxford/scvi_stereoscope_selected_optimised_long/'\n",
    "scvi_stereoscope = anndata.read(f'{results_folder_st}/stmodel/sp_40k_released.h5ad')\n",
    "\n",
    "scvi_stereoscope = scvi_stereoscope.obsm['decomposition'].copy()\n",
    "scvi_stereoscope = (scvi_stereoscope.T / scvi_stereoscope.sum(1)).T\n",
    "scvi_stereoscope = scvi_stereoscope.loc[adata_vis.obs_names,:]\n",
    "\n",
    "# adata_vis.obs[[f'scVI_Stereoscope_{i}' for i in scvi_stereoscope.columns]] = scvi_stereoscope.values\n",
    "\n",
    "results = results + [scvi_stereoscope[col_ind]]\n",
    "names = names + ['scVI_Stereoscope']"
   ]
  },
  {
   "cell_type": "code",
   "execution_count": 7,
   "metadata": {},
   "outputs": [],
   "source": [
    "results_folder_st = f'{results_folder}oxford/seurat/'\n",
    "\n",
    "seurat = pd.read_csv(f'{results_folder_st}results_selected_76clusters_pca.csv', index_col=0)\n",
    "seurat = seurat.drop(columns=['predicted.id', 'spot', 'prediction.score.max'])\n",
    "\n",
    "from re import sub\n",
    "seurat.columns = [sub('prediction\\.score\\.', '', i) for i in seurat.columns]\n",
    "\n",
    "def remove_special_characters(df, special_list=[' ', '\\(', '\\)', '\\+', '\\\\\\\\', '/', '-', ';'],\n",
    "                              replace='.'):\n",
    "    from re import sub\n",
    "    for s in special_list:\n",
    "        df = [sub(s, replace, c) for c in df]\n",
    "            \n",
    "    return df\n",
    "\n",
    "inf_aver_copy = adata_vis.uns['mod']['factor_names'].copy()\n",
    "inf_aver_copy = remove_special_characters(inf_aver_copy)\n",
    "\n",
    "seurat = seurat[inf_aver_copy]\n",
    "seurat.columns = adata_vis.uns['mod']['factor_names']\n",
    "\n",
    "# compute cell proportions\n",
    "seurat = (seurat.T / seurat.sum(1)).T\n",
    "seurat = seurat.loc[adata_vis.obs_names,:]\n",
    "\n",
    "# adata_vis.obs[[f'Seurat_{i}' for i in seurat.columns]] = seurat.values\n",
    "\n",
    "results = results + [seurat[col_ind]]\n",
    "names = names + ['Seurat']"
   ]
  },
  {
   "cell_type": "code",
   "execution_count": 8,
   "metadata": {},
   "outputs": [
    {
     "name": "stderr",
     "output_type": "stream",
     "text": [
      "Trying to set attribute `.obs` of view, copying.\n"
     ]
    }
   ],
   "source": [
    "results_folder_st = f'{results_folder}oxford/SPOTlight/'\n",
    "\n",
    "SPOTlight = pd.read_csv(f'{results_folder_st}results_hvg5k_mincont001.csv',\n",
    "                       index_col='rn')\n",
    "SPOTlight = SPOTlight.drop(columns=['res_ss'])\n",
    "\n",
    "#from re import sub\n",
    "#SPOTlight.columns = [sub('\\.', '_',i) for i in SPOTlight.columns]\n",
    "#SPOTlight.columns = [sub('CD4_', 'CD4+',i) for i in SPOTlight.columns]\n",
    "#SPOTlight.columns = [sub('CD8_', 'CD8+',i) for i in SPOTlight.columns]\n",
    "#SPOTlight.columns = [sub('CCR7_', 'CCR7+',i) for i in SPOTlight.columns]\n",
    "\n",
    "def remove_special_characters(df, special_list=[' ', '\\(', '\\)', '\\+', '\\\\\\\\', '/', '-', ';'],\n",
    "                              replace='.'):\n",
    "    from re import sub\n",
    "    for s in special_list:\n",
    "        df = [sub(s, replace, c) for c in df]\n",
    "            \n",
    "    return df\n",
    "\n",
    "inf_aver_copy = adata_vis.uns['mod']['factor_names'].copy()\n",
    "inf_aver_copy = remove_special_characters(inf_aver_copy)\n",
    "\n",
    "SPOTlight = SPOTlight[inf_aver_copy]\n",
    "SPOTlight.columns = adata_vis.uns['mod']['factor_names']\n",
    "\n",
    "# compute cell proportions\n",
    "SPOTlight = (SPOTlight.T / SPOTlight.sum(1)).T\n",
    "SPOTlight[SPOTlight.isna()] = 0\n",
    "\n",
    "SPOTlight = SPOTlight.loc[adata_vis.obs_names,:]\n",
    "\n",
    "adata_vis.obs[[f'SPOTlight_{i}' for i in SPOTlight.columns]] = SPOTlight.values\n",
    "\n",
    "results = results + [SPOTlight[col_ind]]\n",
    "names = names + ['SPOTlight']"
   ]
  },
  {
   "cell_type": "code",
   "execution_count": 9,
   "metadata": {},
   "outputs": [],
   "source": [
    "results_folder_st = f'{results_folder}oxford/autogenes_models/'\n",
    "nnls = pd.read_csv(f'{results_folder_st}coef_nnls_selected_seed.csv', index_col=0).T\n",
    "\n",
    "# compute cell proportions\n",
    "nnls = (nnls.T / nnls.sum(1)).T\n",
    "nnls[nnls.isna()] = 0\n",
    "\n",
    "nnls = nnls.loc[adata_vis.obs_names,:]\n",
    "\n",
    "# adata_vis.obs[[f'NNSL_{i}' for i in nnls.columns]] = nnls.values\n",
    "\n",
    "results = results + [nnls[col_ind]]\n",
    "names = names + ['NNSL']"
   ]
  },
  {
   "cell_type": "code",
   "execution_count": 10,
   "metadata": {},
   "outputs": [],
   "source": [
    "pos_cell_count = adata_vis.obs[gold_standard.index].values\n",
    "pos_cell_count_df = adata_vis.obs[gold_standard.index]\n",
    "\n",
    "cell2loc = adata_vis.obs[adata_vis.uns['mod']['factor_names']]\n",
    "cell2loc = (cell2loc.T / cell2loc.sum(1)).T\n",
    "\n",
    "# adata_vis.obs[[f'cell2location_{i}' for i in cell2loc.columns]] = cell2loc.values\n",
    "\n",
    "results =  [cell2loc[col_ind]] + results\n",
    "names = ['cell2location'] + names"
   ]
  },
  {
   "cell_type": "code",
   "execution_count": 11,
   "metadata": {},
   "outputs": [],
   "source": [
    "from sklearn.metrics import average_precision_score\n",
    "from sklearn.metrics import roc_auc_score\n",
    "\n",
    "rows = []\n",
    "\n",
    "for cell_prop_df, method_name in zip(results, names):\n",
    "    predictor = cell_prop_df.values + np.random.gamma(20, 1e-12, cell_prop_df.shape)\n",
    "\n",
    "    mode = 'macro'\n",
    "    PR_macro = average_precision_score(pos_cell_count, predictor, average=mode)\n",
    "\n",
    "    mode = 'micro'\n",
    "    PR_micro = average_precision_score(pos_cell_count, predictor, average=mode)\n",
    "\n",
    "\n",
    "    rows.append((method_name, PR_macro, PR_micro))\n",
    "    \n",
    "other_methods_df = pd.DataFrame(rows, columns=['method_name', 'PR_score_macro', 'PR_score_micro'])"
   ]
  },
  {
   "cell_type": "code",
   "execution_count": 12,
   "metadata": {},
   "outputs": [
    {
     "data": {
      "text/html": [
       "<div>\n",
       "<style scoped>\n",
       "    .dataframe tbody tr th:only-of-type {\n",
       "        vertical-align: middle;\n",
       "    }\n",
       "\n",
       "    .dataframe tbody tr th {\n",
       "        vertical-align: top;\n",
       "    }\n",
       "\n",
       "    .dataframe thead th {\n",
       "        text-align: right;\n",
       "    }\n",
       "</style>\n",
       "<table border=\"1\" class=\"dataframe\">\n",
       "  <thead>\n",
       "    <tr style=\"text-align: right;\">\n",
       "      <th></th>\n",
       "      <th>method_name</th>\n",
       "      <th>PR_score_macro</th>\n",
       "      <th>PR_score_micro</th>\n",
       "    </tr>\n",
       "  </thead>\n",
       "  <tbody>\n",
       "    <tr>\n",
       "      <th>0</th>\n",
       "      <td>cell2location</td>\n",
       "      <td>0.501485</td>\n",
       "      <td>0.153989</td>\n",
       "    </tr>\n",
       "    <tr>\n",
       "      <th>1</th>\n",
       "      <td>RCTD</td>\n",
       "      <td>0.274345</td>\n",
       "      <td>0.188495</td>\n",
       "    </tr>\n",
       "    <tr>\n",
       "      <th>2</th>\n",
       "      <td>scVI_Stereoscope</td>\n",
       "      <td>0.015738</td>\n",
       "      <td>0.011437</td>\n",
       "    </tr>\n",
       "    <tr>\n",
       "      <th>3</th>\n",
       "      <td>Seurat</td>\n",
       "      <td>0.206046</td>\n",
       "      <td>0.195320</td>\n",
       "    </tr>\n",
       "    <tr>\n",
       "      <th>4</th>\n",
       "      <td>SPOTlight</td>\n",
       "      <td>0.058638</td>\n",
       "      <td>0.029351</td>\n",
       "    </tr>\n",
       "    <tr>\n",
       "      <th>5</th>\n",
       "      <td>NNSL</td>\n",
       "      <td>0.057055</td>\n",
       "      <td>0.040572</td>\n",
       "    </tr>\n",
       "  </tbody>\n",
       "</table>\n",
       "</div>"
      ],
      "text/plain": [
       "        method_name  PR_score_macro  PR_score_micro\n",
       "0     cell2location        0.501485        0.153989\n",
       "1              RCTD        0.274345        0.188495\n",
       "2  scVI_Stereoscope        0.015738        0.011437\n",
       "3            Seurat        0.206046        0.195320\n",
       "4         SPOTlight        0.058638        0.029351\n",
       "5              NNSL        0.057055        0.040572"
      ]
     },
     "execution_count": 12,
     "metadata": {},
     "output_type": "execute_result"
    }
   ],
   "source": [
    "other_methods_df"
   ]
  },
  {
   "cell_type": "code",
   "execution_count": 13,
   "metadata": {},
   "outputs": [],
   "source": [
    "# Set paths to data and results used through the document:\n",
    "sp_data_folder = '/nfs/team205/vk7/sanger_projects/large_data/gut_kj_re/oxford_visium/'\n",
    "results_folder = '/nfs/team205/vk7/sanger_projects/cell2location_paper/notebooks/selected_results/gut/'\n",
    "annotations_folder = '/nfs/team205/vk7/sanger_projects/collaborations/fetal_gut_mapping/results/tissue_annotation/oxford/'\n",
    "sc_results_folder = '/nfs/team205/vk7/sanger_projects/cell2location_proj/notebooks/results/gut/'\n",
    "\n",
    "regression_model_output = 'v1_ye_signatures_lr0002_Adam'\n",
    "reg_path = f'{results_folder}regression_model/{regression_model_output}/'\n",
    "## snRNAseq reference (raw counts)\n",
    "adata_snrna_raw = sc.read(f'{reg_path}sc.h5ad')\n",
    "\n",
    "run_name = 'c2l_v3_nonamortised_fulldata_epochs20k_lr0002_Adam_oxford_adult_paed_ref_signatures_N25_alphatest20'\n",
    "scvi_run_name = f'{results_folder}/{run_name}'\n",
    "\n",
    "# path for saving figures\n",
    "fig_path = f'{results_folder}{run_name}/plots/figures/'\n",
    "sc_figpath = sc.settings.figdir\n",
    "sc.settings.figdir = f'{fig_path}'\n",
    "\n",
    "sp_data_file = f'{results_folder}{run_name}/sp.h5ad'\n",
    "adata_vis = anndata.read(sp_data_file)\n",
    "\n",
    "# add 5% quantile, representing confident cell abundance, 'at least this amount is present', \n",
    "# to adata.obs with nice names for plotting\n",
    "adata_vis.obs[adata_vis.uns['mod']['factor_names']] = adata_vis.obsm['q05_cell_abundance_w_sf']\n",
    "\n",
    "gold_standard = pd.DataFrame(gold_standard_dict, index=['label']).T\n",
    "gold_standard.index = [f'gold_standard_{i}' for i in gold_standard.index]\n",
    "\n",
    "for ct in gold_standard.index:\n",
    "    adata_vis.obs[ct] = adata_vis.obs['Annotation'].isin([gold_standard.loc[ct, 'label']]).astype(float)\n",
    "    \n",
    "adata_vis.obs[gold_standard.index]\n",
    "\n",
    "from re import sub\n",
    "col_ind = [sub('gold_standard_','',i) for i in gold_standard.index]"
   ]
  },
  {
   "cell_type": "code",
   "execution_count": 14,
   "metadata": {},
   "outputs": [],
   "source": [
    "sc_data_folder = '/nfs/team205/vk7/sanger_projects/cell2location_paper/notebooks/selected_data/mouse_visium_snrna/'\n",
    "sp_data_folder = '/nfs/team205/vk7/sanger_projects/cell2location_paper/notebooks/selected_results/benchmarking/with_tissue_zones/data/'\n",
    "results_folder = '/nfs/team205/vk7/sanger_projects/cell2location_paper/notebooks/selected_results/gut/hyperparameters_v2/'"
   ]
  },
  {
   "cell_type": "code",
   "execution_count": 15,
   "metadata": {},
   "outputs": [],
   "source": [
    "folder_names = [i for i in os.listdir(results_folder) if 'test' in i]\n",
    "res = pd.concat([pd.read_csv(f'{results_folder}/param_tables/table_{i}.csv') for i in range(8)])"
   ]
  },
  {
   "cell_type": "code",
   "execution_count": 16,
   "metadata": {},
   "outputs": [],
   "source": [
    "res.index = res['names']"
   ]
  },
  {
   "cell_type": "markdown",
   "metadata": {},
   "source": [
    "### Read and compute R^2 and PR score"
   ]
  },
  {
   "cell_type": "code",
   "execution_count": 17,
   "metadata": {},
   "outputs": [
    {
     "data": {
      "application/vnd.jupyter.widget-view+json": {
       "model_id": "b00dd5255af24afe98ba993f03cda916",
       "version_major": 2,
       "version_minor": 0
      },
      "text/plain": [
       "0it [00:00, ?it/s]"
      ]
     },
     "metadata": {},
     "output_type": "display_data"
    }
   ],
   "source": [
    "from sklearn.metrics import average_precision_score\n",
    "from sklearn.metrics import roc_auc_score\n",
    "\n",
    "for i, f in tqdm(enumerate(folder_names[:])):\n",
    "    \n",
    "    sp_data_file = f'{results_folder}/{f}/sp.h5ad'\n",
    "    adata_vis_res = anndata.read(sp_data_file)\n",
    "\n",
    "    spot_factors = adata_vis_res.obsm['q05_cell_abundance_w_sf']\n",
    "    spot_factors.columns = adata_vis_res.uns['mod']['factor_names']\n",
    "    infer_cell_count = spot_factors[col_ind]\n",
    "\n",
    "    infer_cell_count_cell_proportions = (infer_cell_count.T / infer_cell_count.sum(1)).T\n",
    "    \n",
    "    predictor = infer_cell_count.values\n",
    "    # For each cell type\n",
    "    mode = 'macro'\n",
    "    res.loc[f, f'PR_score_{mode}'] = average_precision_score(adata_vis.obs[gold_standard.index].values.astype(bool), predictor, average=mode)\n",
    "    #res.loc[f, f'ROC_score_{mode}'] = roc_auc_score(pos_cell_count, predictor, average=mode)\n",
    "    mode = 'micro'\n",
    "    res.loc[f, f'PR_score_{mode}'] = average_precision_score(adata_vis.obs[gold_standard.index].values.astype(bool), predictor, average=mode)\n",
    "    #res.loc[f, f'ROC_score_{mode}'] = roc_auc_score(pos_cell_count, predictor, average=mode)"
   ]
  },
  {
   "cell_type": "markdown",
   "metadata": {},
   "source": [
    "### Look at stability of inference for relative values"
   ]
  },
  {
   "cell_type": "code",
   "execution_count": 18,
   "metadata": {},
   "outputs": [
    {
     "data": {
      "image/png": "[encoded data removed]",
      "text/plain": [
       "<Figure size 864x216 with 4 Axes>"
      ]
     },
     "metadata": {
      "image/png": {
       "height": 205,
       "width": 1013
      },
      "needs_background": "light"
     },
     "output_type": "display_data"
    }
   ],
   "source": [
    "import statsmodels.api as sm\n",
    "\n",
    "default_params = {'detection_alpha': 20, 'N_cells_per_location': 25, \n",
    "                  'A_factors_per_location':7, 'B_groups_per_location': 7}\n",
    "\n",
    "fig, axs = plt.subplots(nrows=1, ncols=4, figsize=(12, 3), sharex=True, sharey='row')\n",
    "axs = axs[None, :]\n",
    "\n",
    "param_names = ['detection_alpha', 'N_cells_per_location', 'A_factors_per_location', 'B_groups_per_location']\n",
    "score_names = ['PR_score_macro']\n",
    "\n",
    "res2_ = res.iloc[:, :25].dropna()\n",
    "\n",
    "for n_score, score_name in enumerate(score_names):\n",
    "    for n_param, param_name in enumerate(param_names):\n",
    "        res2 = pd.concat([res2_[res2_[param_name] != default_params[param_name]], res2_[:1]])\n",
    "        ax = axs[n_score, n_param]\n",
    "#         ax.scatter(res2[param_name].values.flatten(), res2[score_name].values.flatten())\n",
    "        gb = res2[[param_name, score_name]].groupby(param_name)\n",
    "        w = 0.1\n",
    "        width = lambda p, w: 10**(np.log10(p)+w/2.)-10**(np.log10(p)-w/2.)\n",
    "        pos = [i[0] for i in gb]\n",
    "        values = [i[1][score_name].values for i in gb]\n",
    "#         ax.boxplot(values, positions=pos, widths=width(pos,w))\n",
    "#         ax.plot([], [], color='k', label='Cell2location\\nhyperparameter\\nchoices')\n",
    "        lowess_sm = sm.nonparametric.lowess\n",
    "#         yest_sm = lowess_sm(res2[score_name].values.flatten() ,np.log10(res2[param_name].values.flatten()), \n",
    "#                             frac=1/2, it=5, return_sorted=True)\n",
    "#         ax.plot(10**yest_sm[:, 0], yest_sm[:, 1], color='C0', label='Hyperparameter\\nlocal\\nregression')\n",
    "        ax.scatter(res2[param_name].values.flatten(), res2[score_name].values.flatten(), label='Cell2location\\nhyperparameter\\nchoices')\n",
    "        ax.scatter(res2_[:1][param_name].values.flatten(), res2_[:1][score_name].values.flatten(), label='Cell2location\\paper\\nparameters')\n",
    "        ax.set_xscale('log')\n",
    "        if ax.is_first_row():\n",
    "            ax.set_title(param_name)\n",
    "            secax_x = ax.secondary_xaxis('top', functions=(lambda x: x, lambda x: x))\n",
    "            secax_x.set_xticks(pos)\n",
    "            secax_x.set_xticklabels(np.array(pos).astype(int), rotation=75)\n",
    "            secax_x.minorticks_off()\n",
    "        if ax.is_first_col():\n",
    "            ax.set_ylabel(score_name)\n",
    "        \n",
    "        x_min, x_max = ax.set_xlim(0.75, 1250)\n",
    "        \n",
    "        if score_name in other_methods_df.columns:\n",
    "            for n, name, score in other_methods_df.loc[:, ['method_name', score_name]].itertuples():\n",
    "                color = sc.pl.palettes.default_102[n]\n",
    "                if n == 0:\n",
    "                    color = 'xkcd:off yellow'\n",
    "                ax.hlines(score, 0.75, 1250, colors=[color], \n",
    "                          linewidth=2, label=name, linestyle=(0, (3, 4)))\n",
    "        \n",
    "plt.figlegend(*axs[0,0].get_legend_handles_labels(), bbox_to_anchor=(1.01,0.475), loc=\"center left\")\n",
    "        \n",
    "plt.tight_layout()\n",
    "\n",
    "plt.savefig(f'{fig_path}fixed_stability_local_regression_synthetic.pdf', bbox_inches='tight')"
   ]
  },
  {
   "cell_type": "code",
   "execution_count": 19,
   "metadata": {},
   "outputs": [
    {
     "data": {
      "text/plain": [
       "'/nfs/team205/vk7/sanger_projects/cell2location_paper/notebooks/selected_results/gut/c2l_v3_nonamortised_fulldata_epochs20k_lr0002_Adam_oxford_adult_paed_ref_signatures_N25_alphatest20/plots/figures/'"
      ]
     },
     "execution_count": 19,
     "metadata": {},
     "output_type": "execute_result"
    }
   ],
   "source": [
    "fig_path"
   ]
  },
  {
   "cell_type": "code",
   "execution_count": null,
   "metadata": {},
   "outputs": [],
   "source": []
  }
 ],
 "metadata": {
  "kernelspec": {
   "display_name": "Python (pyro160)",
   "language": "python",
   "name": "pyro160"
  },
  "language_info": {
   "codemirror_mode": {
    "name": "ipython",
    "version": 3
   },
   "file_extension": ".py",
   "mimetype": "text/x-python",
   "name": "python",
   "nbconvert_exporter": "python",
   "pygments_lexer": "ipython3",
   "version": "3.7.10"
  }
 },
 "nbformat": 4,
 "nbformat_minor": 4
}
